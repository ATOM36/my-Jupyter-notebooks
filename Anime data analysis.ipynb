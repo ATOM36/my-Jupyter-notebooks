{
 "cells": [
  {
   "cell_type": "code",
   "execution_count": 1,
   "id": "0bf94100",
   "metadata": {},
   "outputs": [],
   "source": [
    "import numpy as np\n",
    "import pandas as pd\n",
    "import seaborn as sns\n",
    "import matplotlib.pyplot as plt"
   ]
  },
  {
   "cell_type": "markdown",
   "id": "87a7058c",
   "metadata": {},
   "source": [
    "# Loading the data"
   ]
  },
  {
   "cell_type": "code",
   "execution_count": 2,
   "id": "6e6bc5ee",
   "metadata": {},
   "outputs": [
    {
     "data": {
      "text/html": [
       "<div>\n",
       "<style scoped>\n",
       "    .dataframe tbody tr th:only-of-type {\n",
       "        vertical-align: middle;\n",
       "    }\n",
       "\n",
       "    .dataframe tbody tr th {\n",
       "        vertical-align: top;\n",
       "    }\n",
       "\n",
       "    .dataframe thead th {\n",
       "        text-align: right;\n",
       "    }\n",
       "</style>\n",
       "<table border=\"1\" class=\"dataframe\">\n",
       "  <thead>\n",
       "    <tr style=\"text-align: right;\">\n",
       "      <th></th>\n",
       "      <th>Unnamed: 0</th>\n",
       "      <th>name</th>\n",
       "      <th>studio</th>\n",
       "      <th>theme</th>\n",
       "      <th>tags</th>\n",
       "      <th>source</th>\n",
       "      <th>rating</th>\n",
       "      <th>year</th>\n",
       "      <th>synopsis</th>\n",
       "      <th>demographic</th>\n",
       "      <th>status</th>\n",
       "      <th>eps</th>\n",
       "      <th>eps_avg_duration_in_min</th>\n",
       "      <th>rated_by</th>\n",
       "    </tr>\n",
       "  </thead>\n",
       "  <tbody>\n",
       "    <tr>\n",
       "      <th>0</th>\n",
       "      <td>0</td>\n",
       "      <td>Shingeki no Kyojin</td>\n",
       "      <td>Wit Studio</td>\n",
       "      <td>Gore, Military, Survival</td>\n",
       "      <td>Action, Drama</td>\n",
       "      <td>Manga</td>\n",
       "      <td>8.53</td>\n",
       "      <td>2013.0</td>\n",
       "      <td>Centuries ago, mankind was slaughtered to near...</td>\n",
       "      <td>Shounen</td>\n",
       "      <td>Finished</td>\n",
       "      <td>25.0</td>\n",
       "      <td>24.0</td>\n",
       "      <td>3.4M</td>\n",
       "    </tr>\n",
       "    <tr>\n",
       "      <th>1</th>\n",
       "      <td>1</td>\n",
       "      <td>Death Note</td>\n",
       "      <td>Madhouse</td>\n",
       "      <td>Psychological</td>\n",
       "      <td>Supernatural, Suspense</td>\n",
       "      <td>Manga</td>\n",
       "      <td>8.63</td>\n",
       "      <td>2006.0</td>\n",
       "      <td>Brutal murders, petty thefts, and senseless vi...</td>\n",
       "      <td>Shounen</td>\n",
       "      <td>Finished</td>\n",
       "      <td>37.0</td>\n",
       "      <td>23.0</td>\n",
       "      <td>3.4M</td>\n",
       "    </tr>\n",
       "    <tr>\n",
       "      <th>2</th>\n",
       "      <td>2</td>\n",
       "      <td>Fullmetal Alchemist: Brotherhood</td>\n",
       "      <td>Bones</td>\n",
       "      <td>Military</td>\n",
       "      <td>Action, Adventure, Drama, Fantasy</td>\n",
       "      <td>Manga</td>\n",
       "      <td>9.14</td>\n",
       "      <td>2009.0</td>\n",
       "      <td>After a horrific alchemy experiment goes wrong...</td>\n",
       "      <td>Shounen</td>\n",
       "      <td>Finished</td>\n",
       "      <td>64.0</td>\n",
       "      <td>24.0</td>\n",
       "      <td>2.9M</td>\n",
       "    </tr>\n",
       "    <tr>\n",
       "      <th>3</th>\n",
       "      <td>3</td>\n",
       "      <td>Boku no Hero Academia</td>\n",
       "      <td>Bones</td>\n",
       "      <td>School, Super Power</td>\n",
       "      <td>Action</td>\n",
       "      <td>Manga</td>\n",
       "      <td>7.95</td>\n",
       "      <td>2016.0</td>\n",
       "      <td>The appearance of \"quirks,\" newly discovered s...</td>\n",
       "      <td>Shounen</td>\n",
       "      <td>Finished</td>\n",
       "      <td>13.0</td>\n",
       "      <td>24.0</td>\n",
       "      <td>2.6M</td>\n",
       "    </tr>\n",
       "    <tr>\n",
       "      <th>4</th>\n",
       "      <td>4</td>\n",
       "      <td>Naruto</td>\n",
       "      <td>Studio Pierrot</td>\n",
       "      <td>Martial Arts</td>\n",
       "      <td>Action, Adventure, Fantasy</td>\n",
       "      <td>Manga</td>\n",
       "      <td>7.97</td>\n",
       "      <td>2002.0</td>\n",
       "      <td>Moments prior to Naruto Uzumaki's birth, a hug...</td>\n",
       "      <td>Shounen</td>\n",
       "      <td>Finished</td>\n",
       "      <td>220.0</td>\n",
       "      <td>23.0</td>\n",
       "      <td>2.5M</td>\n",
       "    </tr>\n",
       "  </tbody>\n",
       "</table>\n",
       "</div>"
      ],
      "text/plain": [
       "   Unnamed: 0                              name          studio  \\\n",
       "0           0                Shingeki no Kyojin      Wit Studio   \n",
       "1           1                        Death Note        Madhouse   \n",
       "2           2  Fullmetal Alchemist: Brotherhood           Bones   \n",
       "3           3             Boku no Hero Academia           Bones   \n",
       "4           4                            Naruto  Studio Pierrot   \n",
       "\n",
       "                      theme                               tags source  rating  \\\n",
       "0  Gore, Military, Survival                      Action, Drama  Manga    8.53   \n",
       "1             Psychological             Supernatural, Suspense  Manga    8.63   \n",
       "2                  Military  Action, Adventure, Drama, Fantasy  Manga    9.14   \n",
       "3       School, Super Power                             Action  Manga    7.95   \n",
       "4              Martial Arts         Action, Adventure, Fantasy  Manga    7.97   \n",
       "\n",
       "     year                                           synopsis demographic  \\\n",
       "0  2013.0  Centuries ago, mankind was slaughtered to near...     Shounen   \n",
       "1  2006.0  Brutal murders, petty thefts, and senseless vi...     Shounen   \n",
       "2  2009.0  After a horrific alchemy experiment goes wrong...     Shounen   \n",
       "3  2016.0  The appearance of \"quirks,\" newly discovered s...     Shounen   \n",
       "4  2002.0  Moments prior to Naruto Uzumaki's birth, a hug...     Shounen   \n",
       "\n",
       "     status    eps  eps_avg_duration_in_min rated_by  \n",
       "0  Finished   25.0                     24.0     3.4M  \n",
       "1  Finished   37.0                     23.0     3.4M  \n",
       "2  Finished   64.0                     24.0     2.9M  \n",
       "3  Finished   13.0                     24.0     2.6M  \n",
       "4  Finished  220.0                     23.0     2.5M  "
      ]
     },
     "execution_count": 2,
     "metadata": {},
     "output_type": "execute_result"
    }
   ],
   "source": [
    "anime_data = pd.read_csv(\"../Data/anime-list.csv\")\n",
    "anime_data.head()"
   ]
  },
  {
   "cell_type": "code",
   "execution_count": 3,
   "id": "2a64a47c",
   "metadata": {},
   "outputs": [],
   "source": [
    "anime_data.drop('Unnamed: 0',axis=1, inplace=True)"
   ]
  },
  {
   "cell_type": "markdown",
   "id": "5d146eb1",
   "metadata": {},
   "source": [
    "# General overview of the dataset"
   ]
  },
  {
   "cell_type": "code",
   "execution_count": 4,
   "id": "152dcdf9",
   "metadata": {},
   "outputs": [
    {
     "data": {
      "text/html": [
       "<div>\n",
       "<style scoped>\n",
       "    .dataframe tbody tr th:only-of-type {\n",
       "        vertical-align: middle;\n",
       "    }\n",
       "\n",
       "    .dataframe tbody tr th {\n",
       "        vertical-align: top;\n",
       "    }\n",
       "\n",
       "    .dataframe thead th {\n",
       "        text-align: right;\n",
       "    }\n",
       "</style>\n",
       "<table border=\"1\" class=\"dataframe\">\n",
       "  <thead>\n",
       "    <tr style=\"text-align: right;\">\n",
       "      <th></th>\n",
       "      <th>rating</th>\n",
       "      <th>year</th>\n",
       "      <th>eps</th>\n",
       "      <th>eps_avg_duration_in_min</th>\n",
       "    </tr>\n",
       "  </thead>\n",
       "  <tbody>\n",
       "    <tr>\n",
       "      <th>count</th>\n",
       "      <td>1812.000000</td>\n",
       "      <td>2949.000000</td>\n",
       "      <td>2890.000000</td>\n",
       "      <td>2950.000000</td>\n",
       "    </tr>\n",
       "    <tr>\n",
       "      <th>mean</th>\n",
       "      <td>7.043311</td>\n",
       "      <td>2007.264157</td>\n",
       "      <td>43.062284</td>\n",
       "      <td>18.194576</td>\n",
       "    </tr>\n",
       "    <tr>\n",
       "      <th>std</th>\n",
       "      <td>0.776097</td>\n",
       "      <td>12.151285</td>\n",
       "      <td>75.149153</td>\n",
       "      <td>8.019819</td>\n",
       "    </tr>\n",
       "    <tr>\n",
       "      <th>min</th>\n",
       "      <td>2.930000</td>\n",
       "      <td>1963.000000</td>\n",
       "      <td>2.000000</td>\n",
       "      <td>0.000000</td>\n",
       "    </tr>\n",
       "    <tr>\n",
       "      <th>25%</th>\n",
       "      <td>6.490000</td>\n",
       "      <td>2002.000000</td>\n",
       "      <td>13.000000</td>\n",
       "      <td>12.000000</td>\n",
       "    </tr>\n",
       "    <tr>\n",
       "      <th>50%</th>\n",
       "      <td>7.050000</td>\n",
       "      <td>2011.000000</td>\n",
       "      <td>26.000000</td>\n",
       "      <td>23.000000</td>\n",
       "    </tr>\n",
       "    <tr>\n",
       "      <th>75%</th>\n",
       "      <td>7.550000</td>\n",
       "      <td>2016.000000</td>\n",
       "      <td>51.000000</td>\n",
       "      <td>24.000000</td>\n",
       "    </tr>\n",
       "    <tr>\n",
       "      <th>max</th>\n",
       "      <td>9.140000</td>\n",
       "      <td>2023.000000</td>\n",
       "      <td>1787.000000</td>\n",
       "      <td>50.000000</td>\n",
       "    </tr>\n",
       "  </tbody>\n",
       "</table>\n",
       "</div>"
      ],
      "text/plain": [
       "            rating         year          eps  eps_avg_duration_in_min\n",
       "count  1812.000000  2949.000000  2890.000000              2950.000000\n",
       "mean      7.043311  2007.264157    43.062284                18.194576\n",
       "std       0.776097    12.151285    75.149153                 8.019819\n",
       "min       2.930000  1963.000000     2.000000                 0.000000\n",
       "25%       6.490000  2002.000000    13.000000                12.000000\n",
       "50%       7.050000  2011.000000    26.000000                23.000000\n",
       "75%       7.550000  2016.000000    51.000000                24.000000\n",
       "max       9.140000  2023.000000  1787.000000                50.000000"
      ]
     },
     "execution_count": 4,
     "metadata": {},
     "output_type": "execute_result"
    }
   ],
   "source": [
    "anime_data.describe()"
   ]
  },
  {
   "cell_type": "code",
   "execution_count": 5,
   "id": "fdb3e37b",
   "metadata": {},
   "outputs": [
    {
     "name": "stdout",
     "output_type": "stream",
     "text": [
      "<class 'pandas.core.frame.DataFrame'>\n",
      "RangeIndex: 3005 entries, 0 to 3004\n",
      "Data columns (total 13 columns):\n",
      " #   Column                   Non-Null Count  Dtype  \n",
      "---  ------                   --------------  -----  \n",
      " 0   name                     3005 non-null   object \n",
      " 1   studio                   3005 non-null   object \n",
      " 2   theme                    3005 non-null   object \n",
      " 3   tags                     2470 non-null   object \n",
      " 4   source                   2510 non-null   object \n",
      " 5   rating                   1812 non-null   float64\n",
      " 6   year                     2949 non-null   float64\n",
      " 7   synopsis                 2315 non-null   object \n",
      " 8   demographic              3005 non-null   object \n",
      " 9   status                   2981 non-null   object \n",
      " 10  eps                      2890 non-null   float64\n",
      " 11  eps_avg_duration_in_min  2950 non-null   float64\n",
      " 12  rated_by                 3005 non-null   object \n",
      "dtypes: float64(4), object(9)\n",
      "memory usage: 305.3+ KB\n"
     ]
    }
   ],
   "source": [
    "anime_data.info()"
   ]
  },
  {
   "cell_type": "markdown",
   "id": "75fd2a51",
   "metadata": {},
   "source": [
    "# Evaluating NaN values"
   ]
  },
  {
   "cell_type": "markdown",
   "id": "1c12b329",
   "metadata": {},
   "source": [
    "### Counting NaN values"
   ]
  },
  {
   "cell_type": "code",
   "execution_count": 6,
   "id": "50a62b73",
   "metadata": {},
   "outputs": [
    {
     "name": "stdout",
     "output_type": "stream",
     "text": [
      "The dataframe has 3163 cells with NaN value\n"
     ]
    },
    {
     "data": {
      "text/plain": [
       "name                          0\n",
       "studio                        0\n",
       "theme                         0\n",
       "tags                        535\n",
       "source                      495\n",
       "rating                     1193\n",
       "year                         56\n",
       "synopsis                    690\n",
       "demographic                   0\n",
       "status                       24\n",
       "eps                         115\n",
       "eps_avg_duration_in_min      55\n",
       "rated_by                      0\n",
       "dtype: int64"
      ]
     },
     "execution_count": 6,
     "metadata": {},
     "output_type": "execute_result"
    }
   ],
   "source": [
    "missing_count = anime_data.isna().sum()\n",
    "total_missing = missing_count.sum()\n",
    "\n",
    "print(f\"The dataframe has {total_missing} cells with NaN value\")\n",
    "missing_count"
   ]
  },
  {
   "cell_type": "markdown",
   "id": "a61bc2da",
   "metadata": {},
   "source": [
    "### Calculating the percentage"
   ]
  },
  {
   "cell_type": "code",
   "execution_count": 7,
   "id": "b279a384",
   "metadata": {},
   "outputs": [
    {
     "name": "stdout",
     "output_type": "stream",
     "text": [
      "There is an amount of 8.096761807244336% missing values\n"
     ]
    }
   ],
   "source": [
    "total_cells = np.product(anime_data.shape)\n",
    "\n",
    "missing_percentage = (total_missing / total_cells) * 100\n",
    "print(f\"There is an amount of {missing_percentage}% missing values\")"
   ]
  },
  {
   "cell_type": "markdown",
   "id": "1f37ae69",
   "metadata": {},
   "source": [
    "## Filling NaN cells\n",
    "1. Handling numerical values\n",
    "---\n",
    "A `random value` will be generated based on the `maximum` and `minimum` values of each numerical column as a `placeholder`<br> for NaN values.<br>\n",
    "Then if the given column must hold `int` values then a casting will be made."
   ]
  },
  {
   "cell_type": "code",
   "execution_count": 8,
   "id": "910cb6e5",
   "metadata": {},
   "outputs": [
    {
     "data": {
      "text/plain": [
       "['rating', 'year', 'eps', 'eps_avg_duration_in_min']"
      ]
     },
     "execution_count": 8,
     "metadata": {},
     "output_type": "execute_result"
    }
   ],
   "source": [
    "# Retrieving the columns that hold numerical values\n",
    "numerical_cols = list(\n",
    "    filter(lambda column: \n",
    "               anime_data[column].dtype == 'float64' or anime_data[column].dtype == 'int32', \n",
    "           anime_data.columns\n",
    "          ))\n",
    "\n",
    "for column in numerical_cols:\n",
    "    column = str(column).strip()\n",
    "\n",
    "numerical_cols"
   ]
  },
  {
   "cell_type": "code",
   "execution_count": 9,
   "id": "a482ece9",
   "metadata": {},
   "outputs": [],
   "source": [
    "np.random.seed(16)\n",
    "\n",
    "for column in numerical_cols:\n",
    "    minimum = anime_data[column].min()\n",
    "    maximum = anime_data[column].max()\n",
    "    \n",
    "    if column != \"rating\":\n",
    "        minimum = int(minimum)\n",
    "        maximum = int(maximum)\n",
    "    \n",
    "    placeholder = np.random.choice(np.random.randint(minimum, maximum, size=(1)))\n",
    "    \n",
    "    anime_data[column].fillna(placeholder, inplace=True)\n",
    "    \n",
    "    if column != \"rating\":\n",
    "        anime_data[column] = anime_data[column].astype(int)"
   ]
  },
  {
   "cell_type": "markdown",
   "id": "3b8b9ee7",
   "metadata": {},
   "source": [
    "2. Handling non numerical values\n",
    "- 2.1 Retrieving the number of rates and converting them to int type"
   ]
  },
  {
   "cell_type": "code",
   "execution_count": 10,
   "id": "0a228405",
   "metadata": {},
   "outputs": [
    {
     "data": {
      "text/plain": [
       "{'0', '1', '2', '3', '4', '5', '6', '7', '8', '9', 'K', 'M'}"
      ]
     },
     "execution_count": 10,
     "metadata": {},
     "output_type": "execute_result"
    }
   ],
   "source": [
    "units = [value[-1] for value in anime_data.rated_by.values]\n",
    "set(units)"
   ]
  },
  {
   "cell_type": "markdown",
   "id": "aa3d1a65",
   "metadata": {},
   "source": [
    "The highest value is the million"
   ]
  },
  {
   "cell_type": "code",
   "execution_count": 11,
   "id": "5f56fb79",
   "metadata": {},
   "outputs": [],
   "source": [
    "def fix_zeros(value:str,symbol:str,zeros_count:int):\n",
    "    copy = value.replace(symbol,\"\")\n",
    "    value = value.replace(\".\",\"\")\n",
    "    dot_index = copy.index(\".\") if \".\" in copy else 0\n",
    "    \n",
    "    # if there is no dot in the value\n",
    "    if dot_index <= 0:\n",
    "        return value.replace(symbol, \"0\" * (zeros_count - len(copy) + 1))\n",
    "\n",
    "    else:\n",
    "        after_dot_digits = len(copy[dot_index+1:])\n",
    "        return value.replace(symbol, \"0\" * (zeros_count - after_dot_digits))"
   ]
  },
  {
   "cell_type": "code",
   "execution_count": 12,
   "id": "dff0e7e4",
   "metadata": {},
   "outputs": [],
   "source": [
    "k_mask = anime_data.rated_by.str.contains(\"K\")\n",
    "m_mask = anime_data.rated_by.str.contains(\"M\")"
   ]
  },
  {
   "cell_type": "code",
   "execution_count": 13,
   "id": "3bb4e797",
   "metadata": {},
   "outputs": [],
   "source": [
    "k_values_copy = anime_data.loc[k_mask, \"rated_by\"].copy()\n",
    "m_values_copy = anime_data.loc[m_mask, \"rated_by\"].copy()"
   ]
  },
  {
   "cell_type": "code",
   "execution_count": 14,
   "id": "7296eff6",
   "metadata": {},
   "outputs": [],
   "source": [
    "anime_data.loc[k_mask, \"rated_by\"] = k_values_copy.map(lambda value: fix_zeros(str(value).strip(),\"K\",3))"
   ]
  },
  {
   "cell_type": "code",
   "execution_count": 15,
   "id": "1ab57722",
   "metadata": {},
   "outputs": [],
   "source": [
    "anime_data.loc[m_mask, \"rated_by\"] = m_values_copy.map(lambda value: fix_zeros(str(value).strip(),\"M\",6))"
   ]
  },
  {
   "cell_type": "code",
   "execution_count": 16,
   "id": "f0a122a6",
   "metadata": {},
   "outputs": [],
   "source": [
    "# Converting ratings count to integer type\n",
    "anime_data.rated_by = anime_data.rated_by.astype(int)"
   ]
  },
  {
   "cell_type": "markdown",
   "id": "f962b3fd",
   "metadata": {},
   "source": [
    "- 2.2 Filling non numerical columns NaN cells"
   ]
  },
  {
   "cell_type": "code",
   "execution_count": 17,
   "id": "18f830bd",
   "metadata": {},
   "outputs": [],
   "source": [
    "for column in anime_data.columns:\n",
    "    if column not in numerical_cols:\n",
    "        anime_data[column].fillna(\"unknown\",inplace=True)"
   ]
  },
  {
   "cell_type": "code",
   "execution_count": 18,
   "id": "47c77645",
   "metadata": {},
   "outputs": [
    {
     "data": {
      "text/plain": [
       "name                       0\n",
       "studio                     0\n",
       "theme                      0\n",
       "tags                       0\n",
       "source                     0\n",
       "rating                     0\n",
       "year                       0\n",
       "synopsis                   0\n",
       "demographic                0\n",
       "status                     0\n",
       "eps                        0\n",
       "eps_avg_duration_in_min    0\n",
       "rated_by                   0\n",
       "dtype: int64"
      ]
     },
     "execution_count": 18,
     "metadata": {},
     "output_type": "execute_result"
    }
   ],
   "source": [
    "anime_data.isna().sum()"
   ]
  },
  {
   "cell_type": "markdown",
   "id": "5b21f254",
   "metadata": {},
   "source": [
    "# DataFrame normalization\n",
    "---\n",
    "1. Theme and tags columns text normalization<br>\n",
    "Each value from the `name`, `tags` and `theme` columns will be lowercased.<br>By doing so, when each of these values will be retrieved in a given `set`, it will be easier to create their respectif DataFrame and then do some `feature encoding`.\n",
    "After feature encoding, the `anime_data` DataFrame will be linked to tags and theme DataFrames."
   ]
  },
  {
   "cell_type": "code",
   "execution_count": 19,
   "id": "aae245eb",
   "metadata": {},
   "outputs": [],
   "source": [
    "def lower_case_value(*columns):\n",
    "    for column in columns:\n",
    "        anime_data[column] = anime_data[column].map(lambda value: str(value).lower())        "
   ]
  },
  {
   "cell_type": "code",
   "execution_count": 20,
   "id": "80a7bd68",
   "metadata": {},
   "outputs": [],
   "source": [
    "lower_case_value(\"tags\",\"theme\",\"name\")"
   ]
  },
  {
   "cell_type": "code",
   "execution_count": 21,
   "id": "270a0f15",
   "metadata": {},
   "outputs": [
    {
     "data": {
      "text/html": [
       "<div>\n",
       "<style scoped>\n",
       "    .dataframe tbody tr th:only-of-type {\n",
       "        vertical-align: middle;\n",
       "    }\n",
       "\n",
       "    .dataframe tbody tr th {\n",
       "        vertical-align: top;\n",
       "    }\n",
       "\n",
       "    .dataframe thead th {\n",
       "        text-align: right;\n",
       "    }\n",
       "</style>\n",
       "<table border=\"1\" class=\"dataframe\">\n",
       "  <thead>\n",
       "    <tr style=\"text-align: right;\">\n",
       "      <th></th>\n",
       "      <th>name</th>\n",
       "      <th>tags</th>\n",
       "      <th>theme</th>\n",
       "    </tr>\n",
       "  </thead>\n",
       "  <tbody>\n",
       "    <tr>\n",
       "      <th>0</th>\n",
       "      <td>shingeki no kyojin</td>\n",
       "      <td>action, drama</td>\n",
       "      <td>gore, military, survival</td>\n",
       "    </tr>\n",
       "    <tr>\n",
       "      <th>1</th>\n",
       "      <td>death note</td>\n",
       "      <td>supernatural, suspense</td>\n",
       "      <td>psychological</td>\n",
       "    </tr>\n",
       "    <tr>\n",
       "      <th>2</th>\n",
       "      <td>fullmetal alchemist: brotherhood</td>\n",
       "      <td>action, adventure, drama, fantasy</td>\n",
       "      <td>military</td>\n",
       "    </tr>\n",
       "    <tr>\n",
       "      <th>3</th>\n",
       "      <td>boku no hero academia</td>\n",
       "      <td>action</td>\n",
       "      <td>school, super power</td>\n",
       "    </tr>\n",
       "    <tr>\n",
       "      <th>4</th>\n",
       "      <td>naruto</td>\n",
       "      <td>action, adventure, fantasy</td>\n",
       "      <td>martial arts</td>\n",
       "    </tr>\n",
       "  </tbody>\n",
       "</table>\n",
       "</div>"
      ],
      "text/plain": [
       "                               name                               tags  \\\n",
       "0                shingeki no kyojin                      action, drama   \n",
       "1                        death note             supernatural, suspense   \n",
       "2  fullmetal alchemist: brotherhood  action, adventure, drama, fantasy   \n",
       "3             boku no hero academia                             action   \n",
       "4                            naruto         action, adventure, fantasy   \n",
       "\n",
       "                      theme  \n",
       "0  gore, military, survival  \n",
       "1             psychological  \n",
       "2                  military  \n",
       "3       school, super power  \n",
       "4              martial arts  "
      ]
     },
     "execution_count": 21,
     "metadata": {},
     "output_type": "execute_result"
    }
   ],
   "source": [
    "anime_data[[\"name\",\"tags\",\"theme\"]].head()"
   ]
  },
  {
   "cell_type": "markdown",
   "id": "c1f349d7",
   "metadata": {},
   "source": [
    "2. Extracting values from `tags` and `theme` columns"
   ]
  },
  {
   "cell_type": "code",
   "execution_count": 22,
   "id": "bea87c96",
   "metadata": {},
   "outputs": [],
   "source": [
    "def extract_cell_value(column_name:str) -> set:\n",
    "    \"\"\"\n",
    "    For a given column with string values separated by a comma, \n",
    "    each cell value(s) will be retrieved and then returned as a set.\n",
    "    \"\"\"\n",
    "    result = set()\n",
    "    column = anime_data[column_name].astype(str)\n",
    "    \n",
    "    for cell in column:\n",
    "        for value in cell.split(\",\"):\n",
    "            result.add(str(value).strip())\n",
    "            \n",
    "    return result"
   ]
  },
  {
   "cell_type": "code",
   "execution_count": 23,
   "id": "4a0d8f0c",
   "metadata": {},
   "outputs": [],
   "source": [
    "tags_set = extract_cell_value(\"tags\")\n",
    "themes_set = extract_cell_value(\"theme\")"
   ]
  },
  {
   "cell_type": "markdown",
   "id": "4420c612",
   "metadata": {},
   "source": [
    "3. Creating a DataFrame for tags and theme"
   ]
  },
  {
   "cell_type": "code",
   "execution_count": 24,
   "id": "32f4323e",
   "metadata": {},
   "outputs": [],
   "source": [
    "tags_data = pd.DataFrame(index=anime_data.name, columns=tags_set)\n",
    "theme_data = pd.DataFrame(index=anime_data.name, columns=themes_set)"
   ]
  },
  {
   "cell_type": "code",
   "execution_count": 25,
   "id": "b3b5086a",
   "metadata": {},
   "outputs": [
    {
     "data": {
      "text/html": [
       "<div>\n",
       "<style scoped>\n",
       "    .dataframe tbody tr th:only-of-type {\n",
       "        vertical-align: middle;\n",
       "    }\n",
       "\n",
       "    .dataframe tbody tr th {\n",
       "        vertical-align: top;\n",
       "    }\n",
       "\n",
       "    .dataframe thead th {\n",
       "        text-align: right;\n",
       "    }\n",
       "</style>\n",
       "<table border=\"1\" class=\"dataframe\">\n",
       "  <thead>\n",
       "    <tr style=\"text-align: right;\">\n",
       "      <th></th>\n",
       "      <th>name</th>\n",
       "      <th>studio</th>\n",
       "      <th>theme</th>\n",
       "      <th>tags</th>\n",
       "      <th>source</th>\n",
       "      <th>rating</th>\n",
       "      <th>year</th>\n",
       "      <th>synopsis</th>\n",
       "      <th>demographic</th>\n",
       "      <th>status</th>\n",
       "      <th>eps</th>\n",
       "      <th>eps_avg_duration_in_min</th>\n",
       "      <th>rated_by</th>\n",
       "    </tr>\n",
       "  </thead>\n",
       "  <tbody>\n",
       "    <tr>\n",
       "      <th>0</th>\n",
       "      <td>shingeki no kyojin</td>\n",
       "      <td>Wit Studio</td>\n",
       "      <td>gore, military, survival</td>\n",
       "      <td>action, drama</td>\n",
       "      <td>Manga</td>\n",
       "      <td>8.53</td>\n",
       "      <td>2013</td>\n",
       "      <td>Centuries ago, mankind was slaughtered to near...</td>\n",
       "      <td>Shounen</td>\n",
       "      <td>Finished</td>\n",
       "      <td>25</td>\n",
       "      <td>24</td>\n",
       "      <td>3400000</td>\n",
       "    </tr>\n",
       "    <tr>\n",
       "      <th>1</th>\n",
       "      <td>death note</td>\n",
       "      <td>Madhouse</td>\n",
       "      <td>psychological</td>\n",
       "      <td>supernatural, suspense</td>\n",
       "      <td>Manga</td>\n",
       "      <td>8.63</td>\n",
       "      <td>2006</td>\n",
       "      <td>Brutal murders, petty thefts, and senseless vi...</td>\n",
       "      <td>Shounen</td>\n",
       "      <td>Finished</td>\n",
       "      <td>37</td>\n",
       "      <td>23</td>\n",
       "      <td>3400000</td>\n",
       "    </tr>\n",
       "    <tr>\n",
       "      <th>2</th>\n",
       "      <td>fullmetal alchemist: brotherhood</td>\n",
       "      <td>Bones</td>\n",
       "      <td>military</td>\n",
       "      <td>action, adventure, drama, fantasy</td>\n",
       "      <td>Manga</td>\n",
       "      <td>9.14</td>\n",
       "      <td>2009</td>\n",
       "      <td>After a horrific alchemy experiment goes wrong...</td>\n",
       "      <td>Shounen</td>\n",
       "      <td>Finished</td>\n",
       "      <td>64</td>\n",
       "      <td>24</td>\n",
       "      <td>2900000</td>\n",
       "    </tr>\n",
       "    <tr>\n",
       "      <th>3</th>\n",
       "      <td>boku no hero academia</td>\n",
       "      <td>Bones</td>\n",
       "      <td>school, super power</td>\n",
       "      <td>action</td>\n",
       "      <td>Manga</td>\n",
       "      <td>7.95</td>\n",
       "      <td>2016</td>\n",
       "      <td>The appearance of \"quirks,\" newly discovered s...</td>\n",
       "      <td>Shounen</td>\n",
       "      <td>Finished</td>\n",
       "      <td>13</td>\n",
       "      <td>24</td>\n",
       "      <td>2600000</td>\n",
       "    </tr>\n",
       "    <tr>\n",
       "      <th>4</th>\n",
       "      <td>naruto</td>\n",
       "      <td>Studio Pierrot</td>\n",
       "      <td>martial arts</td>\n",
       "      <td>action, adventure, fantasy</td>\n",
       "      <td>Manga</td>\n",
       "      <td>7.97</td>\n",
       "      <td>2002</td>\n",
       "      <td>Moments prior to Naruto Uzumaki's birth, a hug...</td>\n",
       "      <td>Shounen</td>\n",
       "      <td>Finished</td>\n",
       "      <td>220</td>\n",
       "      <td>23</td>\n",
       "      <td>2500000</td>\n",
       "    </tr>\n",
       "  </tbody>\n",
       "</table>\n",
       "</div>"
      ],
      "text/plain": [
       "                               name          studio                     theme  \\\n",
       "0                shingeki no kyojin      Wit Studio  gore, military, survival   \n",
       "1                        death note        Madhouse             psychological   \n",
       "2  fullmetal alchemist: brotherhood           Bones                  military   \n",
       "3             boku no hero academia           Bones       school, super power   \n",
       "4                            naruto  Studio Pierrot              martial arts   \n",
       "\n",
       "                                tags source  rating  year  \\\n",
       "0                      action, drama  Manga    8.53  2013   \n",
       "1             supernatural, suspense  Manga    8.63  2006   \n",
       "2  action, adventure, drama, fantasy  Manga    9.14  2009   \n",
       "3                             action  Manga    7.95  2016   \n",
       "4         action, adventure, fantasy  Manga    7.97  2002   \n",
       "\n",
       "                                            synopsis demographic    status  \\\n",
       "0  Centuries ago, mankind was slaughtered to near...     Shounen  Finished   \n",
       "1  Brutal murders, petty thefts, and senseless vi...     Shounen  Finished   \n",
       "2  After a horrific alchemy experiment goes wrong...     Shounen  Finished   \n",
       "3  The appearance of \"quirks,\" newly discovered s...     Shounen  Finished   \n",
       "4  Moments prior to Naruto Uzumaki's birth, a hug...     Shounen  Finished   \n",
       "\n",
       "   eps  eps_avg_duration_in_min  rated_by  \n",
       "0   25                       24   3400000  \n",
       "1   37                       23   3400000  \n",
       "2   64                       24   2900000  \n",
       "3   13                       24   2600000  \n",
       "4  220                       23   2500000  "
      ]
     },
     "execution_count": 25,
     "metadata": {},
     "output_type": "execute_result"
    }
   ],
   "source": [
    "anime_data.head()"
   ]
  },
  {
   "cell_type": "code",
   "execution_count": 26,
   "id": "57bda1ee",
   "metadata": {},
   "outputs": [
    {
     "data": {
      "text/html": [
       "<div>\n",
       "<style scoped>\n",
       "    .dataframe tbody tr th:only-of-type {\n",
       "        vertical-align: middle;\n",
       "    }\n",
       "\n",
       "    .dataframe tbody tr th {\n",
       "        vertical-align: top;\n",
       "    }\n",
       "\n",
       "    .dataframe thead th {\n",
       "        text-align: right;\n",
       "    }\n",
       "</style>\n",
       "<table border=\"1\" class=\"dataframe\">\n",
       "  <thead>\n",
       "    <tr style=\"text-align: right;\">\n",
       "      <th></th>\n",
       "      <th>avant</th>\n",
       "      <th>gourmet</th>\n",
       "      <th>supernatural</th>\n",
       "      <th>horror</th>\n",
       "      <th>boys</th>\n",
       "      <th>mystery</th>\n",
       "      <th>romance</th>\n",
       "      <th>garde</th>\n",
       "      <th>action</th>\n",
       "      <th>drama</th>\n",
       "      <th>...</th>\n",
       "      <th>sports</th>\n",
       "      <th>ecchi</th>\n",
       "      <th>suspense</th>\n",
       "      <th>unknown</th>\n",
       "      <th>adventure</th>\n",
       "      <th>comedy</th>\n",
       "      <th>slice</th>\n",
       "      <th>life</th>\n",
       "      <th>sci-fi</th>\n",
       "      <th>girls</th>\n",
       "    </tr>\n",
       "    <tr>\n",
       "      <th>name</th>\n",
       "      <th></th>\n",
       "      <th></th>\n",
       "      <th></th>\n",
       "      <th></th>\n",
       "      <th></th>\n",
       "      <th></th>\n",
       "      <th></th>\n",
       "      <th></th>\n",
       "      <th></th>\n",
       "      <th></th>\n",
       "      <th></th>\n",
       "      <th></th>\n",
       "      <th></th>\n",
       "      <th></th>\n",
       "      <th></th>\n",
       "      <th></th>\n",
       "      <th></th>\n",
       "      <th></th>\n",
       "      <th></th>\n",
       "      <th></th>\n",
       "      <th></th>\n",
       "    </tr>\n",
       "  </thead>\n",
       "  <tbody>\n",
       "    <tr>\n",
       "      <th>shingeki no kyojin</th>\n",
       "      <td>NaN</td>\n",
       "      <td>NaN</td>\n",
       "      <td>NaN</td>\n",
       "      <td>NaN</td>\n",
       "      <td>NaN</td>\n",
       "      <td>NaN</td>\n",
       "      <td>NaN</td>\n",
       "      <td>NaN</td>\n",
       "      <td>NaN</td>\n",
       "      <td>NaN</td>\n",
       "      <td>...</td>\n",
       "      <td>NaN</td>\n",
       "      <td>NaN</td>\n",
       "      <td>NaN</td>\n",
       "      <td>NaN</td>\n",
       "      <td>NaN</td>\n",
       "      <td>NaN</td>\n",
       "      <td>NaN</td>\n",
       "      <td>NaN</td>\n",
       "      <td>NaN</td>\n",
       "      <td>NaN</td>\n",
       "    </tr>\n",
       "    <tr>\n",
       "      <th>death note</th>\n",
       "      <td>NaN</td>\n",
       "      <td>NaN</td>\n",
       "      <td>NaN</td>\n",
       "      <td>NaN</td>\n",
       "      <td>NaN</td>\n",
       "      <td>NaN</td>\n",
       "      <td>NaN</td>\n",
       "      <td>NaN</td>\n",
       "      <td>NaN</td>\n",
       "      <td>NaN</td>\n",
       "      <td>...</td>\n",
       "      <td>NaN</td>\n",
       "      <td>NaN</td>\n",
       "      <td>NaN</td>\n",
       "      <td>NaN</td>\n",
       "      <td>NaN</td>\n",
       "      <td>NaN</td>\n",
       "      <td>NaN</td>\n",
       "      <td>NaN</td>\n",
       "      <td>NaN</td>\n",
       "      <td>NaN</td>\n",
       "    </tr>\n",
       "    <tr>\n",
       "      <th>fullmetal alchemist: brotherhood</th>\n",
       "      <td>NaN</td>\n",
       "      <td>NaN</td>\n",
       "      <td>NaN</td>\n",
       "      <td>NaN</td>\n",
       "      <td>NaN</td>\n",
       "      <td>NaN</td>\n",
       "      <td>NaN</td>\n",
       "      <td>NaN</td>\n",
       "      <td>NaN</td>\n",
       "      <td>NaN</td>\n",
       "      <td>...</td>\n",
       "      <td>NaN</td>\n",
       "      <td>NaN</td>\n",
       "      <td>NaN</td>\n",
       "      <td>NaN</td>\n",
       "      <td>NaN</td>\n",
       "      <td>NaN</td>\n",
       "      <td>NaN</td>\n",
       "      <td>NaN</td>\n",
       "      <td>NaN</td>\n",
       "      <td>NaN</td>\n",
       "    </tr>\n",
       "    <tr>\n",
       "      <th>boku no hero academia</th>\n",
       "      <td>NaN</td>\n",
       "      <td>NaN</td>\n",
       "      <td>NaN</td>\n",
       "      <td>NaN</td>\n",
       "      <td>NaN</td>\n",
       "      <td>NaN</td>\n",
       "      <td>NaN</td>\n",
       "      <td>NaN</td>\n",
       "      <td>NaN</td>\n",
       "      <td>NaN</td>\n",
       "      <td>...</td>\n",
       "      <td>NaN</td>\n",
       "      <td>NaN</td>\n",
       "      <td>NaN</td>\n",
       "      <td>NaN</td>\n",
       "      <td>NaN</td>\n",
       "      <td>NaN</td>\n",
       "      <td>NaN</td>\n",
       "      <td>NaN</td>\n",
       "      <td>NaN</td>\n",
       "      <td>NaN</td>\n",
       "    </tr>\n",
       "    <tr>\n",
       "      <th>naruto</th>\n",
       "      <td>NaN</td>\n",
       "      <td>NaN</td>\n",
       "      <td>NaN</td>\n",
       "      <td>NaN</td>\n",
       "      <td>NaN</td>\n",
       "      <td>NaN</td>\n",
       "      <td>NaN</td>\n",
       "      <td>NaN</td>\n",
       "      <td>NaN</td>\n",
       "      <td>NaN</td>\n",
       "      <td>...</td>\n",
       "      <td>NaN</td>\n",
       "      <td>NaN</td>\n",
       "      <td>NaN</td>\n",
       "      <td>NaN</td>\n",
       "      <td>NaN</td>\n",
       "      <td>NaN</td>\n",
       "      <td>NaN</td>\n",
       "      <td>NaN</td>\n",
       "      <td>NaN</td>\n",
       "      <td>NaN</td>\n",
       "    </tr>\n",
       "  </tbody>\n",
       "</table>\n",
       "<p>5 rows × 23 columns</p>\n",
       "</div>"
      ],
      "text/plain": [
       "                                 avant gourmet supernatural horror boys  \\\n",
       "name                                                                      \n",
       "shingeki no kyojin                 NaN     NaN          NaN    NaN  NaN   \n",
       "death note                         NaN     NaN          NaN    NaN  NaN   \n",
       "fullmetal alchemist: brotherhood   NaN     NaN          NaN    NaN  NaN   \n",
       "boku no hero academia              NaN     NaN          NaN    NaN  NaN   \n",
       "naruto                             NaN     NaN          NaN    NaN  NaN   \n",
       "\n",
       "                                 mystery romance garde action drama  ...  \\\n",
       "name                                                                 ...   \n",
       "shingeki no kyojin                   NaN     NaN   NaN    NaN   NaN  ...   \n",
       "death note                           NaN     NaN   NaN    NaN   NaN  ...   \n",
       "fullmetal alchemist: brotherhood     NaN     NaN   NaN    NaN   NaN  ...   \n",
       "boku no hero academia                NaN     NaN   NaN    NaN   NaN  ...   \n",
       "naruto                               NaN     NaN   NaN    NaN   NaN  ...   \n",
       "\n",
       "                                 sports ecchi suspense unknown adventure  \\\n",
       "name                                                                       \n",
       "shingeki no kyojin                  NaN   NaN      NaN     NaN       NaN   \n",
       "death note                          NaN   NaN      NaN     NaN       NaN   \n",
       "fullmetal alchemist: brotherhood    NaN   NaN      NaN     NaN       NaN   \n",
       "boku no hero academia               NaN   NaN      NaN     NaN       NaN   \n",
       "naruto                              NaN   NaN      NaN     NaN       NaN   \n",
       "\n",
       "                                 comedy slice life sci-fi girls  \n",
       "name                                                             \n",
       "shingeki no kyojin                  NaN   NaN  NaN    NaN   NaN  \n",
       "death note                          NaN   NaN  NaN    NaN   NaN  \n",
       "fullmetal alchemist: brotherhood    NaN   NaN  NaN    NaN   NaN  \n",
       "boku no hero academia               NaN   NaN  NaN    NaN   NaN  \n",
       "naruto                              NaN   NaN  NaN    NaN   NaN  \n",
       "\n",
       "[5 rows x 23 columns]"
      ]
     },
     "execution_count": 26,
     "metadata": {},
     "output_type": "execute_result"
    }
   ],
   "source": [
    "tags_data.head()"
   ]
  },
  {
   "cell_type": "markdown",
   "id": "804e2ab3",
   "metadata": {},
   "source": [
    "4. Feature encoding\n",
    "---\n",
    "For a given anime, if it has a given `tag` or `theme` then the cell's value will be set to `1`. Otherwise it'll be `0`."
   ]
  },
  {
   "cell_type": "code",
   "execution_count": 27,
   "id": "63a74f7e",
   "metadata": {},
   "outputs": [],
   "source": [
    "def encode_dataframe(column_name:str,frame:pd.DataFrame) -> None:\n",
    "    # for each anime's data\n",
    "    for line in anime_data[[\"name\",column_name]].values:\n",
    "        anime_tags = [str(value).strip() for value in line[1].split(\",\")]\n",
    "\n",
    "        # for each tag or frame\n",
    "        for column in frame.columns:\n",
    "            if column in anime_tags:\n",
    "                frame.loc[line[0],column] = 1\n",
    "            else:\n",
    "                 frame.loc[line[0],column] = 0"
   ]
  },
  {
   "cell_type": "code",
   "execution_count": 28,
   "id": "5859c615",
   "metadata": {},
   "outputs": [
    {
     "data": {
      "text/html": [
       "<div>\n",
       "<style scoped>\n",
       "    .dataframe tbody tr th:only-of-type {\n",
       "        vertical-align: middle;\n",
       "    }\n",
       "\n",
       "    .dataframe tbody tr th {\n",
       "        vertical-align: top;\n",
       "    }\n",
       "\n",
       "    .dataframe thead th {\n",
       "        text-align: right;\n",
       "    }\n",
       "</style>\n",
       "<table border=\"1\" class=\"dataframe\">\n",
       "  <thead>\n",
       "    <tr style=\"text-align: right;\">\n",
       "      <th></th>\n",
       "      <th>avant</th>\n",
       "      <th>gourmet</th>\n",
       "      <th>supernatural</th>\n",
       "      <th>horror</th>\n",
       "      <th>boys</th>\n",
       "      <th>mystery</th>\n",
       "      <th>romance</th>\n",
       "      <th>garde</th>\n",
       "      <th>action</th>\n",
       "      <th>drama</th>\n",
       "      <th>...</th>\n",
       "      <th>sports</th>\n",
       "      <th>ecchi</th>\n",
       "      <th>suspense</th>\n",
       "      <th>unknown</th>\n",
       "      <th>adventure</th>\n",
       "      <th>comedy</th>\n",
       "      <th>slice</th>\n",
       "      <th>life</th>\n",
       "      <th>sci-fi</th>\n",
       "      <th>girls</th>\n",
       "    </tr>\n",
       "    <tr>\n",
       "      <th>name</th>\n",
       "      <th></th>\n",
       "      <th></th>\n",
       "      <th></th>\n",
       "      <th></th>\n",
       "      <th></th>\n",
       "      <th></th>\n",
       "      <th></th>\n",
       "      <th></th>\n",
       "      <th></th>\n",
       "      <th></th>\n",
       "      <th></th>\n",
       "      <th></th>\n",
       "      <th></th>\n",
       "      <th></th>\n",
       "      <th></th>\n",
       "      <th></th>\n",
       "      <th></th>\n",
       "      <th></th>\n",
       "      <th></th>\n",
       "      <th></th>\n",
       "      <th></th>\n",
       "    </tr>\n",
       "  </thead>\n",
       "  <tbody>\n",
       "    <tr>\n",
       "      <th>shingeki no kyojin</th>\n",
       "      <td>0</td>\n",
       "      <td>0</td>\n",
       "      <td>0</td>\n",
       "      <td>0</td>\n",
       "      <td>0</td>\n",
       "      <td>0</td>\n",
       "      <td>0</td>\n",
       "      <td>0</td>\n",
       "      <td>1</td>\n",
       "      <td>1</td>\n",
       "      <td>...</td>\n",
       "      <td>0</td>\n",
       "      <td>0</td>\n",
       "      <td>0</td>\n",
       "      <td>0</td>\n",
       "      <td>0</td>\n",
       "      <td>0</td>\n",
       "      <td>0</td>\n",
       "      <td>0</td>\n",
       "      <td>0</td>\n",
       "      <td>0</td>\n",
       "    </tr>\n",
       "    <tr>\n",
       "      <th>death note</th>\n",
       "      <td>0</td>\n",
       "      <td>0</td>\n",
       "      <td>1</td>\n",
       "      <td>0</td>\n",
       "      <td>0</td>\n",
       "      <td>0</td>\n",
       "      <td>0</td>\n",
       "      <td>0</td>\n",
       "      <td>0</td>\n",
       "      <td>0</td>\n",
       "      <td>...</td>\n",
       "      <td>0</td>\n",
       "      <td>0</td>\n",
       "      <td>1</td>\n",
       "      <td>0</td>\n",
       "      <td>0</td>\n",
       "      <td>0</td>\n",
       "      <td>0</td>\n",
       "      <td>0</td>\n",
       "      <td>0</td>\n",
       "      <td>0</td>\n",
       "    </tr>\n",
       "    <tr>\n",
       "      <th>fullmetal alchemist: brotherhood</th>\n",
       "      <td>0</td>\n",
       "      <td>0</td>\n",
       "      <td>0</td>\n",
       "      <td>0</td>\n",
       "      <td>0</td>\n",
       "      <td>0</td>\n",
       "      <td>0</td>\n",
       "      <td>0</td>\n",
       "      <td>1</td>\n",
       "      <td>1</td>\n",
       "      <td>...</td>\n",
       "      <td>0</td>\n",
       "      <td>0</td>\n",
       "      <td>0</td>\n",
       "      <td>0</td>\n",
       "      <td>1</td>\n",
       "      <td>0</td>\n",
       "      <td>0</td>\n",
       "      <td>0</td>\n",
       "      <td>0</td>\n",
       "      <td>0</td>\n",
       "    </tr>\n",
       "    <tr>\n",
       "      <th>boku no hero academia</th>\n",
       "      <td>0</td>\n",
       "      <td>0</td>\n",
       "      <td>0</td>\n",
       "      <td>0</td>\n",
       "      <td>0</td>\n",
       "      <td>0</td>\n",
       "      <td>0</td>\n",
       "      <td>0</td>\n",
       "      <td>1</td>\n",
       "      <td>0</td>\n",
       "      <td>...</td>\n",
       "      <td>0</td>\n",
       "      <td>0</td>\n",
       "      <td>0</td>\n",
       "      <td>0</td>\n",
       "      <td>0</td>\n",
       "      <td>0</td>\n",
       "      <td>0</td>\n",
       "      <td>0</td>\n",
       "      <td>0</td>\n",
       "      <td>0</td>\n",
       "    </tr>\n",
       "    <tr>\n",
       "      <th>naruto</th>\n",
       "      <td>0</td>\n",
       "      <td>0</td>\n",
       "      <td>0</td>\n",
       "      <td>0</td>\n",
       "      <td>0</td>\n",
       "      <td>0</td>\n",
       "      <td>0</td>\n",
       "      <td>0</td>\n",
       "      <td>1</td>\n",
       "      <td>0</td>\n",
       "      <td>...</td>\n",
       "      <td>0</td>\n",
       "      <td>0</td>\n",
       "      <td>0</td>\n",
       "      <td>0</td>\n",
       "      <td>1</td>\n",
       "      <td>0</td>\n",
       "      <td>0</td>\n",
       "      <td>0</td>\n",
       "      <td>0</td>\n",
       "      <td>0</td>\n",
       "    </tr>\n",
       "  </tbody>\n",
       "</table>\n",
       "<p>5 rows × 23 columns</p>\n",
       "</div>"
      ],
      "text/plain": [
       "                                 avant gourmet supernatural horror boys  \\\n",
       "name                                                                      \n",
       "shingeki no kyojin                   0       0            0      0    0   \n",
       "death note                           0       0            1      0    0   \n",
       "fullmetal alchemist: brotherhood     0       0            0      0    0   \n",
       "boku no hero academia                0       0            0      0    0   \n",
       "naruto                               0       0            0      0    0   \n",
       "\n",
       "                                 mystery romance garde action drama  ...  \\\n",
       "name                                                                 ...   \n",
       "shingeki no kyojin                     0       0     0      1     1  ...   \n",
       "death note                             0       0     0      0     0  ...   \n",
       "fullmetal alchemist: brotherhood       0       0     0      1     1  ...   \n",
       "boku no hero academia                  0       0     0      1     0  ...   \n",
       "naruto                                 0       0     0      1     0  ...   \n",
       "\n",
       "                                 sports ecchi suspense unknown adventure  \\\n",
       "name                                                                       \n",
       "shingeki no kyojin                    0     0        0       0         0   \n",
       "death note                            0     0        1       0         0   \n",
       "fullmetal alchemist: brotherhood      0     0        0       0         1   \n",
       "boku no hero academia                 0     0        0       0         0   \n",
       "naruto                                0     0        0       0         1   \n",
       "\n",
       "                                 comedy slice life sci-fi girls  \n",
       "name                                                             \n",
       "shingeki no kyojin                    0     0    0      0     0  \n",
       "death note                            0     0    0      0     0  \n",
       "fullmetal alchemist: brotherhood      0     0    0      0     0  \n",
       "boku no hero academia                 0     0    0      0     0  \n",
       "naruto                                0     0    0      0     0  \n",
       "\n",
       "[5 rows x 23 columns]"
      ]
     },
     "execution_count": 28,
     "metadata": {},
     "output_type": "execute_result"
    }
   ],
   "source": [
    "encode_dataframe(\"tags\",tags_data)\n",
    "tags_data.head()"
   ]
  },
  {
   "cell_type": "code",
   "execution_count": 29,
   "id": "4ab2f6b2",
   "metadata": {},
   "outputs": [
    {
     "data": {
      "text/html": [
       "<div>\n",
       "<style scoped>\n",
       "    .dataframe tbody tr th:only-of-type {\n",
       "        vertical-align: middle;\n",
       "    }\n",
       "\n",
       "    .dataframe tbody tr th {\n",
       "        vertical-align: top;\n",
       "    }\n",
       "\n",
       "    .dataframe thead th {\n",
       "        text-align: right;\n",
       "    }\n",
       "</style>\n",
       "<table border=\"1\" class=\"dataframe\">\n",
       "  <thead>\n",
       "    <tr style=\"text-align: right;\">\n",
       "      <th></th>\n",
       "      <th>adult cast</th>\n",
       "      <th>gore</th>\n",
       "      <th>racing</th>\n",
       "      <th>visual arts</th>\n",
       "      <th>cgdct</th>\n",
       "      <th>mecha</th>\n",
       "      <th>martial arts</th>\n",
       "      <th>parody</th>\n",
       "      <th>vampire</th>\n",
       "      <th>gag humor</th>\n",
       "      <th>...</th>\n",
       "      <th>detective</th>\n",
       "      <th>video game</th>\n",
       "      <th>anthropomorphic</th>\n",
       "      <th>psychological</th>\n",
       "      <th>shounen</th>\n",
       "      <th>workplace</th>\n",
       "      <th>shoujo</th>\n",
       "      <th>music</th>\n",
       "      <th>seinen</th>\n",
       "      <th>time travel</th>\n",
       "    </tr>\n",
       "    <tr>\n",
       "      <th>name</th>\n",
       "      <th></th>\n",
       "      <th></th>\n",
       "      <th></th>\n",
       "      <th></th>\n",
       "      <th></th>\n",
       "      <th></th>\n",
       "      <th></th>\n",
       "      <th></th>\n",
       "      <th></th>\n",
       "      <th></th>\n",
       "      <th></th>\n",
       "      <th></th>\n",
       "      <th></th>\n",
       "      <th></th>\n",
       "      <th></th>\n",
       "      <th></th>\n",
       "      <th></th>\n",
       "      <th></th>\n",
       "      <th></th>\n",
       "      <th></th>\n",
       "      <th></th>\n",
       "    </tr>\n",
       "  </thead>\n",
       "  <tbody>\n",
       "    <tr>\n",
       "      <th>shingeki no kyojin</th>\n",
       "      <td>0</td>\n",
       "      <td>1</td>\n",
       "      <td>0</td>\n",
       "      <td>0</td>\n",
       "      <td>0</td>\n",
       "      <td>0</td>\n",
       "      <td>0</td>\n",
       "      <td>0</td>\n",
       "      <td>0</td>\n",
       "      <td>0</td>\n",
       "      <td>...</td>\n",
       "      <td>0</td>\n",
       "      <td>0</td>\n",
       "      <td>0</td>\n",
       "      <td>0</td>\n",
       "      <td>0</td>\n",
       "      <td>0</td>\n",
       "      <td>0</td>\n",
       "      <td>0</td>\n",
       "      <td>0</td>\n",
       "      <td>0</td>\n",
       "    </tr>\n",
       "    <tr>\n",
       "      <th>death note</th>\n",
       "      <td>0</td>\n",
       "      <td>0</td>\n",
       "      <td>0</td>\n",
       "      <td>0</td>\n",
       "      <td>0</td>\n",
       "      <td>0</td>\n",
       "      <td>0</td>\n",
       "      <td>0</td>\n",
       "      <td>0</td>\n",
       "      <td>0</td>\n",
       "      <td>...</td>\n",
       "      <td>0</td>\n",
       "      <td>0</td>\n",
       "      <td>0</td>\n",
       "      <td>1</td>\n",
       "      <td>0</td>\n",
       "      <td>0</td>\n",
       "      <td>0</td>\n",
       "      <td>0</td>\n",
       "      <td>0</td>\n",
       "      <td>0</td>\n",
       "    </tr>\n",
       "    <tr>\n",
       "      <th>fullmetal alchemist: brotherhood</th>\n",
       "      <td>0</td>\n",
       "      <td>0</td>\n",
       "      <td>0</td>\n",
       "      <td>0</td>\n",
       "      <td>0</td>\n",
       "      <td>0</td>\n",
       "      <td>0</td>\n",
       "      <td>0</td>\n",
       "      <td>0</td>\n",
       "      <td>0</td>\n",
       "      <td>...</td>\n",
       "      <td>0</td>\n",
       "      <td>0</td>\n",
       "      <td>0</td>\n",
       "      <td>0</td>\n",
       "      <td>0</td>\n",
       "      <td>0</td>\n",
       "      <td>0</td>\n",
       "      <td>0</td>\n",
       "      <td>0</td>\n",
       "      <td>0</td>\n",
       "    </tr>\n",
       "    <tr>\n",
       "      <th>boku no hero academia</th>\n",
       "      <td>0</td>\n",
       "      <td>0</td>\n",
       "      <td>0</td>\n",
       "      <td>0</td>\n",
       "      <td>0</td>\n",
       "      <td>0</td>\n",
       "      <td>0</td>\n",
       "      <td>0</td>\n",
       "      <td>0</td>\n",
       "      <td>0</td>\n",
       "      <td>...</td>\n",
       "      <td>0</td>\n",
       "      <td>0</td>\n",
       "      <td>0</td>\n",
       "      <td>0</td>\n",
       "      <td>0</td>\n",
       "      <td>0</td>\n",
       "      <td>0</td>\n",
       "      <td>0</td>\n",
       "      <td>0</td>\n",
       "      <td>0</td>\n",
       "    </tr>\n",
       "    <tr>\n",
       "      <th>naruto</th>\n",
       "      <td>0</td>\n",
       "      <td>0</td>\n",
       "      <td>0</td>\n",
       "      <td>0</td>\n",
       "      <td>0</td>\n",
       "      <td>0</td>\n",
       "      <td>1</td>\n",
       "      <td>0</td>\n",
       "      <td>0</td>\n",
       "      <td>0</td>\n",
       "      <td>...</td>\n",
       "      <td>0</td>\n",
       "      <td>0</td>\n",
       "      <td>0</td>\n",
       "      <td>0</td>\n",
       "      <td>0</td>\n",
       "      <td>0</td>\n",
       "      <td>0</td>\n",
       "      <td>0</td>\n",
       "      <td>0</td>\n",
       "      <td>0</td>\n",
       "    </tr>\n",
       "  </tbody>\n",
       "</table>\n",
       "<p>5 rows × 55 columns</p>\n",
       "</div>"
      ],
      "text/plain": [
       "                                 adult cast gore racing visual arts cgdct  \\\n",
       "name                                                                        \n",
       "shingeki no kyojin                        0    1      0           0     0   \n",
       "death note                                0    0      0           0     0   \n",
       "fullmetal alchemist: brotherhood          0    0      0           0     0   \n",
       "boku no hero academia                     0    0      0           0     0   \n",
       "naruto                                    0    0      0           0     0   \n",
       "\n",
       "                                 mecha martial arts parody vampire gag humor  \\\n",
       "name                                                                           \n",
       "shingeki no kyojin                   0            0      0       0         0   \n",
       "death note                           0            0      0       0         0   \n",
       "fullmetal alchemist: brotherhood     0            0      0       0         0   \n",
       "boku no hero academia                0            0      0       0         0   \n",
       "naruto                               0            1      0       0         0   \n",
       "\n",
       "                                  ... detective video game anthropomorphic  \\\n",
       "name                              ...                                        \n",
       "shingeki no kyojin                ...         0          0               0   \n",
       "death note                        ...         0          0               0   \n",
       "fullmetal alchemist: brotherhood  ...         0          0               0   \n",
       "boku no hero academia             ...         0          0               0   \n",
       "naruto                            ...         0          0               0   \n",
       "\n",
       "                                 psychological shounen workplace shoujo music  \\\n",
       "name                                                                            \n",
       "shingeki no kyojin                           0       0         0      0     0   \n",
       "death note                                   1       0         0      0     0   \n",
       "fullmetal alchemist: brotherhood             0       0         0      0     0   \n",
       "boku no hero academia                        0       0         0      0     0   \n",
       "naruto                                       0       0         0      0     0   \n",
       "\n",
       "                                 seinen time travel  \n",
       "name                                                 \n",
       "shingeki no kyojin                    0           0  \n",
       "death note                            0           0  \n",
       "fullmetal alchemist: brotherhood      0           0  \n",
       "boku no hero academia                 0           0  \n",
       "naruto                                0           0  \n",
       "\n",
       "[5 rows x 55 columns]"
      ]
     },
     "execution_count": 29,
     "metadata": {},
     "output_type": "execute_result"
    }
   ],
   "source": [
    "encode_dataframe(\"theme\",theme_data)\n",
    "theme_data.head()"
   ]
  },
  {
   "cell_type": "code",
   "execution_count": 30,
   "id": "387f52b8",
   "metadata": {},
   "outputs": [
    {
     "data": {
      "text/plain": [
       "0    52\n",
       "1     3\n",
       "Name: shingeki no kyojin, dtype: int64"
      ]
     },
     "execution_count": 30,
     "metadata": {},
     "output_type": "execute_result"
    }
   ],
   "source": [
    "theme_data.loc[\"shingeki no kyojin\"].value_counts()"
   ]
  },
  {
   "cell_type": "markdown",
   "id": "6525ddf1",
   "metadata": {},
   "source": [
    "- Renaming DataFrames axis "
   ]
  },
  {
   "cell_type": "code",
   "execution_count": 31,
   "id": "fae53bb1",
   "metadata": {},
   "outputs": [],
   "source": [
    "anime_data.rename_axis(\"anime_id\",axis=\"rows\", inplace=True)\n",
    "anime_data.rename_axis(\"features\", axis=\"columns\", inplace=True)\n",
    "\n",
    "tags_data.rename_axis(\"Tags\", axis=\"columns\", inplace=True)\n",
    "theme_data.rename_axis(\"Themes\", axis=\"columns\", inplace=True)"
   ]
  },
  {
   "cell_type": "markdown",
   "id": "c70a0079",
   "metadata": {},
   "source": [
    "From `tags_data` or `theme_data` DataFrame there is a link to `anime_data` DataFrame which is the `name` index.\n",
    "Thus the `theme` and `tags` columns can be dropped from the `anime_data` DataFrame for creating a normalized data set."
   ]
  },
  {
   "cell_type": "code",
   "execution_count": 32,
   "id": "7e5bdcde",
   "metadata": {},
   "outputs": [],
   "source": [
    "anime_data.drop([\"tags\",\"theme\"], axis=1,inplace=True)"
   ]
  },
  {
   "cell_type": "markdown",
   "id": "1c444210",
   "metadata": {},
   "source": [
    "### Correcting the \"slice of life\" tag that has been splitted into three columns"
   ]
  },
  {
   "cell_type": "code",
   "execution_count": 33,
   "id": "3d9a7666",
   "metadata": {},
   "outputs": [
    {
     "data": {
      "text/plain": [
       "Tags\n",
       "slice    376\n",
       "of       376\n",
       "life     376\n",
       "dtype: object"
      ]
     },
     "execution_count": 33,
     "metadata": {},
     "output_type": "execute_result"
    }
   ],
   "source": [
    "# Checking if every row having at least one this tag's words have the two others\n",
    "tags_data.loc[:,[\"slice\",'of','life']].sum()"
   ]
  },
  {
   "cell_type": "markdown",
   "id": "cc65dce0",
   "metadata": {},
   "source": [
    "See that the hypothesis is verified, then the \"slice of life\" column can be created"
   ]
  },
  {
   "cell_type": "code",
   "execution_count": 34,
   "id": "c177bb5b",
   "metadata": {},
   "outputs": [],
   "source": [
    "tags_data[\"slice of life\"] = 0\n",
    "\n",
    "for index in tags_data.index:\n",
    "    if tags_data.loc[index, \"slice\"] == 1:\n",
    "        tags_data.loc[index, \"slice of life\"] = 1"
   ]
  },
  {
   "cell_type": "code",
   "execution_count": 35,
   "id": "56974b92",
   "metadata": {},
   "outputs": [],
   "source": [
    "tags_data.drop([\"slice\",\"of\",\"life\"],axis=1,inplace=True)"
   ]
  },
  {
   "cell_type": "code",
   "execution_count": 36,
   "id": "06a57c50",
   "metadata": {},
   "outputs": [
    {
     "data": {
      "text/plain": [
       "{'action',\n",
       " 'adventure',\n",
       " 'avant',\n",
       " 'boys',\n",
       " 'comedy',\n",
       " 'drama',\n",
       " 'ecchi',\n",
       " 'fantasy',\n",
       " 'garde',\n",
       " 'girls',\n",
       " 'gourmet',\n",
       " 'horror',\n",
       " 'love',\n",
       " 'mystery',\n",
       " 'romance',\n",
       " 'sci-fi',\n",
       " 'slice of life',\n",
       " 'sports',\n",
       " 'supernatural',\n",
       " 'suspense',\n",
       " 'unknown'}"
      ]
     },
     "execution_count": 36,
     "metadata": {},
     "output_type": "execute_result"
    }
   ],
   "source": [
    "set(tags_data.columns)"
   ]
  },
  {
   "cell_type": "code",
   "execution_count": 37,
   "id": "aab4be7d",
   "metadata": {},
   "outputs": [
    {
     "data": {
      "text/plain": [
       "{'adult cast',\n",
       " 'anthropomorphic',\n",
       " 'cgdct',\n",
       " 'childcare',\n",
       " 'combat sports',\n",
       " 'crossdressing',\n",
       " 'delinquents',\n",
       " 'detective',\n",
       " 'educational',\n",
       " 'gag humor',\n",
       " 'gore',\n",
       " 'harem',\n",
       " 'high stakes game',\n",
       " 'historical',\n",
       " 'idols (female)',\n",
       " 'idols (male)',\n",
       " 'isekai',\n",
       " 'iyashikei',\n",
       " 'josei',\n",
       " 'kids',\n",
       " 'love polygon',\n",
       " 'magical sex shift',\n",
       " 'mahou shoujo',\n",
       " 'martial arts',\n",
       " 'mecha',\n",
       " 'medical',\n",
       " 'military',\n",
       " 'music',\n",
       " 'mythology',\n",
       " 'organized crime',\n",
       " 'otaku culture',\n",
       " 'parody',\n",
       " 'performing arts',\n",
       " 'pets',\n",
       " 'psychological',\n",
       " 'racing',\n",
       " 'reincarnation',\n",
       " 'reverse harem',\n",
       " 'romantic subtext',\n",
       " 'samurai',\n",
       " 'school',\n",
       " 'seinen',\n",
       " 'shoujo',\n",
       " 'shounen',\n",
       " 'showbiz',\n",
       " 'space',\n",
       " 'strategy game',\n",
       " 'super power',\n",
       " 'survival',\n",
       " 'team sports',\n",
       " 'time travel',\n",
       " 'vampire',\n",
       " 'video game',\n",
       " 'visual arts',\n",
       " 'workplace'}"
      ]
     },
     "execution_count": 37,
     "metadata": {},
     "output_type": "execute_result"
    }
   ],
   "source": [
    "set(theme_data.columns)"
   ]
  },
  {
   "cell_type": "markdown",
   "id": "be221b47",
   "metadata": {},
   "source": [
    "# Data description through visualization"
   ]
  },
  {
   "cell_type": "code",
   "execution_count": 38,
   "id": "ce9ac4de",
   "metadata": {},
   "outputs": [],
   "source": [
    "tags = tags_data.sum()\n",
    "themes = theme_data.sum()"
   ]
  },
  {
   "cell_type": "code",
   "execution_count": 39,
   "id": "e710f46a",
   "metadata": {},
   "outputs": [
    {
     "data": {
      "text/plain": [
       "<matplotlib.lines.Line2D at 0x240d1644fd0>"
      ]
     },
     "execution_count": 39,
     "metadata": {},
     "output_type": "execute_result"
    },
    {
     "data": {
      "image/png": "[encoded data removed]",
      "text/plain": [
       "<Figure size 1440x720 with 1 Axes>"
      ]
     },
     "metadata": {
      "needs_background": "light"
     },
     "output_type": "display_data"
    }
   ],
   "source": [
    "plt.figure(figsize=(20,10))\n",
    "plt.title(\"Tags evaluation\")\n",
    "graph = sns.barplot(x=tags.values, y=tags.index,orient=\"h\")\n",
    "\n",
    "tags_mean = tags.mean()\n",
    "graph.axes.axvline(tags_mean, ls=\"--\", color=\"red\", label=\"mean\")"
   ]
  },
  {
   "cell_type": "code",
   "execution_count": 40,
   "id": "aef8d860",
   "metadata": {},
   "outputs": [
    {
     "data": {
      "text/plain": [
       "<matplotlib.lines.Line2D at 0x240d1804e80>"
      ]
     },
     "execution_count": 40,
     "metadata": {},
     "output_type": "execute_result"
    },
    {
     "data": {
      "image/png": "[encoded data removed]",
      "text/plain": [
       "<Figure size 1440x2160 with 1 Axes>"
      ]
     },
     "metadata": {
      "needs_background": "light"
     },
     "output_type": "display_data"
    }
   ],
   "source": [
    "plt.figure(figsize=(20,30))\n",
    "plt.title(\"Themes evaluation\")\n",
    "graph = sns.barplot(x=themes.values, y=themes.index,orient=\"h\")\n",
    "\n",
    "themes_mean = themes.mean()\n",
    "graph.axes.axvline(themes_mean, ls=\"--\", c=\"red\")"
   ]
  },
  {
   "cell_type": "code",
   "execution_count": 41,
   "id": "9c9a50db",
   "metadata": {},
   "outputs": [
    {
     "data": {
      "text/plain": [
       "[{'theme': 'adult cast', 'count': 38},\n",
       " {'theme': 'gore', 'count': 33},\n",
       " {'theme': 'racing', 'count': 68},\n",
       " {'theme': 'visual arts', 'count': 20},\n",
       " {'theme': 'cgdct', 'count': 22}]"
      ]
     },
     "execution_count": 41,
     "metadata": {},
     "output_type": "execute_result"
    }
   ],
   "source": [
    "under_average_themes =  [{\"theme\":theme, \"count\":theme_count} for theme, theme_count in zip(themes.index, themes.values) if theme_count < themes_mean]\n",
    "under_average_themes[:5]"
   ]
  },
  {
   "cell_type": "code",
   "execution_count": 42,
   "id": "e1d85dd8",
   "metadata": {},
   "outputs": [
    {
     "data": {
      "text/plain": [
       "[{'theme': 'mecha', 'count': 179},\n",
       " {'theme': 'martial arts', 'count': 73},\n",
       " {'theme': 'mythology', 'count': 102},\n",
       " {'theme': 'strategy game', 'count': 92},\n",
       " {'theme': 'historical', 'count': 202}]"
      ]
     },
     "execution_count": 42,
     "metadata": {},
     "output_type": "execute_result"
    }
   ],
   "source": [
    "average_themes = [{\"theme\":theme, \"count\":theme_count} for theme, theme_count in zip(themes.index, themes.values) if theme_count >= themes_mean]\n",
    "average_themes[:5]"
   ]
  },
  {
   "cell_type": "markdown",
   "id": "b5d20ce9",
   "metadata": {},
   "source": []
  },
  {
   "cell_type": "code",
   "execution_count": 43,
   "id": "bfbe6f51",
   "metadata": {},
   "outputs": [
    {
     "data": {
      "text/plain": [
       "[{'tag': 'avant', 'count': 1},\n",
       " {'tag': 'gourmet', 'count': 36},\n",
       " {'tag': 'supernatural', 'count': 278},\n",
       " {'tag': 'horror', 'count': 47},\n",
       " {'tag': 'boys', 'count': 9}]"
      ]
     },
     "execution_count": 43,
     "metadata": {},
     "output_type": "execute_result"
    }
   ],
   "source": [
    "tags_under_mean = [{\"tag\":tag, \"count\":tag_count} for tag, tag_count in zip(tags.index, tags.values) if tag_count < tags_mean]\n",
    "tags_under_mean[:5]"
   ]
  },
  {
   "cell_type": "code",
   "execution_count": 44,
   "id": "82ae2d04",
   "metadata": {},
   "outputs": [
    {
     "data": {
      "text/plain": [
       "[{'tag': 'romance', 'count': 369},\n",
       " {'tag': 'action', 'count': 683},\n",
       " {'tag': 'drama', 'count': 392},\n",
       " {'tag': 'fantasy', 'count': 611},\n",
       " {'tag': 'unknown', 'count': 535}]"
      ]
     },
     "execution_count": 44,
     "metadata": {},
     "output_type": "execute_result"
    }
   ],
   "source": [
    "average_tags = [{\"tag\":tag, \"count\":tag_count} for tag, tag_count in zip(tags.index, tags.values) if tag_count >= tags_mean]\n",
    "average_tags[:5]"
   ]
  },
  {
   "cell_type": "code",
   "execution_count": 45,
   "id": "cf1a30a8",
   "metadata": {},
   "outputs": [
    {
     "data": {
      "text/plain": [
       "<AxesSubplot:title={'center':'Tags comparison'}, xlabel='Tag category', ylabel='Value count'>"
      ]
     },
     "execution_count": 45,
     "metadata": {},
     "output_type": "execute_result"
    },
    {
     "data": {
      "image/png": "[encoded data removed]",
      "text/plain": [
       "<Figure size 1440x576 with 2 Axes>"
      ]
     },
     "metadata": {
      "needs_background": "light"
     },
     "output_type": "display_data"
    }
   ],
   "source": [
    "fig, ax = plt.subplots(1,2, figsize=(20,8))\n",
    "\n",
    "ax[0].set_title(\"Themes comparison\")\n",
    "ax[0].set_xlabel(\"Theme category\")\n",
    "ax[0].set_ylabel(\"Value count\")\n",
    "\n",
    "ax[1].set_title(\"Tags comparison\")\n",
    "ax[1].set_xlabel(\"Tag category\")\n",
    "ax[1].set_ylabel(\"Value count\")\n",
    "\n",
    "sns.barplot(ax=ax[0], x=[\"Themes under average\", \"Average themes\"], y=[len(under_average_themes), len(average_themes)])\n",
    "sns.barplot(ax=ax[1], x=[\"Tags under average\", \"Average tags\"], y=[len(tags_under_mean), len(average_tags)])"
   ]
  },
  {
   "cell_type": "markdown",
   "id": "7a0f36b2",
   "metadata": {},
   "source": [
    "- There are some themes that are less used in animes\n",
    "- Animes have some tags that are less used. Nonetheless, the difference is more or less neglectable\n",
    "- We can seek if there's a relation between theses results and animes ratings\n",
    "- There are more animes with the `comedy` tag and those having the `kids` theme too.\n",
    "- It could be a good idea to make a `comic` anime which main theme is `kids` to reach a larger public see that they are most used `tag` and `theme`\n",
    "- Let's see if these are `the most popular` animes"
   ]
  },
  {
   "cell_type": "code",
   "execution_count": 46,
   "id": "147ddd53",
   "metadata": {},
   "outputs": [],
   "source": [
    "# correcting the status column in the main DataFrame\n",
    "# some cells have \"Not\" or \"ished\" as value instead of \"Not finished\"\n",
    "for index in anime_data.index:\n",
    "    if anime_data.loc[index,\"status\"] == \"Not\" or anime_data.loc[index,\"status\"] == \"Ished\" or anime_data.loc[index,\"status\"] == \"ished\":\n",
    "        anime_data.loc[index,\"status\"] = \"Not finished\""
   ]
  },
  {
   "cell_type": "markdown",
   "id": "5f147436",
   "metadata": {},
   "source": [
    "## Ratings visualization"
   ]
  },
  {
   "cell_type": "code",
   "execution_count": 62,
   "id": "ab88e72d",
   "metadata": {},
   "outputs": [
    {
     "data": {
      "text/plain": [
       "(5.438096505823619, 36614.37104825291)"
      ]
     },
     "execution_count": 62,
     "metadata": {},
     "output_type": "execute_result"
    }
   ],
   "source": [
    "ratings_mean = anime_data.rating.mean()\n",
    "raters_mean = anime_data.rated_by.mean()\n",
    "ratings_mean, raters_mean"
   ]
  },
  {
   "cell_type": "code",
   "execution_count": 48,
   "id": "e86e4b98",
   "metadata": {},
   "outputs": [],
   "source": [
    "kids_or_comedy_anime = []\n",
    "not_kid_or_comedy_anime = []"
   ]
  },
  {
   "cell_type": "markdown",
   "id": "56c2e205",
   "metadata": {},
   "source": [
    "## Plot comparison if kids theme or comedy tag"
   ]
  },
  {
   "cell_type": "markdown",
   "id": "a96e75f9",
   "metadata": {},
   "source": [
    "1.) Rating by demographic, status and source"
   ]
  },
  {
   "cell_type": "code",
   "execution_count": 49,
   "id": "f05814de",
   "metadata": {},
   "outputs": [
    {
     "data": {
      "text/plain": [
       "<AxesSubplot:xlabel='status', ylabel='rating'>"
      ]
     },
     "execution_count": 49,
     "metadata": {},
     "output_type": "execute_result"
    },
    {
     "data": {
      "image/png": "[encoded data removed]",
      "text/plain": [
       "<Figure size 1440x576 with 2 Axes>"
      ]
     },
     "metadata": {
      "needs_background": "light"
     },
     "output_type": "display_data"
    }
   ],
   "source": [
    "fig, ax = plt.subplots(1,2, figsize=(20,8))\n",
    "\n",
    "for i in range(2):\n",
    "    ax[i].axhline(ratings_mean, ls=\"--\", color=\"r\")\n",
    "\n",
    "sns.barplot(ax=ax[0], x=anime_data.demographic, y=anime_data.rating)\n",
    "sns.barplot(ax=ax[1], x=anime_data.status, y=anime_data.rating)"
   ]
  },
  {
   "cell_type": "code",
   "execution_count": 50,
   "id": "99f60e91",
   "metadata": {},
   "outputs": [
    {
     "data": {
      "text/plain": [
       "<matplotlib.lines.Line2D at 0x240d2349400>"
      ]
     },
     "execution_count": 50,
     "metadata": {},
     "output_type": "execute_result"
    },
    {
     "data": {
      "image/png": "[encoded data removed]",
      "text/plain": [
       "<Figure size 1440x720 with 1 Axes>"
      ]
     },
     "metadata": {
      "needs_background": "light"
     },
     "output_type": "display_data"
    }
   ],
   "source": [
    "plt.figure(figsize=(20,10))\n",
    "graph = sns.barplot(x=anime_data.source, y=anime_data.rating)\n",
    "graph.axes.axhline(ratings_mean, c=\"r\")"
   ]
  },
  {
   "cell_type": "markdown",
   "id": "8ef92007",
   "metadata": {},
   "source": [
    "- `Finished` animes have the highest rates. After them, comes the airing ones. Those that are not finished are less popular, they are even under the average on ratings\n",
    "- Animes with `kids` demographic don't have a good rating\n",
    "- And based on the anime's `source` it tends to be more or less popular"
   ]
  },
  {
   "cell_type": "markdown",
   "id": "c26ffe21",
   "metadata": {},
   "source": [
    "2.) Rating by source with a demographic hue and status hue"
   ]
  },
  {
   "cell_type": "code",
   "execution_count": 51,
   "id": "1012452f",
   "metadata": {},
   "outputs": [
    {
     "data": {
      "text/plain": [
       "<matplotlib.lines.Line2D at 0x240d29ca970>"
      ]
     },
     "execution_count": 51,
     "metadata": {},
     "output_type": "execute_result"
    },
    {
     "data": {
      "image/png": "[encoded data removed]",
      "text/plain": [
       "<Figure size 1440x720 with 1 Axes>"
      ]
     },
     "metadata": {
      "needs_background": "light"
     },
     "output_type": "display_data"
    }
   ],
   "source": [
    "plt.figure(figsize=(20,10))\n",
    "graph = sns.barplot(x=anime_data.source, y=anime_data.rating, hue=anime_data.demographic)\n",
    "graph.axes.axhline(ratings_mean, c=\"r\")"
   ]
  },
  {
   "cell_type": "code",
   "execution_count": 52,
   "id": "a0f8f678",
   "metadata": {},
   "outputs": [
    {
     "data": {
      "text/plain": [
       "<matplotlib.lines.Line2D at 0x240d218fa30>"
      ]
     },
     "execution_count": 52,
     "metadata": {},
     "output_type": "execute_result"
    },
    {
     "data": {
      "image/png": "[encoded data removed]",
      "text/plain": [
       "<Figure size 1440x720 with 1 Axes>"
      ]
     },
     "metadata": {
      "needs_background": "light"
     },
     "output_type": "display_data"
    }
   ],
   "source": [
    "plt.figure(figsize=(20,10))\n",
    "graph = sns.barplot(x=anime_data.source, y=anime_data.rating, hue=anime_data.status)\n",
    "graph.axes.axhline(ratings_mean, c=\"r\")"
   ]
  },
  {
   "cell_type": "markdown",
   "id": "28e69d78",
   "metadata": {},
   "source": [
    "- For each source, the `kids` demographic is the least popular\n",
    "- When the anime is provided as `a ressource to read` it tends be more popular when it's airing otherwise, the `finished` ones are more popular"
   ]
  },
  {
   "cell_type": "markdown",
   "id": "e7531547",
   "metadata": {},
   "source": [
    "3.) Rating by the number of people who "
   ]
  },
  {
   "cell_type": "code",
   "execution_count": 65,
   "id": "cd51a5f9",
   "metadata": {},
   "outputs": [
    {
     "data": {
      "text/plain": [
       "<matplotlib.lines.Line2D at 0x240e4c7b460>"
      ]
     },
     "execution_count": 65,
     "metadata": {},
     "output_type": "execute_result"
    },
    {
     "data": {
      "image/png": "[encoded data removed]",
      "text/plain": [
       "<Figure size 1080x720 with 1 Axes>"
      ]
     },
     "metadata": {
      "needs_background": "light"
     },
     "output_type": "display_data"
    }
   ],
   "source": [
    "plt.figure(figsize=(15,10))\n",
    "graph = sns.scatterplot(data=anime_data,x='rating', y='rated_by',hue='source')\n",
    "\n",
    "graph.axes.axvline(ratings_mean, ls=\"--\")\n",
    "graph.axes.axhline(raters_mean, ls=\"--\", c=\"r\")"
   ]
  },
  {
   "cell_type": "markdown",
   "id": "da631fe4",
   "metadata": {},
   "source": [
    "We can see that most raters are `manga` readers. Thus mangas are the most loved products."
   ]
  },
  {
   "cell_type": "code",
   "execution_count": null,
   "id": "3b104c5b",
   "metadata": {},
   "outputs": [],
   "source": []
  }
 ],
 "metadata": {
  "kernelspec": {
   "display_name": "Python 3 (ipykernel)",
   "language": "python",
   "name": "python3"
  },
  "language_info": {
   "codemirror_mode": {
    "name": "ipython",
    "version": 3
   },
   "file_extension": ".py",
   "mimetype": "text/x-python",
   "name": "python",
   "nbconvert_exporter": "python",
   "pygments_lexer": "ipython3",
   "version": "3.9.7"
  }
 },
 "nbformat": 4,
 "nbformat_minor": 5
}
