{
 "cells": [
  {
   "cell_type": "code",
   "execution_count": 1,
   "id": "8b1976a7",
   "metadata": {},
   "outputs": [
    {
     "data": {
      "text/plain": "0       BMW\n1    Toyota\n2     Honda\ndtype: object"
     },
     "execution_count": 1,
     "metadata": {},
     "output_type": "execute_result"
    }
   ],
   "source": [
    "import pandas as pd\n",
    "\n",
    "# series\n",
    "series = pd.Series([\"BMW\", \"Toyota\", \"Honda\"])\n",
    "series"
   ]
  },
  {
   "cell_type": "code",
   "execution_count": 2,
   "id": "49b072b7",
   "metadata": {},
   "outputs": [
    {
     "data": {
      "text/plain": "0     Blue\n1      Red\n2    Green\ndtype: object"
     },
     "execution_count": 2,
     "metadata": {},
     "output_type": "execute_result"
    }
   ],
   "source": [
    "# series have 1 dimension\n",
    "colors = pd.Series([\"Blue\", \"Red\", \"Green\"])\n",
    "colors"
   ]
  },
  {
   "cell_type": "code",
   "execution_count": 3,
   "id": "3bfcf15c",
   "metadata": {},
   "outputs": [
    {
     "data": {
      "text/plain": "  Car Maker Colors\n0       BMW   Blue\n1    Toyota    Red\n2     Honda  Green",
      "text/html": "<div>\n<style scoped>\n    .dataframe tbody tr th:only-of-type {\n        vertical-align: middle;\n    }\n\n    .dataframe tbody tr th {\n        vertical-align: top;\n    }\n\n    .dataframe thead th {\n        text-align: right;\n    }\n</style>\n<table border=\"1\" class=\"dataframe\">\n  <thead>\n    <tr style=\"text-align: right;\">\n      <th></th>\n      <th>Car Maker</th>\n      <th>Colors</th>\n    </tr>\n  </thead>\n  <tbody>\n    <tr>\n      <th>0</th>\n      <td>BMW</td>\n      <td>Blue</td>\n    </tr>\n    <tr>\n      <th>1</th>\n      <td>Toyota</td>\n      <td>Red</td>\n    </tr>\n    <tr>\n      <th>2</th>\n      <td>Honda</td>\n      <td>Green</td>\n    </tr>\n  </tbody>\n</table>\n</div>"
     },
     "execution_count": 3,
     "metadata": {},
     "output_type": "execute_result"
    }
   ],
   "source": [
    "# Dataframe has 2 dimensions\n",
    "car_data = pd.DataFrame({\n",
    "    \"Car Maker\": series,\n",
    "    \"Colors\": colors\n",
    "})\n",
    "car_data"
   ]
  },
  {
   "cell_type": "code",
   "execution_count": 4,
   "id": "2bac8d2c",
   "metadata": {},
   "outputs": [
    {
     "data": {
      "text/plain": "     Make Colour  Odometer (KM)  Doors       Price\n0  Toyota  White         150043      4   $4,000.00\n1   Honda    Red          87899      4   $5,000.00\n2  Toyota   Blue          32549      3   $7,000.00\n3     BMW  Black          11179      5  $22,000.00\n4  Nissan  White         213095      4   $3,500.00\n5  Toyota  Green          99213      4   $4,500.00\n6   Honda   Blue          45698      4   $7,500.00\n7   Honda   Blue          54738      4   $7,000.00\n8  Toyota  White          60000      4   $6,250.00\n9  Nissan  White          31600      4   $9,700.00",
      "text/html": "<div>\n<style scoped>\n    .dataframe tbody tr th:only-of-type {\n        vertical-align: middle;\n    }\n\n    .dataframe tbody tr th {\n        vertical-align: top;\n    }\n\n    .dataframe thead th {\n        text-align: right;\n    }\n</style>\n<table border=\"1\" class=\"dataframe\">\n  <thead>\n    <tr style=\"text-align: right;\">\n      <th></th>\n      <th>Make</th>\n      <th>Colour</th>\n      <th>Odometer (KM)</th>\n      <th>Doors</th>\n      <th>Price</th>\n    </tr>\n  </thead>\n  <tbody>\n    <tr>\n      <th>0</th>\n      <td>Toyota</td>\n      <td>White</td>\n      <td>150043</td>\n      <td>4</td>\n      <td>$4,000.00</td>\n    </tr>\n    <tr>\n      <th>1</th>\n      <td>Honda</td>\n      <td>Red</td>\n      <td>87899</td>\n      <td>4</td>\n      <td>$5,000.00</td>\n    </tr>\n    <tr>\n      <th>2</th>\n      <td>Toyota</td>\n      <td>Blue</td>\n      <td>32549</td>\n      <td>3</td>\n      <td>$7,000.00</td>\n    </tr>\n    <tr>\n      <th>3</th>\n      <td>BMW</td>\n      <td>Black</td>\n      <td>11179</td>\n      <td>5</td>\n      <td>$22,000.00</td>\n    </tr>\n    <tr>\n      <th>4</th>\n      <td>Nissan</td>\n      <td>White</td>\n      <td>213095</td>\n      <td>4</td>\n      <td>$3,500.00</td>\n    </tr>\n    <tr>\n      <th>5</th>\n      <td>Toyota</td>\n      <td>Green</td>\n      <td>99213</td>\n      <td>4</td>\n      <td>$4,500.00</td>\n    </tr>\n    <tr>\n      <th>6</th>\n      <td>Honda</td>\n      <td>Blue</td>\n      <td>45698</td>\n      <td>4</td>\n      <td>$7,500.00</td>\n    </tr>\n    <tr>\n      <th>7</th>\n      <td>Honda</td>\n      <td>Blue</td>\n      <td>54738</td>\n      <td>4</td>\n      <td>$7,000.00</td>\n    </tr>\n    <tr>\n      <th>8</th>\n      <td>Toyota</td>\n      <td>White</td>\n      <td>60000</td>\n      <td>4</td>\n      <td>$6,250.00</td>\n    </tr>\n    <tr>\n      <th>9</th>\n      <td>Nissan</td>\n      <td>White</td>\n      <td>31600</td>\n      <td>4</td>\n      <td>$9,700.00</td>\n    </tr>\n  </tbody>\n</table>\n</div>"
     },
     "execution_count": 4,
     "metadata": {},
     "output_type": "execute_result"
    }
   ],
   "source": [
    "# importing data\n",
    "car_sales = pd.read_csv(\"../Data/car-sales.csv\")\n",
    "car_sales"
   ]
  },
  {
   "cell_type": "code",
   "execution_count": 5,
   "id": "a156c83d",
   "metadata": {},
   "outputs": [],
   "source": [
    "# exporting a data frame\n",
    "car_data.to_csv(\"exported.csv\")"
   ]
  },
  {
   "cell_type": "markdown",
   "id": "18c884f8",
   "metadata": {},
   "source": [
    "# Describing data "
   ]
  },
  {
   "cell_type": "code",
   "execution_count": 6,
   "id": "fcd15bf2",
   "metadata": {},
   "outputs": [
    {
     "data": {
      "text/plain": "Make             object\nColour           object\nOdometer (KM)     int64\nDoors             int64\nPrice            object\ndtype: object"
     },
     "execution_count": 6,
     "metadata": {},
     "output_type": "execute_result"
    }
   ],
   "source": [
    "# listing the data frame data types\n",
    "car_sales.dtypes"
   ]
  },
  {
   "cell_type": "code",
   "execution_count": 7,
   "id": "91257143",
   "metadata": {},
   "outputs": [
    {
     "data": {
      "text/plain": "Index(['Make', 'Colour', 'Odometer (KM)', 'Doors', 'Price'], dtype='object')"
     },
     "execution_count": 7,
     "metadata": {},
     "output_type": "execute_result"
    }
   ],
   "source": [
    "# listing columns\n",
    "car_columns = car_sales.columns\n",
    "car_columns"
   ]
  },
  {
   "cell_type": "code",
   "execution_count": 8,
   "id": "e2be6bdb",
   "metadata": {},
   "outputs": [
    {
     "data": {
      "text/plain": "RangeIndex(start=0, stop=10, step=1)"
     },
     "execution_count": 8,
     "metadata": {},
     "output_type": "execute_result"
    }
   ],
   "source": [
    "# listing the indexes\n",
    "car_index = car_sales.index\n",
    "car_index"
   ]
  },
  {
   "cell_type": "code",
   "execution_count": 9,
   "id": "8cf7eef2",
   "metadata": {},
   "outputs": [
    {
     "data": {
      "text/plain": "       Odometer (KM)      Doors\ncount      10.000000  10.000000\nmean    78601.400000   4.000000\nstd     61983.471735   0.471405\nmin     11179.000000   3.000000\n25%     35836.250000   4.000000\n50%     57369.000000   4.000000\n75%     96384.500000   4.000000\nmax    213095.000000   5.000000",
      "text/html": "<div>\n<style scoped>\n    .dataframe tbody tr th:only-of-type {\n        vertical-align: middle;\n    }\n\n    .dataframe tbody tr th {\n        vertical-align: top;\n    }\n\n    .dataframe thead th {\n        text-align: right;\n    }\n</style>\n<table border=\"1\" class=\"dataframe\">\n  <thead>\n    <tr style=\"text-align: right;\">\n      <th></th>\n      <th>Odometer (KM)</th>\n      <th>Doors</th>\n    </tr>\n  </thead>\n  <tbody>\n    <tr>\n      <th>count</th>\n      <td>10.000000</td>\n      <td>10.000000</td>\n    </tr>\n    <tr>\n      <th>mean</th>\n      <td>78601.400000</td>\n      <td>4.000000</td>\n    </tr>\n    <tr>\n      <th>std</th>\n      <td>61983.471735</td>\n      <td>0.471405</td>\n    </tr>\n    <tr>\n      <th>min</th>\n      <td>11179.000000</td>\n      <td>3.000000</td>\n    </tr>\n    <tr>\n      <th>25%</th>\n      <td>35836.250000</td>\n      <td>4.000000</td>\n    </tr>\n    <tr>\n      <th>50%</th>\n      <td>57369.000000</td>\n      <td>4.000000</td>\n    </tr>\n    <tr>\n      <th>75%</th>\n      <td>96384.500000</td>\n      <td>4.000000</td>\n    </tr>\n    <tr>\n      <th>max</th>\n      <td>213095.000000</td>\n      <td>5.000000</td>\n    </tr>\n  </tbody>\n</table>\n</div>"
     },
     "execution_count": 9,
     "metadata": {},
     "output_type": "execute_result"
    }
   ],
   "source": [
    "# having some statistical informations about the data frame\n",
    "# describe works only on numerical values\n",
    "car_sales.describe()"
   ]
  },
  {
   "cell_type": "code",
   "execution_count": 10,
   "id": "d1f51caf",
   "metadata": {},
   "outputs": [
    {
     "name": "stdout",
     "output_type": "stream",
     "text": [
      "<class 'pandas.core.frame.DataFrame'>\n",
      "RangeIndex: 10 entries, 0 to 9\n",
      "Data columns (total 5 columns):\n",
      " #   Column         Non-Null Count  Dtype \n",
      "---  ------         --------------  ----- \n",
      " 0   Make           10 non-null     object\n",
      " 1   Colour         10 non-null     object\n",
      " 2   Odometer (KM)  10 non-null     int64 \n",
      " 3   Doors          10 non-null     int64 \n",
      " 4   Price          10 non-null     object\n",
      "dtypes: int64(2), object(3)\n",
      "memory usage: 528.0+ bytes\n"
     ]
    }
   ],
   "source": [
    "# general summary\n",
    "car_sales.info()"
   ]
  },
  {
   "cell_type": "code",
   "execution_count": 11,
   "id": "2e2e5e3a",
   "metadata": {},
   "outputs": [
    {
     "name": "stderr",
     "output_type": "stream",
     "text": [
      "C:\\Users\\tchio\\AppData\\Local\\Temp/ipykernel_972/2669820985.py:2: FutureWarning: Dropping of nuisance columns in DataFrame reductions (with 'numeric_only=None') is deprecated; in a future version this will raise TypeError.  Select only valid columns before calling the reduction.\n",
      "  car_sales.mean()\n"
     ]
    },
    {
     "data": {
      "text/plain": "Odometer (KM)    78601.4\nDoors                4.0\ndtype: float64"
     },
     "execution_count": 11,
     "metadata": {},
     "output_type": "execute_result"
    }
   ],
   "source": [
    "# the average of numerical columns\n",
    "car_sales.mean()"
   ]
  },
  {
   "cell_type": "code",
   "execution_count": 12,
   "id": "b86bc3d8",
   "metadata": {},
   "outputs": [
    {
     "data": {
      "text/plain": "Make             ToyotaHondaToyotaBMWNissanToyotaHondaHondaToyo...\nColour               WhiteRedBlueBlackWhiteGreenBlueBlueWhiteWhite\nOdometer (KM)                                               786014\nDoors                                                           40\nPrice            $4,000.00$5,000.00$7,000.00$22,000.00$3,500.00...\ndtype: object"
     },
     "execution_count": 12,
     "metadata": {},
     "output_type": "execute_result"
    }
   ],
   "source": [
    "# for summing up different values of each columns\n",
    "car_sales.sum()"
   ]
  },
  {
   "cell_type": "code",
   "execution_count": 13,
   "id": "adf1d997",
   "metadata": {},
   "outputs": [
    {
     "data": {
      "text/plain": "40"
     },
     "execution_count": 13,
     "metadata": {},
     "output_type": "execute_result"
    }
   ],
   "source": [
    "# On a single column\n",
    "car_sales[\"Doors\"].sum()"
   ]
  },
  {
   "cell_type": "code",
   "execution_count": 14,
   "id": "60c2cb13",
   "metadata": {},
   "outputs": [
    {
     "data": {
      "text/plain": "10"
     },
     "execution_count": 14,
     "metadata": {},
     "output_type": "execute_result"
    }
   ],
   "source": [
    "# retrieving the number of records in a data frame\n",
    "len(car_sales)"
   ]
  },
  {
   "cell_type": "markdown",
   "id": "39d87d03",
   "metadata": {},
   "source": [
    "## Viewing and selecting data"
   ]
  },
  {
   "cell_type": "code",
   "execution_count": 15,
   "id": "5d68e405",
   "metadata": {},
   "outputs": [
    {
     "data": {
      "text/plain": "     Make Colour  Odometer (KM)  Doors       Price\n0  Toyota  White         150043      4   $4,000.00\n1   Honda    Red          87899      4   $5,000.00\n2  Toyota   Blue          32549      3   $7,000.00\n3     BMW  Black          11179      5  $22,000.00\n4  Nissan  White         213095      4   $3,500.00",
      "text/html": "<div>\n<style scoped>\n    .dataframe tbody tr th:only-of-type {\n        vertical-align: middle;\n    }\n\n    .dataframe tbody tr th {\n        vertical-align: top;\n    }\n\n    .dataframe thead th {\n        text-align: right;\n    }\n</style>\n<table border=\"1\" class=\"dataframe\">\n  <thead>\n    <tr style=\"text-align: right;\">\n      <th></th>\n      <th>Make</th>\n      <th>Colour</th>\n      <th>Odometer (KM)</th>\n      <th>Doors</th>\n      <th>Price</th>\n    </tr>\n  </thead>\n  <tbody>\n    <tr>\n      <th>0</th>\n      <td>Toyota</td>\n      <td>White</td>\n      <td>150043</td>\n      <td>4</td>\n      <td>$4,000.00</td>\n    </tr>\n    <tr>\n      <th>1</th>\n      <td>Honda</td>\n      <td>Red</td>\n      <td>87899</td>\n      <td>4</td>\n      <td>$5,000.00</td>\n    </tr>\n    <tr>\n      <th>2</th>\n      <td>Toyota</td>\n      <td>Blue</td>\n      <td>32549</td>\n      <td>3</td>\n      <td>$7,000.00</td>\n    </tr>\n    <tr>\n      <th>3</th>\n      <td>BMW</td>\n      <td>Black</td>\n      <td>11179</td>\n      <td>5</td>\n      <td>$22,000.00</td>\n    </tr>\n    <tr>\n      <th>4</th>\n      <td>Nissan</td>\n      <td>White</td>\n      <td>213095</td>\n      <td>4</td>\n      <td>$3,500.00</td>\n    </tr>\n  </tbody>\n</table>\n</div>"
     },
     "execution_count": 15,
     "metadata": {},
     "output_type": "execute_result"
    }
   ],
   "source": [
    "# retrieving the top 5 rows of the data frame\n",
    "# for the top 7 use head(7)\n",
    "car_sales.head()"
   ]
  },
  {
   "cell_type": "code",
   "execution_count": 16,
   "id": "951b3924",
   "metadata": {},
   "outputs": [
    {
     "data": {
      "text/plain": "     Make Colour  Odometer (KM)  Doors      Price\n5  Toyota  Green          99213      4  $4,500.00\n6   Honda   Blue          45698      4  $7,500.00\n7   Honda   Blue          54738      4  $7,000.00\n8  Toyota  White          60000      4  $6,250.00\n9  Nissan  White          31600      4  $9,700.00",
      "text/html": "<div>\n<style scoped>\n    .dataframe tbody tr th:only-of-type {\n        vertical-align: middle;\n    }\n\n    .dataframe tbody tr th {\n        vertical-align: top;\n    }\n\n    .dataframe thead th {\n        text-align: right;\n    }\n</style>\n<table border=\"1\" class=\"dataframe\">\n  <thead>\n    <tr style=\"text-align: right;\">\n      <th></th>\n      <th>Make</th>\n      <th>Colour</th>\n      <th>Odometer (KM)</th>\n      <th>Doors</th>\n      <th>Price</th>\n    </tr>\n  </thead>\n  <tbody>\n    <tr>\n      <th>5</th>\n      <td>Toyota</td>\n      <td>Green</td>\n      <td>99213</td>\n      <td>4</td>\n      <td>$4,500.00</td>\n    </tr>\n    <tr>\n      <th>6</th>\n      <td>Honda</td>\n      <td>Blue</td>\n      <td>45698</td>\n      <td>4</td>\n      <td>$7,500.00</td>\n    </tr>\n    <tr>\n      <th>7</th>\n      <td>Honda</td>\n      <td>Blue</td>\n      <td>54738</td>\n      <td>4</td>\n      <td>$7,000.00</td>\n    </tr>\n    <tr>\n      <th>8</th>\n      <td>Toyota</td>\n      <td>White</td>\n      <td>60000</td>\n      <td>4</td>\n      <td>$6,250.00</td>\n    </tr>\n    <tr>\n      <th>9</th>\n      <td>Nissan</td>\n      <td>White</td>\n      <td>31600</td>\n      <td>4</td>\n      <td>$9,700.00</td>\n    </tr>\n  </tbody>\n</table>\n</div>"
     },
     "execution_count": 16,
     "metadata": {},
     "output_type": "execute_result"
    }
   ],
   "source": [
    "# retrieving the 5 last rows\n",
    "# for the n last rows use tail(n)\n",
    "car_sales.tail()"
   ]
  },
  {
   "cell_type": "code",
   "execution_count": 17,
   "id": "5e872311",
   "metadata": {},
   "outputs": [],
   "source": [
    "# .loc and .iloc\n",
    "animals = pd.Series([\"cat\", \"dog\", \"bird\", \"panda\", \"snake\"],\n",
    "                    index=[0, 3, 9, 8, 3])"
   ]
  },
  {
   "cell_type": "code",
   "execution_count": 18,
   "id": "2bac3a6d",
   "metadata": {},
   "outputs": [
    {
     "data": {
      "text/plain": "0      cat\n3      dog\n9     bird\n8    panda\n3    snake\ndtype: object"
     },
     "execution_count": 18,
     "metadata": {},
     "output_type": "execute_result"
    }
   ],
   "source": [
    "animals"
   ]
  },
  {
   "cell_type": "markdown",
   "id": "9e093503",
   "metadata": {},
   "source": [
    "# iloc and loc"
   ]
  },
  {
   "cell_type": "code",
   "execution_count": 19,
   "id": "5d65d4bc",
   "metadata": {},
   "outputs": [
    {
     "data": {
      "text/plain": "3      dog\n3    snake\ndtype: object"
     },
     "execution_count": 19,
     "metadata": {},
     "output_type": "execute_result"
    }
   ],
   "source": [
    "# loc returns the data with the given row index\n",
    "animals.loc[3]"
   ]
  },
  {
   "cell_type": "code",
   "execution_count": 20,
   "id": "730f03ab",
   "metadata": {},
   "outputs": [
    {
     "data": {
      "text/plain": "'panda'"
     },
     "execution_count": 20,
     "metadata": {},
     "output_type": "execute_result"
    }
   ],
   "source": [
    "# iloc returns the data at the given index\n",
    "animals.iloc[3]"
   ]
  },
  {
   "cell_type": "code",
   "execution_count": 21,
   "id": "70d59979",
   "metadata": {},
   "outputs": [
    {
     "data": {
      "text/plain": "0    Toyota\n1     Honda\n2    Toyota\n3       BMW\n4    Nissan\n5    Toyota\n6     Honda\n7     Honda\n8    Toyota\n9    Nissan\nName: Make, dtype: object"
     },
     "execution_count": 21,
     "metadata": {},
     "output_type": "execute_result"
    }
   ],
   "source": [
    "# selecting one column\n",
    "car_sales[\"Make\"]"
   ]
  },
  {
   "cell_type": "code",
   "execution_count": 22,
   "id": "d4ae0348",
   "metadata": {},
   "outputs": [
    {
     "data": {
      "text/plain": "0    Toyota\n1     Honda\n2    Toyota\n3       BMW\n4    Nissan\n5    Toyota\n6     Honda\n7     Honda\n8    Toyota\n9    Nissan\nName: Make, dtype: object"
     },
     "execution_count": 22,
     "metadata": {},
     "output_type": "execute_result"
    }
   ],
   "source": [
    "# or do\n",
    "# it doesn't work if the columun's name has a space\n",
    "car_sales.Make\n"
   ]
  },
  {
   "cell_type": "code",
   "execution_count": 23,
   "id": "cf5045b4",
   "metadata": {},
   "outputs": [
    {
     "data": {
      "text/plain": "     Make Colour  Odometer (KM)  Doors      Price\n0  Toyota  White         150043      4  $4,000.00\n2  Toyota   Blue          32549      3  $7,000.00\n5  Toyota  Green          99213      4  $4,500.00\n8  Toyota  White          60000      4  $6,250.00",
      "text/html": "<div>\n<style scoped>\n    .dataframe tbody tr th:only-of-type {\n        vertical-align: middle;\n    }\n\n    .dataframe tbody tr th {\n        vertical-align: top;\n    }\n\n    .dataframe thead th {\n        text-align: right;\n    }\n</style>\n<table border=\"1\" class=\"dataframe\">\n  <thead>\n    <tr style=\"text-align: right;\">\n      <th></th>\n      <th>Make</th>\n      <th>Colour</th>\n      <th>Odometer (KM)</th>\n      <th>Doors</th>\n      <th>Price</th>\n    </tr>\n  </thead>\n  <tbody>\n    <tr>\n      <th>0</th>\n      <td>Toyota</td>\n      <td>White</td>\n      <td>150043</td>\n      <td>4</td>\n      <td>$4,000.00</td>\n    </tr>\n    <tr>\n      <th>2</th>\n      <td>Toyota</td>\n      <td>Blue</td>\n      <td>32549</td>\n      <td>3</td>\n      <td>$7,000.00</td>\n    </tr>\n    <tr>\n      <th>5</th>\n      <td>Toyota</td>\n      <td>Green</td>\n      <td>99213</td>\n      <td>4</td>\n      <td>$4,500.00</td>\n    </tr>\n    <tr>\n      <th>8</th>\n      <td>Toyota</td>\n      <td>White</td>\n      <td>60000</td>\n      <td>4</td>\n      <td>$6,250.00</td>\n    </tr>\n  </tbody>\n</table>\n</div>"
     },
     "execution_count": 23,
     "metadata": {},
     "output_type": "execute_result"
    }
   ],
   "source": [
    "# selecting rows based on a condtition\n",
    "# EX: cars made by Toyota\n",
    "car_sales[car_sales[\"Make\"] == \"Toyota\"]"
   ]
  },
  {
   "cell_type": "markdown",
   "id": "6f32d70e",
   "metadata": {},
   "source": [
    "## Viewing and selecting data (continued)"
   ]
  },
  {
   "cell_type": "code",
   "execution_count": 24,
   "id": "adb9c5b6",
   "metadata": {},
   "outputs": [
    {
     "data": {
      "text/plain": "Doors   3  4  5\nMake           \nBMW     0  0  1\nHonda   0  3  0\nNissan  0  2  0\nToyota  1  3  0",
      "text/html": "<div>\n<style scoped>\n    .dataframe tbody tr th:only-of-type {\n        vertical-align: middle;\n    }\n\n    .dataframe tbody tr th {\n        vertical-align: top;\n    }\n\n    .dataframe thead th {\n        text-align: right;\n    }\n</style>\n<table border=\"1\" class=\"dataframe\">\n  <thead>\n    <tr style=\"text-align: right;\">\n      <th>Doors</th>\n      <th>3</th>\n      <th>4</th>\n      <th>5</th>\n    </tr>\n    <tr>\n      <th>Make</th>\n      <th></th>\n      <th></th>\n      <th></th>\n    </tr>\n  </thead>\n  <tbody>\n    <tr>\n      <th>BMW</th>\n      <td>0</td>\n      <td>0</td>\n      <td>1</td>\n    </tr>\n    <tr>\n      <th>Honda</th>\n      <td>0</td>\n      <td>3</td>\n      <td>0</td>\n    </tr>\n    <tr>\n      <th>Nissan</th>\n      <td>0</td>\n      <td>2</td>\n      <td>0</td>\n    </tr>\n    <tr>\n      <th>Toyota</th>\n      <td>1</td>\n      <td>3</td>\n      <td>0</td>\n    </tr>\n  </tbody>\n</table>\n</div>"
     },
     "execution_count": 24,
     "metadata": {},
     "output_type": "execute_result"
    }
   ],
   "source": [
    "# aggregating and comparing data through 2 columns\n",
    "pd.crosstab(car_sales.Make, car_sales.Doors)"
   ]
  },
  {
   "cell_type": "code",
   "execution_count": 25,
   "id": "2500b41e",
   "metadata": {},
   "outputs": [
    {
     "data": {
      "text/plain": "        Odometer (KM)  Doors\nMake                        \nBMW      11179.000000   5.00\nHonda    62778.333333   4.00\nNissan  122347.500000   4.00\nToyota   85451.250000   3.75",
      "text/html": "<div>\n<style scoped>\n    .dataframe tbody tr th:only-of-type {\n        vertical-align: middle;\n    }\n\n    .dataframe tbody tr th {\n        vertical-align: top;\n    }\n\n    .dataframe thead th {\n        text-align: right;\n    }\n</style>\n<table border=\"1\" class=\"dataframe\">\n  <thead>\n    <tr style=\"text-align: right;\">\n      <th></th>\n      <th>Odometer (KM)</th>\n      <th>Doors</th>\n    </tr>\n    <tr>\n      <th>Make</th>\n      <th></th>\n      <th></th>\n    </tr>\n  </thead>\n  <tbody>\n    <tr>\n      <th>BMW</th>\n      <td>11179.000000</td>\n      <td>5.00</td>\n    </tr>\n    <tr>\n      <th>Honda</th>\n      <td>62778.333333</td>\n      <td>4.00</td>\n    </tr>\n    <tr>\n      <th>Nissan</th>\n      <td>122347.500000</td>\n      <td>4.00</td>\n    </tr>\n    <tr>\n      <th>Toyota</th>\n      <td>85451.250000</td>\n      <td>3.75</td>\n    </tr>\n  </tbody>\n</table>\n</div>"
     },
     "execution_count": 25,
     "metadata": {},
     "output_type": "execute_result"
    }
   ],
   "source": [
    "# for more columns use groupby\n",
    "# groupby is always combined with an operation like mean()\n",
    "car_sales.groupby([\"Make\"]).mean()"
   ]
  },
  {
   "cell_type": "code",
   "execution_count": 26,
   "id": "56b0a13e",
   "metadata": {},
   "outputs": [
    {
     "data": {
      "text/plain": "<AxesSubplot:>"
     },
     "execution_count": 26,
     "metadata": {},
     "output_type": "execute_result"
    },
    {
     "data": {
      "text/plain": "<Figure size 432x288 with 1 Axes>",
      "image/png": "[encoded data removed]"
     },
     "metadata": {
      "needs_background": "light"
     },
     "output_type": "display_data"
    }
   ],
   "source": [
    "# plotting on the values of a column\n",
    "car_sales[\"Odometer (KM)\"].plot()"
   ]
  },
  {
   "cell_type": "code",
   "execution_count": 27,
   "id": "eb1b3782",
   "metadata": {},
   "outputs": [
    {
     "data": {
      "text/plain": "<AxesSubplot:>"
     },
     "execution_count": 27,
     "metadata": {},
     "output_type": "execute_result"
    },
    {
     "data": {
      "text/plain": "<Figure size 432x288 with 1 Axes>",
      "image/png": "[encoded data removed]"
     },
     "metadata": {
      "needs_background": "light"
     },
     "output_type": "display_data"
    }
   ],
   "source": [
    "car_sales.Doors.plot()"
   ]
  },
  {
   "cell_type": "code",
   "execution_count": 28,
   "id": "8f933f01",
   "metadata": {},
   "outputs": [
    {
     "data": {
      "text/plain": "     Make Colour  Odometer (KM)  Doors      Price\n4  Nissan  White         213095      4  $3,500.00",
      "text/html": "<div>\n<style scoped>\n    .dataframe tbody tr th:only-of-type {\n        vertical-align: middle;\n    }\n\n    .dataframe tbody tr th {\n        vertical-align: top;\n    }\n\n    .dataframe thead th {\n        text-align: right;\n    }\n</style>\n<table border=\"1\" class=\"dataframe\">\n  <thead>\n    <tr style=\"text-align: right;\">\n      <th></th>\n      <th>Make</th>\n      <th>Colour</th>\n      <th>Odometer (KM)</th>\n      <th>Doors</th>\n      <th>Price</th>\n    </tr>\n  </thead>\n  <tbody>\n    <tr>\n      <th>4</th>\n      <td>Nissan</td>\n      <td>White</td>\n      <td>213095</td>\n      <td>4</td>\n      <td>$3,500.00</td>\n    </tr>\n  </tbody>\n</table>\n</div>"
     },
     "execution_count": 28,
     "metadata": {},
     "output_type": "execute_result"
    }
   ],
   "source": [
    "car_sales[car_sales[\"Odometer (KM)\"] >= 175000]"
   ]
  },
  {
   "cell_type": "code",
   "execution_count": 29,
   "id": "d8b3c994",
   "metadata": {},
   "outputs": [
    {
     "data": {
      "text/plain": "<AxesSubplot:>"
     },
     "execution_count": 29,
     "metadata": {},
     "output_type": "execute_result"
    },
    {
     "data": {
      "text/plain": "<Figure size 432x288 with 1 Axes>",
      "image/png": "[encoded data removed]"
     },
     "metadata": {
      "needs_background": "light"
     },
     "output_type": "display_data"
    }
   ],
   "source": [
    "# for visualizing a histogram use the use hist function\n",
    "car_sales[\"Odometer (KM)\"].hist()"
   ]
  },
  {
   "cell_type": "code",
   "execution_count": 30,
   "id": "6c5b8adb",
   "metadata": {},
   "outputs": [
    {
     "data": {
      "text/plain": "     Make Colour  Odometer (KM)  Doors       Price\n0  Toyota  White         150043      4   $4,000.00\n1   Honda    Red          87899      4   $5,000.00\n2  Toyota   Blue          32549      3   $7,000.00\n3     BMW  Black          11179      5  $22,000.00\n4  Nissan  White         213095      4   $3,500.00\n5  Toyota  Green          99213      4   $4,500.00\n6   Honda   Blue          45698      4   $7,500.00\n7   Honda   Blue          54738      4   $7,000.00\n8  Toyota  White          60000      4   $6,250.00\n9  Nissan  White          31600      4   $9,700.00",
      "text/html": "<div>\n<style scoped>\n    .dataframe tbody tr th:only-of-type {\n        vertical-align: middle;\n    }\n\n    .dataframe tbody tr th {\n        vertical-align: top;\n    }\n\n    .dataframe thead th {\n        text-align: right;\n    }\n</style>\n<table border=\"1\" class=\"dataframe\">\n  <thead>\n    <tr style=\"text-align: right;\">\n      <th></th>\n      <th>Make</th>\n      <th>Colour</th>\n      <th>Odometer (KM)</th>\n      <th>Doors</th>\n      <th>Price</th>\n    </tr>\n  </thead>\n  <tbody>\n    <tr>\n      <th>0</th>\n      <td>Toyota</td>\n      <td>White</td>\n      <td>150043</td>\n      <td>4</td>\n      <td>$4,000.00</td>\n    </tr>\n    <tr>\n      <th>1</th>\n      <td>Honda</td>\n      <td>Red</td>\n      <td>87899</td>\n      <td>4</td>\n      <td>$5,000.00</td>\n    </tr>\n    <tr>\n      <th>2</th>\n      <td>Toyota</td>\n      <td>Blue</td>\n      <td>32549</td>\n      <td>3</td>\n      <td>$7,000.00</td>\n    </tr>\n    <tr>\n      <th>3</th>\n      <td>BMW</td>\n      <td>Black</td>\n      <td>11179</td>\n      <td>5</td>\n      <td>$22,000.00</td>\n    </tr>\n    <tr>\n      <th>4</th>\n      <td>Nissan</td>\n      <td>White</td>\n      <td>213095</td>\n      <td>4</td>\n      <td>$3,500.00</td>\n    </tr>\n    <tr>\n      <th>5</th>\n      <td>Toyota</td>\n      <td>Green</td>\n      <td>99213</td>\n      <td>4</td>\n      <td>$4,500.00</td>\n    </tr>\n    <tr>\n      <th>6</th>\n      <td>Honda</td>\n      <td>Blue</td>\n      <td>45698</td>\n      <td>4</td>\n      <td>$7,500.00</td>\n    </tr>\n    <tr>\n      <th>7</th>\n      <td>Honda</td>\n      <td>Blue</td>\n      <td>54738</td>\n      <td>4</td>\n      <td>$7,000.00</td>\n    </tr>\n    <tr>\n      <th>8</th>\n      <td>Toyota</td>\n      <td>White</td>\n      <td>60000</td>\n      <td>4</td>\n      <td>$6,250.00</td>\n    </tr>\n    <tr>\n      <th>9</th>\n      <td>Nissan</td>\n      <td>White</td>\n      <td>31600</td>\n      <td>4</td>\n      <td>$9,700.00</td>\n    </tr>\n  </tbody>\n</table>\n</div>"
     },
     "execution_count": 30,
     "metadata": {},
     "output_type": "execute_result"
    }
   ],
   "source": [
    "car_sales\n"
   ]
  },
  {
   "cell_type": "code",
   "execution_count": 31,
   "id": "2a3a4123",
   "metadata": {
    "scrolled": true
   },
   "outputs": [
    {
     "name": "stderr",
     "output_type": "stream",
     "text": [
      "C:\\Users\\tchio\\AppData\\Local\\Temp/ipykernel_972/3891652310.py:2: FutureWarning: The default value of regex will change from True to False in a future version.\n",
      "  car_sales[\"Price\"] = car_sales[\"Price\"].str.replace('[\\$\\,\\.]', '').astype(int)\n"
     ]
    },
    {
     "data": {
      "text/plain": "     Make Colour  Odometer (KM)  Doors    Price\n0  Toyota  White         150043      4   400000\n1   Honda    Red          87899      4   500000\n2  Toyota   Blue          32549      3   700000\n3     BMW  Black          11179      5  2200000\n4  Nissan  White         213095      4   350000\n5  Toyota  Green          99213      4   450000\n6   Honda   Blue          45698      4   750000\n7   Honda   Blue          54738      4   700000\n8  Toyota  White          60000      4   625000\n9  Nissan  White          31600      4   970000",
      "text/html": "<div>\n<style scoped>\n    .dataframe tbody tr th:only-of-type {\n        vertical-align: middle;\n    }\n\n    .dataframe tbody tr th {\n        vertical-align: top;\n    }\n\n    .dataframe thead th {\n        text-align: right;\n    }\n</style>\n<table border=\"1\" class=\"dataframe\">\n  <thead>\n    <tr style=\"text-align: right;\">\n      <th></th>\n      <th>Make</th>\n      <th>Colour</th>\n      <th>Odometer (KM)</th>\n      <th>Doors</th>\n      <th>Price</th>\n    </tr>\n  </thead>\n  <tbody>\n    <tr>\n      <th>0</th>\n      <td>Toyota</td>\n      <td>White</td>\n      <td>150043</td>\n      <td>4</td>\n      <td>400000</td>\n    </tr>\n    <tr>\n      <th>1</th>\n      <td>Honda</td>\n      <td>Red</td>\n      <td>87899</td>\n      <td>4</td>\n      <td>500000</td>\n    </tr>\n    <tr>\n      <th>2</th>\n      <td>Toyota</td>\n      <td>Blue</td>\n      <td>32549</td>\n      <td>3</td>\n      <td>700000</td>\n    </tr>\n    <tr>\n      <th>3</th>\n      <td>BMW</td>\n      <td>Black</td>\n      <td>11179</td>\n      <td>5</td>\n      <td>2200000</td>\n    </tr>\n    <tr>\n      <th>4</th>\n      <td>Nissan</td>\n      <td>White</td>\n      <td>213095</td>\n      <td>4</td>\n      <td>350000</td>\n    </tr>\n    <tr>\n      <th>5</th>\n      <td>Toyota</td>\n      <td>Green</td>\n      <td>99213</td>\n      <td>4</td>\n      <td>450000</td>\n    </tr>\n    <tr>\n      <th>6</th>\n      <td>Honda</td>\n      <td>Blue</td>\n      <td>45698</td>\n      <td>4</td>\n      <td>750000</td>\n    </tr>\n    <tr>\n      <th>7</th>\n      <td>Honda</td>\n      <td>Blue</td>\n      <td>54738</td>\n      <td>4</td>\n      <td>700000</td>\n    </tr>\n    <tr>\n      <th>8</th>\n      <td>Toyota</td>\n      <td>White</td>\n      <td>60000</td>\n      <td>4</td>\n      <td>625000</td>\n    </tr>\n    <tr>\n      <th>9</th>\n      <td>Nissan</td>\n      <td>White</td>\n      <td>31600</td>\n      <td>4</td>\n      <td>970000</td>\n    </tr>\n  </tbody>\n</table>\n</div>"
     },
     "execution_count": 31,
     "metadata": {},
     "output_type": "execute_result"
    }
   ],
   "source": [
    "#converting the price column values to integers\n",
    "car_sales[\"Price\"] = car_sales[\"Price\"].str.replace('[\\$\\,\\.]', '').astype(int)\n",
    "car_sales"
   ]
  },
  {
   "cell_type": "code",
   "execution_count": 32,
   "id": "ce0b1c2b",
   "metadata": {},
   "outputs": [
    {
     "data": {
      "text/plain": "     Make Colour  Odometer (KM)  Doors    Price\n0  Toyota  White         150043      4   400000\n1   Honda    Red          87899      4   500000\n2  Toyota   Blue          32549      3   700000\n3     BMW  Black          11179      5  2200000\n4  Nissan  White         213095      4   350000\n5  Toyota  Green          99213      4   450000\n6   Honda   Blue          45698      4   750000\n7   Honda   Blue          54738      4   700000\n8  Toyota  White          60000      4   625000\n9  Nissan  White          31600      4   970000",
      "text/html": "<div>\n<style scoped>\n    .dataframe tbody tr th:only-of-type {\n        vertical-align: middle;\n    }\n\n    .dataframe tbody tr th {\n        vertical-align: top;\n    }\n\n    .dataframe thead th {\n        text-align: right;\n    }\n</style>\n<table border=\"1\" class=\"dataframe\">\n  <thead>\n    <tr style=\"text-align: right;\">\n      <th></th>\n      <th>Make</th>\n      <th>Colour</th>\n      <th>Odometer (KM)</th>\n      <th>Doors</th>\n      <th>Price</th>\n    </tr>\n  </thead>\n  <tbody>\n    <tr>\n      <th>0</th>\n      <td>Toyota</td>\n      <td>White</td>\n      <td>150043</td>\n      <td>4</td>\n      <td>400000</td>\n    </tr>\n    <tr>\n      <th>1</th>\n      <td>Honda</td>\n      <td>Red</td>\n      <td>87899</td>\n      <td>4</td>\n      <td>500000</td>\n    </tr>\n    <tr>\n      <th>2</th>\n      <td>Toyota</td>\n      <td>Blue</td>\n      <td>32549</td>\n      <td>3</td>\n      <td>700000</td>\n    </tr>\n    <tr>\n      <th>3</th>\n      <td>BMW</td>\n      <td>Black</td>\n      <td>11179</td>\n      <td>5</td>\n      <td>2200000</td>\n    </tr>\n    <tr>\n      <th>4</th>\n      <td>Nissan</td>\n      <td>White</td>\n      <td>213095</td>\n      <td>4</td>\n      <td>350000</td>\n    </tr>\n    <tr>\n      <th>5</th>\n      <td>Toyota</td>\n      <td>Green</td>\n      <td>99213</td>\n      <td>4</td>\n      <td>450000</td>\n    </tr>\n    <tr>\n      <th>6</th>\n      <td>Honda</td>\n      <td>Blue</td>\n      <td>45698</td>\n      <td>4</td>\n      <td>750000</td>\n    </tr>\n    <tr>\n      <th>7</th>\n      <td>Honda</td>\n      <td>Blue</td>\n      <td>54738</td>\n      <td>4</td>\n      <td>700000</td>\n    </tr>\n    <tr>\n      <th>8</th>\n      <td>Toyota</td>\n      <td>White</td>\n      <td>60000</td>\n      <td>4</td>\n      <td>625000</td>\n    </tr>\n    <tr>\n      <th>9</th>\n      <td>Nissan</td>\n      <td>White</td>\n      <td>31600</td>\n      <td>4</td>\n      <td>970000</td>\n    </tr>\n  </tbody>\n</table>\n</div>"
     },
     "execution_count": 32,
     "metadata": {},
     "output_type": "execute_result"
    }
   ],
   "source": [
    "car_sales"
   ]
  },
  {
   "cell_type": "code",
   "execution_count": 33,
   "id": "31f11fe6",
   "metadata": {},
   "outputs": [
    {
     "data": {
      "text/plain": "<AxesSubplot:>"
     },
     "execution_count": 33,
     "metadata": {},
     "output_type": "execute_result"
    },
    {
     "data": {
      "text/plain": "<Figure size 432x288 with 1 Axes>",
      "image/png": "[encoded data removed]"
     },
     "metadata": {
      "needs_background": "light"
     },
     "output_type": "display_data"
    }
   ],
   "source": [
    "car_sales.Price.plot()"
   ]
  },
  {
   "cell_type": "markdown",
   "id": "4c77d583",
   "metadata": {},
   "source": [
    "## Manipulating data"
   ]
  },
  {
   "cell_type": "code",
   "execution_count": 34,
   "id": "c5e549ef",
   "metadata": {},
   "outputs": [
    {
     "data": {
      "text/plain": "0    toyota\n1     honda\n2    toyota\n3       bmw\n4    nissan\n5    toyota\n6     honda\n7     honda\n8    toyota\n9    nissan\nName: Make, dtype: object"
     },
     "execution_count": 34,
     "metadata": {},
     "output_type": "execute_result"
    }
   ],
   "source": [
    "# lowercasing values of a column\n",
    "car_sales.Make.str.lower()"
   ]
  },
  {
   "cell_type": "code",
   "execution_count": 35,
   "id": "cde42e89",
   "metadata": {},
   "outputs": [],
   "source": [
    "# changing values of a  DataFrame's column\n",
    "car_sales.Make = car_sales.Make.str.lower()"
   ]
  },
  {
   "cell_type": "code",
   "execution_count": 36,
   "id": "4ea7998f",
   "metadata": {},
   "outputs": [
    {
     "data": {
      "text/plain": "     Make Colour  Odometer (KM)  Doors    Price\n0  toyota  White         150043      4   400000\n1   honda    Red          87899      4   500000\n2  toyota   Blue          32549      3   700000\n3     bmw  Black          11179      5  2200000\n4  nissan  White         213095      4   350000\n5  toyota  Green          99213      4   450000\n6   honda   Blue          45698      4   750000\n7   honda   Blue          54738      4   700000\n8  toyota  White          60000      4   625000\n9  nissan  White          31600      4   970000",
      "text/html": "<div>\n<style scoped>\n    .dataframe tbody tr th:only-of-type {\n        vertical-align: middle;\n    }\n\n    .dataframe tbody tr th {\n        vertical-align: top;\n    }\n\n    .dataframe thead th {\n        text-align: right;\n    }\n</style>\n<table border=\"1\" class=\"dataframe\">\n  <thead>\n    <tr style=\"text-align: right;\">\n      <th></th>\n      <th>Make</th>\n      <th>Colour</th>\n      <th>Odometer (KM)</th>\n      <th>Doors</th>\n      <th>Price</th>\n    </tr>\n  </thead>\n  <tbody>\n    <tr>\n      <th>0</th>\n      <td>toyota</td>\n      <td>White</td>\n      <td>150043</td>\n      <td>4</td>\n      <td>400000</td>\n    </tr>\n    <tr>\n      <th>1</th>\n      <td>honda</td>\n      <td>Red</td>\n      <td>87899</td>\n      <td>4</td>\n      <td>500000</td>\n    </tr>\n    <tr>\n      <th>2</th>\n      <td>toyota</td>\n      <td>Blue</td>\n      <td>32549</td>\n      <td>3</td>\n      <td>700000</td>\n    </tr>\n    <tr>\n      <th>3</th>\n      <td>bmw</td>\n      <td>Black</td>\n      <td>11179</td>\n      <td>5</td>\n      <td>2200000</td>\n    </tr>\n    <tr>\n      <th>4</th>\n      <td>nissan</td>\n      <td>White</td>\n      <td>213095</td>\n      <td>4</td>\n      <td>350000</td>\n    </tr>\n    <tr>\n      <th>5</th>\n      <td>toyota</td>\n      <td>Green</td>\n      <td>99213</td>\n      <td>4</td>\n      <td>450000</td>\n    </tr>\n    <tr>\n      <th>6</th>\n      <td>honda</td>\n      <td>Blue</td>\n      <td>45698</td>\n      <td>4</td>\n      <td>750000</td>\n    </tr>\n    <tr>\n      <th>7</th>\n      <td>honda</td>\n      <td>Blue</td>\n      <td>54738</td>\n      <td>4</td>\n      <td>700000</td>\n    </tr>\n    <tr>\n      <th>8</th>\n      <td>toyota</td>\n      <td>White</td>\n      <td>60000</td>\n      <td>4</td>\n      <td>625000</td>\n    </tr>\n    <tr>\n      <th>9</th>\n      <td>nissan</td>\n      <td>White</td>\n      <td>31600</td>\n      <td>4</td>\n      <td>970000</td>\n    </tr>\n  </tbody>\n</table>\n</div>"
     },
     "execution_count": 36,
     "metadata": {},
     "output_type": "execute_result"
    }
   ],
   "source": [
    "car_sales"
   ]
  },
  {
   "cell_type": "markdown",
   "id": "cf07d882",
   "metadata": {},
   "source": [
    "## Dealing with uncomplete data source"
   ]
  },
  {
   "cell_type": "code",
   "execution_count": 37,
   "id": "84ef6adf",
   "metadata": {},
   "outputs": [],
   "source": [
    "missing_car_sales = pd.read_csv(\"../Data/car-sales-missing-data.csv\")"
   ]
  },
  {
   "cell_type": "code",
   "execution_count": 38,
   "id": "f39ab35f",
   "metadata": {},
   "outputs": [
    {
     "data": {
      "text/plain": "0    150043.000000\n1     87899.000000\n2     92302.666667\n3     11179.000000\n4    213095.000000\n5     92302.666667\n6     92302.666667\n7     92302.666667\n8     60000.000000\n9     31600.000000\nName: Odometer, dtype: float64"
     },
     "execution_count": 38,
     "metadata": {},
     "output_type": "execute_result"
    }
   ],
   "source": [
    "# filling in missing values\n",
    "missing_car_sales[\"Odometer\"].fillna(missing_car_sales[\"Odometer\"].mean())"
   ]
  },
  {
   "cell_type": "code",
   "execution_count": 39,
   "id": "07718700",
   "metadata": {},
   "outputs": [
    {
     "data": {
      "text/plain": "     Make Colour  Odometer  Doors    Price\n0  Toyota  White  150043.0    4.0   $4,000\n1   Honda    Red   87899.0    4.0   $5,000\n2  Toyota   Blue       NaN    3.0   $7,000\n3     BMW  Black   11179.0    5.0  $22,000\n4  Nissan  White  213095.0    4.0   $3,500\n5  Toyota  Green       NaN    4.0   $4,500\n6   Honda    NaN       NaN    4.0   $7,500\n7   Honda   Blue       NaN    4.0      NaN\n8  Toyota  White   60000.0    NaN      NaN\n9     NaN  White   31600.0    4.0   $9,700",
      "text/html": "<div>\n<style scoped>\n    .dataframe tbody tr th:only-of-type {\n        vertical-align: middle;\n    }\n\n    .dataframe tbody tr th {\n        vertical-align: top;\n    }\n\n    .dataframe thead th {\n        text-align: right;\n    }\n</style>\n<table border=\"1\" class=\"dataframe\">\n  <thead>\n    <tr style=\"text-align: right;\">\n      <th></th>\n      <th>Make</th>\n      <th>Colour</th>\n      <th>Odometer</th>\n      <th>Doors</th>\n      <th>Price</th>\n    </tr>\n  </thead>\n  <tbody>\n    <tr>\n      <th>0</th>\n      <td>Toyota</td>\n      <td>White</td>\n      <td>150043.0</td>\n      <td>4.0</td>\n      <td>$4,000</td>\n    </tr>\n    <tr>\n      <th>1</th>\n      <td>Honda</td>\n      <td>Red</td>\n      <td>87899.0</td>\n      <td>4.0</td>\n      <td>$5,000</td>\n    </tr>\n    <tr>\n      <th>2</th>\n      <td>Toyota</td>\n      <td>Blue</td>\n      <td>NaN</td>\n      <td>3.0</td>\n      <td>$7,000</td>\n    </tr>\n    <tr>\n      <th>3</th>\n      <td>BMW</td>\n      <td>Black</td>\n      <td>11179.0</td>\n      <td>5.0</td>\n      <td>$22,000</td>\n    </tr>\n    <tr>\n      <th>4</th>\n      <td>Nissan</td>\n      <td>White</td>\n      <td>213095.0</td>\n      <td>4.0</td>\n      <td>$3,500</td>\n    </tr>\n    <tr>\n      <th>5</th>\n      <td>Toyota</td>\n      <td>Green</td>\n      <td>NaN</td>\n      <td>4.0</td>\n      <td>$4,500</td>\n    </tr>\n    <tr>\n      <th>6</th>\n      <td>Honda</td>\n      <td>NaN</td>\n      <td>NaN</td>\n      <td>4.0</td>\n      <td>$7,500</td>\n    </tr>\n    <tr>\n      <th>7</th>\n      <td>Honda</td>\n      <td>Blue</td>\n      <td>NaN</td>\n      <td>4.0</td>\n      <td>NaN</td>\n    </tr>\n    <tr>\n      <th>8</th>\n      <td>Toyota</td>\n      <td>White</td>\n      <td>60000.0</td>\n      <td>NaN</td>\n      <td>NaN</td>\n    </tr>\n    <tr>\n      <th>9</th>\n      <td>NaN</td>\n      <td>White</td>\n      <td>31600.0</td>\n      <td>4.0</td>\n      <td>$9,700</td>\n    </tr>\n  </tbody>\n</table>\n</div>"
     },
     "execution_count": 39,
     "metadata": {},
     "output_type": "execute_result"
    }
   ],
   "source": [
    "missing_car_sales"
   ]
  },
  {
   "cell_type": "code",
   "execution_count": 40,
   "id": "e496b3c1",
   "metadata": {},
   "outputs": [],
   "source": [
    "# setting the inplace parameter to True operates the changes right away\n",
    "missing_car_sales[\"Odometer\"].fillna(missing_car_sales[\"Odometer\"].mean(),\n",
    "                                     inplace=True)"
   ]
  },
  {
   "cell_type": "code",
   "execution_count": 41,
   "id": "3556142c",
   "metadata": {},
   "outputs": [
    {
     "data": {
      "text/plain": "     Make Colour       Odometer  Doors    Price\n0  Toyota  White  150043.000000    4.0   $4,000\n1   Honda    Red   87899.000000    4.0   $5,000\n2  Toyota   Blue   92302.666667    3.0   $7,000\n3     BMW  Black   11179.000000    5.0  $22,000\n4  Nissan  White  213095.000000    4.0   $3,500\n5  Toyota  Green   92302.666667    4.0   $4,500\n6   Honda    NaN   92302.666667    4.0   $7,500\n7   Honda   Blue   92302.666667    4.0      NaN\n8  Toyota  White   60000.000000    NaN      NaN\n9     NaN  White   31600.000000    4.0   $9,700",
      "text/html": "<div>\n<style scoped>\n    .dataframe tbody tr th:only-of-type {\n        vertical-align: middle;\n    }\n\n    .dataframe tbody tr th {\n        vertical-align: top;\n    }\n\n    .dataframe thead th {\n        text-align: right;\n    }\n</style>\n<table border=\"1\" class=\"dataframe\">\n  <thead>\n    <tr style=\"text-align: right;\">\n      <th></th>\n      <th>Make</th>\n      <th>Colour</th>\n      <th>Odometer</th>\n      <th>Doors</th>\n      <th>Price</th>\n    </tr>\n  </thead>\n  <tbody>\n    <tr>\n      <th>0</th>\n      <td>Toyota</td>\n      <td>White</td>\n      <td>150043.000000</td>\n      <td>4.0</td>\n      <td>$4,000</td>\n    </tr>\n    <tr>\n      <th>1</th>\n      <td>Honda</td>\n      <td>Red</td>\n      <td>87899.000000</td>\n      <td>4.0</td>\n      <td>$5,000</td>\n    </tr>\n    <tr>\n      <th>2</th>\n      <td>Toyota</td>\n      <td>Blue</td>\n      <td>92302.666667</td>\n      <td>3.0</td>\n      <td>$7,000</td>\n    </tr>\n    <tr>\n      <th>3</th>\n      <td>BMW</td>\n      <td>Black</td>\n      <td>11179.000000</td>\n      <td>5.0</td>\n      <td>$22,000</td>\n    </tr>\n    <tr>\n      <th>4</th>\n      <td>Nissan</td>\n      <td>White</td>\n      <td>213095.000000</td>\n      <td>4.0</td>\n      <td>$3,500</td>\n    </tr>\n    <tr>\n      <th>5</th>\n      <td>Toyota</td>\n      <td>Green</td>\n      <td>92302.666667</td>\n      <td>4.0</td>\n      <td>$4,500</td>\n    </tr>\n    <tr>\n      <th>6</th>\n      <td>Honda</td>\n      <td>NaN</td>\n      <td>92302.666667</td>\n      <td>4.0</td>\n      <td>$7,500</td>\n    </tr>\n    <tr>\n      <th>7</th>\n      <td>Honda</td>\n      <td>Blue</td>\n      <td>92302.666667</td>\n      <td>4.0</td>\n      <td>NaN</td>\n    </tr>\n    <tr>\n      <th>8</th>\n      <td>Toyota</td>\n      <td>White</td>\n      <td>60000.000000</td>\n      <td>NaN</td>\n      <td>NaN</td>\n    </tr>\n    <tr>\n      <th>9</th>\n      <td>NaN</td>\n      <td>White</td>\n      <td>31600.000000</td>\n      <td>4.0</td>\n      <td>$9,700</td>\n    </tr>\n  </tbody>\n</table>\n</div>"
     },
     "execution_count": 41,
     "metadata": {},
     "output_type": "execute_result"
    }
   ],
   "source": [
    "missing_car_sales"
   ]
  },
  {
   "cell_type": "code",
   "execution_count": 42,
   "id": "158f6e23",
   "metadata": {},
   "outputs": [],
   "source": [
    "# to drop NaN rows use the dropna() function\n",
    "missing_car_sales.dropna(inplace=True)"
   ]
  },
  {
   "cell_type": "code",
   "execution_count": 43,
   "id": "8b451541",
   "metadata": {},
   "outputs": [
    {
     "data": {
      "text/plain": "     Make Colour       Odometer  Doors    Price\n0  Toyota  White  150043.000000    4.0   $4,000\n1   Honda    Red   87899.000000    4.0   $5,000\n2  Toyota   Blue   92302.666667    3.0   $7,000\n3     BMW  Black   11179.000000    5.0  $22,000\n4  Nissan  White  213095.000000    4.0   $3,500\n5  Toyota  Green   92302.666667    4.0   $4,500",
      "text/html": "<div>\n<style scoped>\n    .dataframe tbody tr th:only-of-type {\n        vertical-align: middle;\n    }\n\n    .dataframe tbody tr th {\n        vertical-align: top;\n    }\n\n    .dataframe thead th {\n        text-align: right;\n    }\n</style>\n<table border=\"1\" class=\"dataframe\">\n  <thead>\n    <tr style=\"text-align: right;\">\n      <th></th>\n      <th>Make</th>\n      <th>Colour</th>\n      <th>Odometer</th>\n      <th>Doors</th>\n      <th>Price</th>\n    </tr>\n  </thead>\n  <tbody>\n    <tr>\n      <th>0</th>\n      <td>Toyota</td>\n      <td>White</td>\n      <td>150043.000000</td>\n      <td>4.0</td>\n      <td>$4,000</td>\n    </tr>\n    <tr>\n      <th>1</th>\n      <td>Honda</td>\n      <td>Red</td>\n      <td>87899.000000</td>\n      <td>4.0</td>\n      <td>$5,000</td>\n    </tr>\n    <tr>\n      <th>2</th>\n      <td>Toyota</td>\n      <td>Blue</td>\n      <td>92302.666667</td>\n      <td>3.0</td>\n      <td>$7,000</td>\n    </tr>\n    <tr>\n      <th>3</th>\n      <td>BMW</td>\n      <td>Black</td>\n      <td>11179.000000</td>\n      <td>5.0</td>\n      <td>$22,000</td>\n    </tr>\n    <tr>\n      <th>4</th>\n      <td>Nissan</td>\n      <td>White</td>\n      <td>213095.000000</td>\n      <td>4.0</td>\n      <td>$3,500</td>\n    </tr>\n    <tr>\n      <th>5</th>\n      <td>Toyota</td>\n      <td>Green</td>\n      <td>92302.666667</td>\n      <td>4.0</td>\n      <td>$4,500</td>\n    </tr>\n  </tbody>\n</table>\n</div>"
     },
     "execution_count": 43,
     "metadata": {},
     "output_type": "execute_result"
    }
   ],
   "source": [
    "missing_car_sales"
   ]
  },
  {
   "cell_type": "code",
   "execution_count": 44,
   "id": "b384b99e",
   "metadata": {},
   "outputs": [
    {
     "data": {
      "text/plain": "     Make Colour  Odometer  Doors    Price\n0  Toyota  White  150043.0    4.0   $4,000\n1   Honda    Red   87899.0    4.0   $5,000\n2  Toyota   Blue       NaN    3.0   $7,000\n3     BMW  Black   11179.0    5.0  $22,000\n4  Nissan  White  213095.0    4.0   $3,500\n5  Toyota  Green       NaN    4.0   $4,500\n6   Honda    NaN       NaN    4.0   $7,500\n7   Honda   Blue       NaN    4.0      NaN\n8  Toyota  White   60000.0    NaN      NaN\n9     NaN  White   31600.0    4.0   $9,700",
      "text/html": "<div>\n<style scoped>\n    .dataframe tbody tr th:only-of-type {\n        vertical-align: middle;\n    }\n\n    .dataframe tbody tr th {\n        vertical-align: top;\n    }\n\n    .dataframe thead th {\n        text-align: right;\n    }\n</style>\n<table border=\"1\" class=\"dataframe\">\n  <thead>\n    <tr style=\"text-align: right;\">\n      <th></th>\n      <th>Make</th>\n      <th>Colour</th>\n      <th>Odometer</th>\n      <th>Doors</th>\n      <th>Price</th>\n    </tr>\n  </thead>\n  <tbody>\n    <tr>\n      <th>0</th>\n      <td>Toyota</td>\n      <td>White</td>\n      <td>150043.0</td>\n      <td>4.0</td>\n      <td>$4,000</td>\n    </tr>\n    <tr>\n      <th>1</th>\n      <td>Honda</td>\n      <td>Red</td>\n      <td>87899.0</td>\n      <td>4.0</td>\n      <td>$5,000</td>\n    </tr>\n    <tr>\n      <th>2</th>\n      <td>Toyota</td>\n      <td>Blue</td>\n      <td>NaN</td>\n      <td>3.0</td>\n      <td>$7,000</td>\n    </tr>\n    <tr>\n      <th>3</th>\n      <td>BMW</td>\n      <td>Black</td>\n      <td>11179.0</td>\n      <td>5.0</td>\n      <td>$22,000</td>\n    </tr>\n    <tr>\n      <th>4</th>\n      <td>Nissan</td>\n      <td>White</td>\n      <td>213095.0</td>\n      <td>4.0</td>\n      <td>$3,500</td>\n    </tr>\n    <tr>\n      <th>5</th>\n      <td>Toyota</td>\n      <td>Green</td>\n      <td>NaN</td>\n      <td>4.0</td>\n      <td>$4,500</td>\n    </tr>\n    <tr>\n      <th>6</th>\n      <td>Honda</td>\n      <td>NaN</td>\n      <td>NaN</td>\n      <td>4.0</td>\n      <td>$7,500</td>\n    </tr>\n    <tr>\n      <th>7</th>\n      <td>Honda</td>\n      <td>Blue</td>\n      <td>NaN</td>\n      <td>4.0</td>\n      <td>NaN</td>\n    </tr>\n    <tr>\n      <th>8</th>\n      <td>Toyota</td>\n      <td>White</td>\n      <td>60000.0</td>\n      <td>NaN</td>\n      <td>NaN</td>\n    </tr>\n    <tr>\n      <th>9</th>\n      <td>NaN</td>\n      <td>White</td>\n      <td>31600.0</td>\n      <td>4.0</td>\n      <td>$9,700</td>\n    </tr>\n  </tbody>\n</table>\n</div>"
     },
     "execution_count": 44,
     "metadata": {},
     "output_type": "execute_result"
    }
   ],
   "source": [
    "# dropped values can't be got back, we must re-import the csv file\n",
    "missing_car_sales = pd.read_csv(\"../Data/car-sales-missing-data.csv\")\n",
    "missing_car_sales"
   ]
  },
  {
   "cell_type": "code",
   "execution_count": 45,
   "id": "467f2d31",
   "metadata": {},
   "outputs": [
    {
     "data": {
      "text/plain": "     Make Colour  Odometer  Doors    Price    Test\n0  Toyota  White  150043.0    4.0   $4,000   4,000\n1   Honda    Red   87899.0    4.0   $5,000   5,000\n2  Toyota   Blue       NaN    3.0   $7,000   7,000\n3     BMW  Black   11179.0    5.0  $22,000  22,000\n4  Nissan  White  213095.0    4.0   $3,500   3,500\n5  Toyota  Green       NaN    4.0   $4,500   4,500\n6   Honda    NaN       NaN    4.0   $7,500   7,500\n7   Honda   Blue       NaN    4.0      NaN     NaN\n8  Toyota  White   60000.0    NaN      NaN     NaN\n9     NaN  White   31600.0    4.0   $9,700   9,700",
      "text/html": "<div>\n<style scoped>\n    .dataframe tbody tr th:only-of-type {\n        vertical-align: middle;\n    }\n\n    .dataframe tbody tr th {\n        vertical-align: top;\n    }\n\n    .dataframe thead th {\n        text-align: right;\n    }\n</style>\n<table border=\"1\" class=\"dataframe\">\n  <thead>\n    <tr style=\"text-align: right;\">\n      <th></th>\n      <th>Make</th>\n      <th>Colour</th>\n      <th>Odometer</th>\n      <th>Doors</th>\n      <th>Price</th>\n      <th>Test</th>\n    </tr>\n  </thead>\n  <tbody>\n    <tr>\n      <th>0</th>\n      <td>Toyota</td>\n      <td>White</td>\n      <td>150043.0</td>\n      <td>4.0</td>\n      <td>$4,000</td>\n      <td>4,000</td>\n    </tr>\n    <tr>\n      <th>1</th>\n      <td>Honda</td>\n      <td>Red</td>\n      <td>87899.0</td>\n      <td>4.0</td>\n      <td>$5,000</td>\n      <td>5,000</td>\n    </tr>\n    <tr>\n      <th>2</th>\n      <td>Toyota</td>\n      <td>Blue</td>\n      <td>NaN</td>\n      <td>3.0</td>\n      <td>$7,000</td>\n      <td>7,000</td>\n    </tr>\n    <tr>\n      <th>3</th>\n      <td>BMW</td>\n      <td>Black</td>\n      <td>11179.0</td>\n      <td>5.0</td>\n      <td>$22,000</td>\n      <td>22,000</td>\n    </tr>\n    <tr>\n      <th>4</th>\n      <td>Nissan</td>\n      <td>White</td>\n      <td>213095.0</td>\n      <td>4.0</td>\n      <td>$3,500</td>\n      <td>3,500</td>\n    </tr>\n    <tr>\n      <th>5</th>\n      <td>Toyota</td>\n      <td>Green</td>\n      <td>NaN</td>\n      <td>4.0</td>\n      <td>$4,500</td>\n      <td>4,500</td>\n    </tr>\n    <tr>\n      <th>6</th>\n      <td>Honda</td>\n      <td>NaN</td>\n      <td>NaN</td>\n      <td>4.0</td>\n      <td>$7,500</td>\n      <td>7,500</td>\n    </tr>\n    <tr>\n      <th>7</th>\n      <td>Honda</td>\n      <td>Blue</td>\n      <td>NaN</td>\n      <td>4.0</td>\n      <td>NaN</td>\n      <td>NaN</td>\n    </tr>\n    <tr>\n      <th>8</th>\n      <td>Toyota</td>\n      <td>White</td>\n      <td>60000.0</td>\n      <td>NaN</td>\n      <td>NaN</td>\n      <td>NaN</td>\n    </tr>\n    <tr>\n      <th>9</th>\n      <td>NaN</td>\n      <td>White</td>\n      <td>31600.0</td>\n      <td>4.0</td>\n      <td>$9,700</td>\n      <td>9,700</td>\n    </tr>\n  </tbody>\n</table>\n</div>"
     },
     "execution_count": 45,
     "metadata": {},
     "output_type": "execute_result"
    }
   ],
   "source": [
    "missing_car_sales[\"Test\"] = missing_car_sales.Price[:].str.slice(start=1)\n",
    "missing_car_sales"
   ]
  },
  {
   "cell_type": "code",
   "execution_count": 46,
   "id": "7b255cd2",
   "metadata": {},
   "outputs": [
    {
     "data": {
      "text/plain": "            Odometer  Doors\ncount       6.000000    9.0\nmean    92302.666667    4.0\nstd     76489.805168    0.5\nmin     11179.000000    3.0\n25%     38700.000000    4.0\n50%     73949.500000    4.0\n75%    134507.000000    4.0\nmax    213095.000000    5.0",
      "text/html": "<div>\n<style scoped>\n    .dataframe tbody tr th:only-of-type {\n        vertical-align: middle;\n    }\n\n    .dataframe tbody tr th {\n        vertical-align: top;\n    }\n\n    .dataframe thead th {\n        text-align: right;\n    }\n</style>\n<table border=\"1\" class=\"dataframe\">\n  <thead>\n    <tr style=\"text-align: right;\">\n      <th></th>\n      <th>Odometer</th>\n      <th>Doors</th>\n    </tr>\n  </thead>\n  <tbody>\n    <tr>\n      <th>count</th>\n      <td>6.000000</td>\n      <td>9.0</td>\n    </tr>\n    <tr>\n      <th>mean</th>\n      <td>92302.666667</td>\n      <td>4.0</td>\n    </tr>\n    <tr>\n      <th>std</th>\n      <td>76489.805168</td>\n      <td>0.5</td>\n    </tr>\n    <tr>\n      <th>min</th>\n      <td>11179.000000</td>\n      <td>3.0</td>\n    </tr>\n    <tr>\n      <th>25%</th>\n      <td>38700.000000</td>\n      <td>4.0</td>\n    </tr>\n    <tr>\n      <th>50%</th>\n      <td>73949.500000</td>\n      <td>4.0</td>\n    </tr>\n    <tr>\n      <th>75%</th>\n      <td>134507.000000</td>\n      <td>4.0</td>\n    </tr>\n    <tr>\n      <th>max</th>\n      <td>213095.000000</td>\n      <td>5.0</td>\n    </tr>\n  </tbody>\n</table>\n</div>"
     },
     "execution_count": 46,
     "metadata": {},
     "output_type": "execute_result"
    }
   ],
   "source": [
    "missing_car_sales.describe()"
   ]
  },
  {
   "cell_type": "code",
   "execution_count": 47,
   "id": "6816f182",
   "metadata": {},
   "outputs": [],
   "source": [
    "missing_car_sales[\"Test\"].fillna(0, inplace=True)"
   ]
  },
  {
   "cell_type": "code",
   "execution_count": 48,
   "id": "12e3a4d1",
   "metadata": {},
   "outputs": [
    {
     "data": {
      "text/plain": "     Make Colour  Odometer  Doors    Price    Test\n0  Toyota  White  150043.0    4.0   $4,000   4,000\n1   Honda    Red   87899.0    4.0   $5,000   5,000\n2  Toyota   Blue       NaN    3.0   $7,000   7,000\n3     BMW  Black   11179.0    5.0  $22,000  22,000\n4  Nissan  White  213095.0    4.0   $3,500   3,500\n5  Toyota  Green       NaN    4.0   $4,500   4,500\n6   Honda    NaN       NaN    4.0   $7,500   7,500\n7   Honda   Blue       NaN    4.0      NaN       0\n8  Toyota  White   60000.0    NaN      NaN       0\n9     NaN  White   31600.0    4.0   $9,700   9,700",
      "text/html": "<div>\n<style scoped>\n    .dataframe tbody tr th:only-of-type {\n        vertical-align: middle;\n    }\n\n    .dataframe tbody tr th {\n        vertical-align: top;\n    }\n\n    .dataframe thead th {\n        text-align: right;\n    }\n</style>\n<table border=\"1\" class=\"dataframe\">\n  <thead>\n    <tr style=\"text-align: right;\">\n      <th></th>\n      <th>Make</th>\n      <th>Colour</th>\n      <th>Odometer</th>\n      <th>Doors</th>\n      <th>Price</th>\n      <th>Test</th>\n    </tr>\n  </thead>\n  <tbody>\n    <tr>\n      <th>0</th>\n      <td>Toyota</td>\n      <td>White</td>\n      <td>150043.0</td>\n      <td>4.0</td>\n      <td>$4,000</td>\n      <td>4,000</td>\n    </tr>\n    <tr>\n      <th>1</th>\n      <td>Honda</td>\n      <td>Red</td>\n      <td>87899.0</td>\n      <td>4.0</td>\n      <td>$5,000</td>\n      <td>5,000</td>\n    </tr>\n    <tr>\n      <th>2</th>\n      <td>Toyota</td>\n      <td>Blue</td>\n      <td>NaN</td>\n      <td>3.0</td>\n      <td>$7,000</td>\n      <td>7,000</td>\n    </tr>\n    <tr>\n      <th>3</th>\n      <td>BMW</td>\n      <td>Black</td>\n      <td>11179.0</td>\n      <td>5.0</td>\n      <td>$22,000</td>\n      <td>22,000</td>\n    </tr>\n    <tr>\n      <th>4</th>\n      <td>Nissan</td>\n      <td>White</td>\n      <td>213095.0</td>\n      <td>4.0</td>\n      <td>$3,500</td>\n      <td>3,500</td>\n    </tr>\n    <tr>\n      <th>5</th>\n      <td>Toyota</td>\n      <td>Green</td>\n      <td>NaN</td>\n      <td>4.0</td>\n      <td>$4,500</td>\n      <td>4,500</td>\n    </tr>\n    <tr>\n      <th>6</th>\n      <td>Honda</td>\n      <td>NaN</td>\n      <td>NaN</td>\n      <td>4.0</td>\n      <td>$7,500</td>\n      <td>7,500</td>\n    </tr>\n    <tr>\n      <th>7</th>\n      <td>Honda</td>\n      <td>Blue</td>\n      <td>NaN</td>\n      <td>4.0</td>\n      <td>NaN</td>\n      <td>0</td>\n    </tr>\n    <tr>\n      <th>8</th>\n      <td>Toyota</td>\n      <td>White</td>\n      <td>60000.0</td>\n      <td>NaN</td>\n      <td>NaN</td>\n      <td>0</td>\n    </tr>\n    <tr>\n      <th>9</th>\n      <td>NaN</td>\n      <td>White</td>\n      <td>31600.0</td>\n      <td>4.0</td>\n      <td>$9,700</td>\n      <td>9,700</td>\n    </tr>\n  </tbody>\n</table>\n</div>"
     },
     "execution_count": 48,
     "metadata": {},
     "output_type": "execute_result"
    }
   ],
   "source": [
    "missing_car_sales"
   ]
  },
  {
   "cell_type": "code",
   "execution_count": 49,
   "id": "eea6903d",
   "metadata": {},
   "outputs": [
    {
     "data": {
      "text/plain": "dtype('O')"
     },
     "execution_count": 49,
     "metadata": {},
     "output_type": "execute_result"
    }
   ],
   "source": [
    "missing_car_sales[\"Test\"].dtype"
   ]
  },
  {
   "cell_type": "code",
   "execution_count": 50,
   "id": "f6d14bde",
   "metadata": {},
   "outputs": [
    {
     "name": "stderr",
     "output_type": "stream",
     "text": [
      "C:\\Users\\tchio\\AppData\\Local\\Temp/ipykernel_972/1474474428.py:1: FutureWarning: The default value of regex will change from True to False in a future version.\n",
      "  missing_car_sales[\"Test\"] = missing_car_sales[\"Test\"].str.replace('[\\,]','').astype(float)\n"
     ]
    }
   ],
   "source": [
    "missing_car_sales[\"Test\"] = missing_car_sales[\"Test\"].str.replace('[\\,]', '').astype(float)\n"
   ]
  },
  {
   "cell_type": "code",
   "execution_count": 51,
   "id": "10a8e09b",
   "metadata": {},
   "outputs": [
    {
     "data": {
      "text/plain": "0     4000.0\n1     5000.0\n2     7000.0\n3    22000.0\n4     3500.0\n5     4500.0\n6     7500.0\n7        NaN\n8        NaN\n9     9700.0\nName: Test, dtype: float64"
     },
     "execution_count": 51,
     "metadata": {},
     "output_type": "execute_result"
    }
   ],
   "source": [
    "missing_car_sales.Test"
   ]
  },
  {
   "cell_type": "code",
   "execution_count": 52,
   "id": "1f05d4cd",
   "metadata": {},
   "outputs": [],
   "source": [
    "missing_car_sales[\"Test\"].fillna(0, inplace=True)"
   ]
  },
  {
   "cell_type": "code",
   "execution_count": 53,
   "id": "8c05b110",
   "metadata": {},
   "outputs": [
    {
     "data": {
      "text/plain": "<AxesSubplot:title={'center':'Plotting the test prices'}, ylabel='Density'>"
     },
     "execution_count": 53,
     "metadata": {},
     "output_type": "execute_result"
    },
    {
     "data": {
      "text/plain": "<Figure size 432x288 with 1 Axes>",
      "image/png": "[encoded data removed]"
     },
     "metadata": {
      "needs_background": "light"
     },
     "output_type": "display_data"
    }
   ],
   "source": [
    "missing_car_sales[\"Test\"].plot(title=\"Plotting the test prices\", kind=\"kde\",\n",
    "                               legend=True, xlabel=\"Index\", ylabel=\"Prix\",\n",
    "                               color=\"green\", fontsize=14, grid=True)"
   ]
  },
  {
   "cell_type": "code",
   "execution_count": 54,
   "id": "ef5edcbf",
   "metadata": {},
   "outputs": [
    {
     "data": {
      "text/plain": "<AxesSubplot:title={'center':'The whole entreprise data'}, xlabel='Car makers', ylabel='Number of doors'>"
     },
     "execution_count": 54,
     "metadata": {},
     "output_type": "execute_result"
    },
    {
     "data": {
      "text/plain": "<Figure size 432x288 with 1 Axes>",
      "image/png": "[encoded data removed]"
     },
     "metadata": {
      "needs_background": "light"
     },
     "output_type": "display_data"
    }
   ],
   "source": [
    "missing_car_sales.plot(kind=\"bar\", title=\"The whole entreprise data\",\n",
    "                       fontsize=14, x=\"Make\", y=\"Doors\", grid=True,\n",
    "                       xlabel=\"Car makers\", ylabel=\"Number of doors\")"
   ]
  },
  {
   "cell_type": "code",
   "execution_count": 55,
   "id": "f7908f39",
   "metadata": {},
   "outputs": [
    {
     "data": {
      "text/plain": "<AxesSubplot:xlabel='Odometer', ylabel='Test'>"
     },
     "execution_count": 55,
     "metadata": {},
     "output_type": "execute_result"
    },
    {
     "data": {
      "text/plain": "<Figure size 432x288 with 1 Axes>",
      "image/png": "[encoded data removed]"
     },
     "metadata": {
      "needs_background": "light"
     },
     "output_type": "display_data"
    }
   ],
   "source": [
    "missing_car_sales.plot.scatter(x='Odometer', y='Test', color=\"crimson\", fontsize=10, grid=True)"
   ]
  },
  {
   "cell_type": "code",
   "execution_count": 56,
   "id": "e829740c",
   "metadata": {},
   "outputs": [
    {
     "data": {
      "text/plain": "     Make Colour  Odometer (KM)  Doors       Price  Seats\n0  Toyota  White         150043      4   $4,000.00    5.0\n1   Honda    Red          87899      4   $5,000.00    5.0\n2  Toyota   Blue          32549      3   $7,000.00    5.0\n3     BMW  Black          11179      5  $22,000.00    5.0\n4  Nissan  White         213095      4   $3,500.00    5.0\n5  Toyota  Green          99213      4   $4,500.00    NaN\n6   Honda   Blue          45698      4   $7,500.00    NaN\n7   Honda   Blue          54738      4   $7,000.00    NaN\n8  Toyota  White          60000      4   $6,250.00    NaN\n9  Nissan  White          31600      4   $9,700.00    NaN",
      "text/html": "<div>\n<style scoped>\n    .dataframe tbody tr th:only-of-type {\n        vertical-align: middle;\n    }\n\n    .dataframe tbody tr th {\n        vertical-align: top;\n    }\n\n    .dataframe thead th {\n        text-align: right;\n    }\n</style>\n<table border=\"1\" class=\"dataframe\">\n  <thead>\n    <tr style=\"text-align: right;\">\n      <th></th>\n      <th>Make</th>\n      <th>Colour</th>\n      <th>Odometer (KM)</th>\n      <th>Doors</th>\n      <th>Price</th>\n      <th>Seats</th>\n    </tr>\n  </thead>\n  <tbody>\n    <tr>\n      <th>0</th>\n      <td>Toyota</td>\n      <td>White</td>\n      <td>150043</td>\n      <td>4</td>\n      <td>$4,000.00</td>\n      <td>5.0</td>\n    </tr>\n    <tr>\n      <th>1</th>\n      <td>Honda</td>\n      <td>Red</td>\n      <td>87899</td>\n      <td>4</td>\n      <td>$5,000.00</td>\n      <td>5.0</td>\n    </tr>\n    <tr>\n      <th>2</th>\n      <td>Toyota</td>\n      <td>Blue</td>\n      <td>32549</td>\n      <td>3</td>\n      <td>$7,000.00</td>\n      <td>5.0</td>\n    </tr>\n    <tr>\n      <th>3</th>\n      <td>BMW</td>\n      <td>Black</td>\n      <td>11179</td>\n      <td>5</td>\n      <td>$22,000.00</td>\n      <td>5.0</td>\n    </tr>\n    <tr>\n      <th>4</th>\n      <td>Nissan</td>\n      <td>White</td>\n      <td>213095</td>\n      <td>4</td>\n      <td>$3,500.00</td>\n      <td>5.0</td>\n    </tr>\n    <tr>\n      <th>5</th>\n      <td>Toyota</td>\n      <td>Green</td>\n      <td>99213</td>\n      <td>4</td>\n      <td>$4,500.00</td>\n      <td>NaN</td>\n    </tr>\n    <tr>\n      <th>6</th>\n      <td>Honda</td>\n      <td>Blue</td>\n      <td>45698</td>\n      <td>4</td>\n      <td>$7,500.00</td>\n      <td>NaN</td>\n    </tr>\n    <tr>\n      <th>7</th>\n      <td>Honda</td>\n      <td>Blue</td>\n      <td>54738</td>\n      <td>4</td>\n      <td>$7,000.00</td>\n      <td>NaN</td>\n    </tr>\n    <tr>\n      <th>8</th>\n      <td>Toyota</td>\n      <td>White</td>\n      <td>60000</td>\n      <td>4</td>\n      <td>$6,250.00</td>\n      <td>NaN</td>\n    </tr>\n    <tr>\n      <th>9</th>\n      <td>Nissan</td>\n      <td>White</td>\n      <td>31600</td>\n      <td>4</td>\n      <td>$9,700.00</td>\n      <td>NaN</td>\n    </tr>\n  </tbody>\n</table>\n</div>"
     },
     "execution_count": 56,
     "metadata": {},
     "output_type": "execute_result"
    }
   ],
   "source": [
    "# adding a column from a Serie\n",
    "seats_column = pd.Series([5, 5, 5, 5, 5])\n",
    "car_sales = pd.read_csv(\"../Data/car-sales.csv\")\n",
    "car_sales[\"Seats\"] = seats_column\n",
    "car_sales"
   ]
  },
  {
   "cell_type": "code",
   "execution_count": 57,
   "id": "0a9e99e9",
   "metadata": {},
   "outputs": [
    {
     "data": {
      "text/plain": "     Make Colour  Odometer (KM)  Doors      Price  Seats\n0  Toyota  White         150043      4   4,000.00    5.0\n1   Honda    Red          87899      4   5,000.00    5.0\n2  Toyota   Blue          32549      3   7,000.00    5.0\n3     BMW  Black          11179      5  22,000.00    5.0\n4  Nissan  White         213095      4   3,500.00    5.0\n5  Toyota  Green          99213      4   4,500.00    NaN\n6   Honda   Blue          45698      4   7,500.00    NaN\n7   Honda   Blue          54738      4   7,000.00    NaN\n8  Toyota  White          60000      4   6,250.00    NaN\n9  Nissan  White          31600      4   9,700.00    NaN",
      "text/html": "<div>\n<style scoped>\n    .dataframe tbody tr th:only-of-type {\n        vertical-align: middle;\n    }\n\n    .dataframe tbody tr th {\n        vertical-align: top;\n    }\n\n    .dataframe thead th {\n        text-align: right;\n    }\n</style>\n<table border=\"1\" class=\"dataframe\">\n  <thead>\n    <tr style=\"text-align: right;\">\n      <th></th>\n      <th>Make</th>\n      <th>Colour</th>\n      <th>Odometer (KM)</th>\n      <th>Doors</th>\n      <th>Price</th>\n      <th>Seats</th>\n    </tr>\n  </thead>\n  <tbody>\n    <tr>\n      <th>0</th>\n      <td>Toyota</td>\n      <td>White</td>\n      <td>150043</td>\n      <td>4</td>\n      <td>4,000.00</td>\n      <td>5.0</td>\n    </tr>\n    <tr>\n      <th>1</th>\n      <td>Honda</td>\n      <td>Red</td>\n      <td>87899</td>\n      <td>4</td>\n      <td>5,000.00</td>\n      <td>5.0</td>\n    </tr>\n    <tr>\n      <th>2</th>\n      <td>Toyota</td>\n      <td>Blue</td>\n      <td>32549</td>\n      <td>3</td>\n      <td>7,000.00</td>\n      <td>5.0</td>\n    </tr>\n    <tr>\n      <th>3</th>\n      <td>BMW</td>\n      <td>Black</td>\n      <td>11179</td>\n      <td>5</td>\n      <td>22,000.00</td>\n      <td>5.0</td>\n    </tr>\n    <tr>\n      <th>4</th>\n      <td>Nissan</td>\n      <td>White</td>\n      <td>213095</td>\n      <td>4</td>\n      <td>3,500.00</td>\n      <td>5.0</td>\n    </tr>\n    <tr>\n      <th>5</th>\n      <td>Toyota</td>\n      <td>Green</td>\n      <td>99213</td>\n      <td>4</td>\n      <td>4,500.00</td>\n      <td>NaN</td>\n    </tr>\n    <tr>\n      <th>6</th>\n      <td>Honda</td>\n      <td>Blue</td>\n      <td>45698</td>\n      <td>4</td>\n      <td>7,500.00</td>\n      <td>NaN</td>\n    </tr>\n    <tr>\n      <th>7</th>\n      <td>Honda</td>\n      <td>Blue</td>\n      <td>54738</td>\n      <td>4</td>\n      <td>7,000.00</td>\n      <td>NaN</td>\n    </tr>\n    <tr>\n      <th>8</th>\n      <td>Toyota</td>\n      <td>White</td>\n      <td>60000</td>\n      <td>4</td>\n      <td>6,250.00</td>\n      <td>NaN</td>\n    </tr>\n    <tr>\n      <th>9</th>\n      <td>Nissan</td>\n      <td>White</td>\n      <td>31600</td>\n      <td>4</td>\n      <td>9,700.00</td>\n      <td>NaN</td>\n    </tr>\n  </tbody>\n</table>\n</div>"
     },
     "execution_count": 57,
     "metadata": {},
     "output_type": "execute_result"
    }
   ],
   "source": [
    "car_sales[\"Price\"] = car_sales[\"Price\"][:].str.slice(start=1)\n",
    "car_sales"
   ]
  },
  {
   "cell_type": "code",
   "execution_count": 58,
   "id": "cb02e99d",
   "metadata": {},
   "outputs": [
    {
     "data": {
      "text/plain": "dtype('O')"
     },
     "execution_count": 58,
     "metadata": {},
     "output_type": "execute_result"
    }
   ],
   "source": [
    "car_sales[\"Price\"].dtypes"
   ]
  },
  {
   "cell_type": "code",
   "execution_count": 59,
   "id": "483a77d1",
   "metadata": {},
   "outputs": [
    {
     "data": {
      "text/plain": "     Make Colour  Odometer (KM)  Doors      Price  Seats\n0  Toyota  White         150043      4   4,000.00    5.0\n1   Honda    Red          87899      4   5,000.00    5.0\n2  Toyota   Blue          32549      3   7,000.00    5.0\n3     BMW  Black          11179      5  22,000.00    5.0\n4  Nissan  White         213095      4   3,500.00    5.0\n5  Toyota  Green          99213      4   4,500.00    NaN\n6   Honda   Blue          45698      4   7,500.00    NaN\n7   Honda   Blue          54738      4   7,000.00    NaN\n8  Toyota  White          60000      4   6,250.00    NaN\n9  Nissan  White          31600      4   9,700.00    NaN",
      "text/html": "<div>\n<style scoped>\n    .dataframe tbody tr th:only-of-type {\n        vertical-align: middle;\n    }\n\n    .dataframe tbody tr th {\n        vertical-align: top;\n    }\n\n    .dataframe thead th {\n        text-align: right;\n    }\n</style>\n<table border=\"1\" class=\"dataframe\">\n  <thead>\n    <tr style=\"text-align: right;\">\n      <th></th>\n      <th>Make</th>\n      <th>Colour</th>\n      <th>Odometer (KM)</th>\n      <th>Doors</th>\n      <th>Price</th>\n      <th>Seats</th>\n    </tr>\n  </thead>\n  <tbody>\n    <tr>\n      <th>0</th>\n      <td>Toyota</td>\n      <td>White</td>\n      <td>150043</td>\n      <td>4</td>\n      <td>4,000.00</td>\n      <td>5.0</td>\n    </tr>\n    <tr>\n      <th>1</th>\n      <td>Honda</td>\n      <td>Red</td>\n      <td>87899</td>\n      <td>4</td>\n      <td>5,000.00</td>\n      <td>5.0</td>\n    </tr>\n    <tr>\n      <th>2</th>\n      <td>Toyota</td>\n      <td>Blue</td>\n      <td>32549</td>\n      <td>3</td>\n      <td>7,000.00</td>\n      <td>5.0</td>\n    </tr>\n    <tr>\n      <th>3</th>\n      <td>BMW</td>\n      <td>Black</td>\n      <td>11179</td>\n      <td>5</td>\n      <td>22,000.00</td>\n      <td>5.0</td>\n    </tr>\n    <tr>\n      <th>4</th>\n      <td>Nissan</td>\n      <td>White</td>\n      <td>213095</td>\n      <td>4</td>\n      <td>3,500.00</td>\n      <td>5.0</td>\n    </tr>\n    <tr>\n      <th>5</th>\n      <td>Toyota</td>\n      <td>Green</td>\n      <td>99213</td>\n      <td>4</td>\n      <td>4,500.00</td>\n      <td>NaN</td>\n    </tr>\n    <tr>\n      <th>6</th>\n      <td>Honda</td>\n      <td>Blue</td>\n      <td>45698</td>\n      <td>4</td>\n      <td>7,500.00</td>\n      <td>NaN</td>\n    </tr>\n    <tr>\n      <th>7</th>\n      <td>Honda</td>\n      <td>Blue</td>\n      <td>54738</td>\n      <td>4</td>\n      <td>7,000.00</td>\n      <td>NaN</td>\n    </tr>\n    <tr>\n      <th>8</th>\n      <td>Toyota</td>\n      <td>White</td>\n      <td>60000</td>\n      <td>4</td>\n      <td>6,250.00</td>\n      <td>NaN</td>\n    </tr>\n    <tr>\n      <th>9</th>\n      <td>Nissan</td>\n      <td>White</td>\n      <td>31600</td>\n      <td>4</td>\n      <td>9,700.00</td>\n      <td>NaN</td>\n    </tr>\n  </tbody>\n</table>\n</div>"
     },
     "execution_count": 59,
     "metadata": {},
     "output_type": "execute_result"
    }
   ],
   "source": [
    "car_sales"
   ]
  },
  {
   "cell_type": "code",
   "execution_count": 60,
   "id": "4defb8c7",
   "metadata": {},
   "outputs": [],
   "source": [
    "car_sales[\"Seats\"].fillna(5, inplace=True)"
   ]
  },
  {
   "cell_type": "code",
   "execution_count": 61,
   "id": "6ab9f839",
   "metadata": {},
   "outputs": [],
   "source": [
    "# column from a list\n",
    "#the list must have the same length as the DataFrame length, otherwise => error !\n",
    "fuel_economy = [7.5, 9.2, 5.0, 9.6, 8.7, 4.7, 7.6, 8.7, 3, 4.5]\n",
    "car_sales[\"Fuel per 100KM\"] = fuel_economy"
   ]
  },
  {
   "cell_type": "code",
   "execution_count": 62,
   "id": "829b35c2",
   "metadata": {},
   "outputs": [
    {
     "data": {
      "text/plain": "     Make Colour  Odometer (KM)  Doors      Price  Seats  Fuel per 100KM\n0  Toyota  White         150043      4   4,000.00    5.0             7.5\n1   Honda    Red          87899      4   5,000.00    5.0             9.2\n2  Toyota   Blue          32549      3   7,000.00    5.0             5.0\n3     BMW  Black          11179      5  22,000.00    5.0             9.6\n4  Nissan  White         213095      4   3,500.00    5.0             8.7\n5  Toyota  Green          99213      4   4,500.00    5.0             4.7\n6   Honda   Blue          45698      4   7,500.00    5.0             7.6\n7   Honda   Blue          54738      4   7,000.00    5.0             8.7\n8  Toyota  White          60000      4   6,250.00    5.0             3.0\n9  Nissan  White          31600      4   9,700.00    5.0             4.5",
      "text/html": "<div>\n<style scoped>\n    .dataframe tbody tr th:only-of-type {\n        vertical-align: middle;\n    }\n\n    .dataframe tbody tr th {\n        vertical-align: top;\n    }\n\n    .dataframe thead th {\n        text-align: right;\n    }\n</style>\n<table border=\"1\" class=\"dataframe\">\n  <thead>\n    <tr style=\"text-align: right;\">\n      <th></th>\n      <th>Make</th>\n      <th>Colour</th>\n      <th>Odometer (KM)</th>\n      <th>Doors</th>\n      <th>Price</th>\n      <th>Seats</th>\n      <th>Fuel per 100KM</th>\n    </tr>\n  </thead>\n  <tbody>\n    <tr>\n      <th>0</th>\n      <td>Toyota</td>\n      <td>White</td>\n      <td>150043</td>\n      <td>4</td>\n      <td>4,000.00</td>\n      <td>5.0</td>\n      <td>7.5</td>\n    </tr>\n    <tr>\n      <th>1</th>\n      <td>Honda</td>\n      <td>Red</td>\n      <td>87899</td>\n      <td>4</td>\n      <td>5,000.00</td>\n      <td>5.0</td>\n      <td>9.2</td>\n    </tr>\n    <tr>\n      <th>2</th>\n      <td>Toyota</td>\n      <td>Blue</td>\n      <td>32549</td>\n      <td>3</td>\n      <td>7,000.00</td>\n      <td>5.0</td>\n      <td>5.0</td>\n    </tr>\n    <tr>\n      <th>3</th>\n      <td>BMW</td>\n      <td>Black</td>\n      <td>11179</td>\n      <td>5</td>\n      <td>22,000.00</td>\n      <td>5.0</td>\n      <td>9.6</td>\n    </tr>\n    <tr>\n      <th>4</th>\n      <td>Nissan</td>\n      <td>White</td>\n      <td>213095</td>\n      <td>4</td>\n      <td>3,500.00</td>\n      <td>5.0</td>\n      <td>8.7</td>\n    </tr>\n    <tr>\n      <th>5</th>\n      <td>Toyota</td>\n      <td>Green</td>\n      <td>99213</td>\n      <td>4</td>\n      <td>4,500.00</td>\n      <td>5.0</td>\n      <td>4.7</td>\n    </tr>\n    <tr>\n      <th>6</th>\n      <td>Honda</td>\n      <td>Blue</td>\n      <td>45698</td>\n      <td>4</td>\n      <td>7,500.00</td>\n      <td>5.0</td>\n      <td>7.6</td>\n    </tr>\n    <tr>\n      <th>7</th>\n      <td>Honda</td>\n      <td>Blue</td>\n      <td>54738</td>\n      <td>4</td>\n      <td>7,000.00</td>\n      <td>5.0</td>\n      <td>8.7</td>\n    </tr>\n    <tr>\n      <th>8</th>\n      <td>Toyota</td>\n      <td>White</td>\n      <td>60000</td>\n      <td>4</td>\n      <td>6,250.00</td>\n      <td>5.0</td>\n      <td>3.0</td>\n    </tr>\n    <tr>\n      <th>9</th>\n      <td>Nissan</td>\n      <td>White</td>\n      <td>31600</td>\n      <td>4</td>\n      <td>9,700.00</td>\n      <td>5.0</td>\n      <td>4.5</td>\n    </tr>\n  </tbody>\n</table>\n</div>"
     },
     "execution_count": 62,
     "metadata": {},
     "output_type": "execute_result"
    }
   ],
   "source": [
    "car_sales"
   ]
  },
  {
   "cell_type": "code",
   "execution_count": 63,
   "id": "68821a93",
   "metadata": {},
   "outputs": [],
   "source": [
    "# total fuel used by a car\n",
    "car_sales[\"Total fuel used (L)\"] = car_sales[\"Odometer (KM)\"] / 100 * car_sales[\"Fuel per 100KM\"]"
   ]
  },
  {
   "cell_type": "code",
   "execution_count": 64,
   "id": "d49b5c66",
   "metadata": {},
   "outputs": [
    {
     "data": {
      "text/plain": "     Make Colour  Odometer (KM)  Doors      Price  Seats  Fuel per 100KM  \\\n0  Toyota  White         150043      4   4,000.00    5.0             7.5   \n1   Honda    Red          87899      4   5,000.00    5.0             9.2   \n2  Toyota   Blue          32549      3   7,000.00    5.0             5.0   \n3     BMW  Black          11179      5  22,000.00    5.0             9.6   \n4  Nissan  White         213095      4   3,500.00    5.0             8.7   \n5  Toyota  Green          99213      4   4,500.00    5.0             4.7   \n6   Honda   Blue          45698      4   7,500.00    5.0             7.6   \n7   Honda   Blue          54738      4   7,000.00    5.0             8.7   \n8  Toyota  White          60000      4   6,250.00    5.0             3.0   \n9  Nissan  White          31600      4   9,700.00    5.0             4.5   \n\n   Total fuel used (L)  \n0            11253.225  \n1             8086.708  \n2             1627.450  \n3             1073.184  \n4            18539.265  \n5             4663.011  \n6             3473.048  \n7             4762.206  \n8             1800.000  \n9             1422.000  ",
      "text/html": "<div>\n<style scoped>\n    .dataframe tbody tr th:only-of-type {\n        vertical-align: middle;\n    }\n\n    .dataframe tbody tr th {\n        vertical-align: top;\n    }\n\n    .dataframe thead th {\n        text-align: right;\n    }\n</style>\n<table border=\"1\" class=\"dataframe\">\n  <thead>\n    <tr style=\"text-align: right;\">\n      <th></th>\n      <th>Make</th>\n      <th>Colour</th>\n      <th>Odometer (KM)</th>\n      <th>Doors</th>\n      <th>Price</th>\n      <th>Seats</th>\n      <th>Fuel per 100KM</th>\n      <th>Total fuel used (L)</th>\n    </tr>\n  </thead>\n  <tbody>\n    <tr>\n      <th>0</th>\n      <td>Toyota</td>\n      <td>White</td>\n      <td>150043</td>\n      <td>4</td>\n      <td>4,000.00</td>\n      <td>5.0</td>\n      <td>7.5</td>\n      <td>11253.225</td>\n    </tr>\n    <tr>\n      <th>1</th>\n      <td>Honda</td>\n      <td>Red</td>\n      <td>87899</td>\n      <td>4</td>\n      <td>5,000.00</td>\n      <td>5.0</td>\n      <td>9.2</td>\n      <td>8086.708</td>\n    </tr>\n    <tr>\n      <th>2</th>\n      <td>Toyota</td>\n      <td>Blue</td>\n      <td>32549</td>\n      <td>3</td>\n      <td>7,000.00</td>\n      <td>5.0</td>\n      <td>5.0</td>\n      <td>1627.450</td>\n    </tr>\n    <tr>\n      <th>3</th>\n      <td>BMW</td>\n      <td>Black</td>\n      <td>11179</td>\n      <td>5</td>\n      <td>22,000.00</td>\n      <td>5.0</td>\n      <td>9.6</td>\n      <td>1073.184</td>\n    </tr>\n    <tr>\n      <th>4</th>\n      <td>Nissan</td>\n      <td>White</td>\n      <td>213095</td>\n      <td>4</td>\n      <td>3,500.00</td>\n      <td>5.0</td>\n      <td>8.7</td>\n      <td>18539.265</td>\n    </tr>\n    <tr>\n      <th>5</th>\n      <td>Toyota</td>\n      <td>Green</td>\n      <td>99213</td>\n      <td>4</td>\n      <td>4,500.00</td>\n      <td>5.0</td>\n      <td>4.7</td>\n      <td>4663.011</td>\n    </tr>\n    <tr>\n      <th>6</th>\n      <td>Honda</td>\n      <td>Blue</td>\n      <td>45698</td>\n      <td>4</td>\n      <td>7,500.00</td>\n      <td>5.0</td>\n      <td>7.6</td>\n      <td>3473.048</td>\n    </tr>\n    <tr>\n      <th>7</th>\n      <td>Honda</td>\n      <td>Blue</td>\n      <td>54738</td>\n      <td>4</td>\n      <td>7,000.00</td>\n      <td>5.0</td>\n      <td>8.7</td>\n      <td>4762.206</td>\n    </tr>\n    <tr>\n      <th>8</th>\n      <td>Toyota</td>\n      <td>White</td>\n      <td>60000</td>\n      <td>4</td>\n      <td>6,250.00</td>\n      <td>5.0</td>\n      <td>3.0</td>\n      <td>1800.000</td>\n    </tr>\n    <tr>\n      <th>9</th>\n      <td>Nissan</td>\n      <td>White</td>\n      <td>31600</td>\n      <td>4</td>\n      <td>9,700.00</td>\n      <td>5.0</td>\n      <td>4.5</td>\n      <td>1422.000</td>\n    </tr>\n  </tbody>\n</table>\n</div>"
     },
     "execution_count": 64,
     "metadata": {},
     "output_type": "execute_result"
    }
   ],
   "source": [
    "car_sales"
   ]
  },
  {
   "cell_type": "code",
   "execution_count": 65,
   "id": "1cecba86",
   "metadata": {},
   "outputs": [],
   "source": [
    "# create a column from a single value\n",
    "car_sales[\"Number of wheels\"] = 4"
   ]
  },
  {
   "cell_type": "code",
   "execution_count": 66,
   "id": "1f9721d6",
   "metadata": {},
   "outputs": [
    {
     "data": {
      "text/plain": "     Make Colour  Odometer (KM)  Doors      Price  Seats  Fuel per 100KM  \\\n0  Toyota  White         150043      4   4,000.00    5.0             7.5   \n1   Honda    Red          87899      4   5,000.00    5.0             9.2   \n2  Toyota   Blue          32549      3   7,000.00    5.0             5.0   \n3     BMW  Black          11179      5  22,000.00    5.0             9.6   \n4  Nissan  White         213095      4   3,500.00    5.0             8.7   \n5  Toyota  Green          99213      4   4,500.00    5.0             4.7   \n6   Honda   Blue          45698      4   7,500.00    5.0             7.6   \n7   Honda   Blue          54738      4   7,000.00    5.0             8.7   \n8  Toyota  White          60000      4   6,250.00    5.0             3.0   \n9  Nissan  White          31600      4   9,700.00    5.0             4.5   \n\n   Total fuel used (L)  Number of wheels  \n0            11253.225                 4  \n1             8086.708                 4  \n2             1627.450                 4  \n3             1073.184                 4  \n4            18539.265                 4  \n5             4663.011                 4  \n6             3473.048                 4  \n7             4762.206                 4  \n8             1800.000                 4  \n9             1422.000                 4  ",
      "text/html": "<div>\n<style scoped>\n    .dataframe tbody tr th:only-of-type {\n        vertical-align: middle;\n    }\n\n    .dataframe tbody tr th {\n        vertical-align: top;\n    }\n\n    .dataframe thead th {\n        text-align: right;\n    }\n</style>\n<table border=\"1\" class=\"dataframe\">\n  <thead>\n    <tr style=\"text-align: right;\">\n      <th></th>\n      <th>Make</th>\n      <th>Colour</th>\n      <th>Odometer (KM)</th>\n      <th>Doors</th>\n      <th>Price</th>\n      <th>Seats</th>\n      <th>Fuel per 100KM</th>\n      <th>Total fuel used (L)</th>\n      <th>Number of wheels</th>\n    </tr>\n  </thead>\n  <tbody>\n    <tr>\n      <th>0</th>\n      <td>Toyota</td>\n      <td>White</td>\n      <td>150043</td>\n      <td>4</td>\n      <td>4,000.00</td>\n      <td>5.0</td>\n      <td>7.5</td>\n      <td>11253.225</td>\n      <td>4</td>\n    </tr>\n    <tr>\n      <th>1</th>\n      <td>Honda</td>\n      <td>Red</td>\n      <td>87899</td>\n      <td>4</td>\n      <td>5,000.00</td>\n      <td>5.0</td>\n      <td>9.2</td>\n      <td>8086.708</td>\n      <td>4</td>\n    </tr>\n    <tr>\n      <th>2</th>\n      <td>Toyota</td>\n      <td>Blue</td>\n      <td>32549</td>\n      <td>3</td>\n      <td>7,000.00</td>\n      <td>5.0</td>\n      <td>5.0</td>\n      <td>1627.450</td>\n      <td>4</td>\n    </tr>\n    <tr>\n      <th>3</th>\n      <td>BMW</td>\n      <td>Black</td>\n      <td>11179</td>\n      <td>5</td>\n      <td>22,000.00</td>\n      <td>5.0</td>\n      <td>9.6</td>\n      <td>1073.184</td>\n      <td>4</td>\n    </tr>\n    <tr>\n      <th>4</th>\n      <td>Nissan</td>\n      <td>White</td>\n      <td>213095</td>\n      <td>4</td>\n      <td>3,500.00</td>\n      <td>5.0</td>\n      <td>8.7</td>\n      <td>18539.265</td>\n      <td>4</td>\n    </tr>\n    <tr>\n      <th>5</th>\n      <td>Toyota</td>\n      <td>Green</td>\n      <td>99213</td>\n      <td>4</td>\n      <td>4,500.00</td>\n      <td>5.0</td>\n      <td>4.7</td>\n      <td>4663.011</td>\n      <td>4</td>\n    </tr>\n    <tr>\n      <th>6</th>\n      <td>Honda</td>\n      <td>Blue</td>\n      <td>45698</td>\n      <td>4</td>\n      <td>7,500.00</td>\n      <td>5.0</td>\n      <td>7.6</td>\n      <td>3473.048</td>\n      <td>4</td>\n    </tr>\n    <tr>\n      <th>7</th>\n      <td>Honda</td>\n      <td>Blue</td>\n      <td>54738</td>\n      <td>4</td>\n      <td>7,000.00</td>\n      <td>5.0</td>\n      <td>8.7</td>\n      <td>4762.206</td>\n      <td>4</td>\n    </tr>\n    <tr>\n      <th>8</th>\n      <td>Toyota</td>\n      <td>White</td>\n      <td>60000</td>\n      <td>4</td>\n      <td>6,250.00</td>\n      <td>5.0</td>\n      <td>3.0</td>\n      <td>1800.000</td>\n      <td>4</td>\n    </tr>\n    <tr>\n      <th>9</th>\n      <td>Nissan</td>\n      <td>White</td>\n      <td>31600</td>\n      <td>4</td>\n      <td>9,700.00</td>\n      <td>5.0</td>\n      <td>4.5</td>\n      <td>1422.000</td>\n      <td>4</td>\n    </tr>\n  </tbody>\n</table>\n</div>"
     },
     "execution_count": 66,
     "metadata": {},
     "output_type": "execute_result"
    }
   ],
   "source": [
    "car_sales"
   ]
  },
  {
   "cell_type": "code",
   "execution_count": 67,
   "id": "3f8e3c06",
   "metadata": {},
   "outputs": [],
   "source": [
    "car_sales[\"Passed route safety\"] = True"
   ]
  },
  {
   "cell_type": "code",
   "execution_count": 68,
   "id": "f4fe903e",
   "metadata": {},
   "outputs": [
    {
     "data": {
      "text/plain": "     Make Colour  Odometer (KM)  Doors      Price  Seats  Fuel per 100KM  \\\n0  Toyota  White         150043      4   4,000.00    5.0             7.5   \n1   Honda    Red          87899      4   5,000.00    5.0             9.2   \n2  Toyota   Blue          32549      3   7,000.00    5.0             5.0   \n3     BMW  Black          11179      5  22,000.00    5.0             9.6   \n4  Nissan  White         213095      4   3,500.00    5.0             8.7   \n5  Toyota  Green          99213      4   4,500.00    5.0             4.7   \n6   Honda   Blue          45698      4   7,500.00    5.0             7.6   \n7   Honda   Blue          54738      4   7,000.00    5.0             8.7   \n8  Toyota  White          60000      4   6,250.00    5.0             3.0   \n9  Nissan  White          31600      4   9,700.00    5.0             4.5   \n\n   Total fuel used (L)  Number of wheels  Passed route safety  \n0            11253.225                 4                 True  \n1             8086.708                 4                 True  \n2             1627.450                 4                 True  \n3             1073.184                 4                 True  \n4            18539.265                 4                 True  \n5             4663.011                 4                 True  \n6             3473.048                 4                 True  \n7             4762.206                 4                 True  \n8             1800.000                 4                 True  \n9             1422.000                 4                 True  ",
      "text/html": "<div>\n<style scoped>\n    .dataframe tbody tr th:only-of-type {\n        vertical-align: middle;\n    }\n\n    .dataframe tbody tr th {\n        vertical-align: top;\n    }\n\n    .dataframe thead th {\n        text-align: right;\n    }\n</style>\n<table border=\"1\" class=\"dataframe\">\n  <thead>\n    <tr style=\"text-align: right;\">\n      <th></th>\n      <th>Make</th>\n      <th>Colour</th>\n      <th>Odometer (KM)</th>\n      <th>Doors</th>\n      <th>Price</th>\n      <th>Seats</th>\n      <th>Fuel per 100KM</th>\n      <th>Total fuel used (L)</th>\n      <th>Number of wheels</th>\n      <th>Passed route safety</th>\n    </tr>\n  </thead>\n  <tbody>\n    <tr>\n      <th>0</th>\n      <td>Toyota</td>\n      <td>White</td>\n      <td>150043</td>\n      <td>4</td>\n      <td>4,000.00</td>\n      <td>5.0</td>\n      <td>7.5</td>\n      <td>11253.225</td>\n      <td>4</td>\n      <td>True</td>\n    </tr>\n    <tr>\n      <th>1</th>\n      <td>Honda</td>\n      <td>Red</td>\n      <td>87899</td>\n      <td>4</td>\n      <td>5,000.00</td>\n      <td>5.0</td>\n      <td>9.2</td>\n      <td>8086.708</td>\n      <td>4</td>\n      <td>True</td>\n    </tr>\n    <tr>\n      <th>2</th>\n      <td>Toyota</td>\n      <td>Blue</td>\n      <td>32549</td>\n      <td>3</td>\n      <td>7,000.00</td>\n      <td>5.0</td>\n      <td>5.0</td>\n      <td>1627.450</td>\n      <td>4</td>\n      <td>True</td>\n    </tr>\n    <tr>\n      <th>3</th>\n      <td>BMW</td>\n      <td>Black</td>\n      <td>11179</td>\n      <td>5</td>\n      <td>22,000.00</td>\n      <td>5.0</td>\n      <td>9.6</td>\n      <td>1073.184</td>\n      <td>4</td>\n      <td>True</td>\n    </tr>\n    <tr>\n      <th>4</th>\n      <td>Nissan</td>\n      <td>White</td>\n      <td>213095</td>\n      <td>4</td>\n      <td>3,500.00</td>\n      <td>5.0</td>\n      <td>8.7</td>\n      <td>18539.265</td>\n      <td>4</td>\n      <td>True</td>\n    </tr>\n    <tr>\n      <th>5</th>\n      <td>Toyota</td>\n      <td>Green</td>\n      <td>99213</td>\n      <td>4</td>\n      <td>4,500.00</td>\n      <td>5.0</td>\n      <td>4.7</td>\n      <td>4663.011</td>\n      <td>4</td>\n      <td>True</td>\n    </tr>\n    <tr>\n      <th>6</th>\n      <td>Honda</td>\n      <td>Blue</td>\n      <td>45698</td>\n      <td>4</td>\n      <td>7,500.00</td>\n      <td>5.0</td>\n      <td>7.6</td>\n      <td>3473.048</td>\n      <td>4</td>\n      <td>True</td>\n    </tr>\n    <tr>\n      <th>7</th>\n      <td>Honda</td>\n      <td>Blue</td>\n      <td>54738</td>\n      <td>4</td>\n      <td>7,000.00</td>\n      <td>5.0</td>\n      <td>8.7</td>\n      <td>4762.206</td>\n      <td>4</td>\n      <td>True</td>\n    </tr>\n    <tr>\n      <th>8</th>\n      <td>Toyota</td>\n      <td>White</td>\n      <td>60000</td>\n      <td>4</td>\n      <td>6,250.00</td>\n      <td>5.0</td>\n      <td>3.0</td>\n      <td>1800.000</td>\n      <td>4</td>\n      <td>True</td>\n    </tr>\n    <tr>\n      <th>9</th>\n      <td>Nissan</td>\n      <td>White</td>\n      <td>31600</td>\n      <td>4</td>\n      <td>9,700.00</td>\n      <td>5.0</td>\n      <td>4.5</td>\n      <td>1422.000</td>\n      <td>4</td>\n      <td>True</td>\n    </tr>\n  </tbody>\n</table>\n</div>"
     },
     "execution_count": 68,
     "metadata": {},
     "output_type": "execute_result"
    }
   ],
   "source": [
    "car_sales"
   ]
  },
  {
   "cell_type": "code",
   "execution_count": 69,
   "id": "65161c8b",
   "metadata": {},
   "outputs": [
    {
     "data": {
      "text/plain": "       Odometer (KM)      Doors  Seats  Fuel per 100KM  Total fuel used (L)  \\\ncount      10.000000  10.000000   10.0       10.000000            10.000000   \nmean    78601.400000   4.000000    5.0        6.850000          5670.009700   \nstd     61983.471735   0.471405    0.0        2.340584          5575.650508   \nmin     11179.000000   3.000000    5.0        3.000000          1073.184000   \n25%     35836.250000   4.000000    5.0        4.775000          1670.587500   \n50%     57369.000000   4.000000    5.0        7.550000          4068.029500   \n75%     96384.500000   4.000000    5.0        8.700000          7255.582500   \nmax    213095.000000   5.000000    5.0        9.600000         18539.265000   \n\n       Number of wheels  \ncount              10.0  \nmean                4.0  \nstd                 0.0  \nmin                 4.0  \n25%                 4.0  \n50%                 4.0  \n75%                 4.0  \nmax                 4.0  ",
      "text/html": "<div>\n<style scoped>\n    .dataframe tbody tr th:only-of-type {\n        vertical-align: middle;\n    }\n\n    .dataframe tbody tr th {\n        vertical-align: top;\n    }\n\n    .dataframe thead th {\n        text-align: right;\n    }\n</style>\n<table border=\"1\" class=\"dataframe\">\n  <thead>\n    <tr style=\"text-align: right;\">\n      <th></th>\n      <th>Odometer (KM)</th>\n      <th>Doors</th>\n      <th>Seats</th>\n      <th>Fuel per 100KM</th>\n      <th>Total fuel used (L)</th>\n      <th>Number of wheels</th>\n    </tr>\n  </thead>\n  <tbody>\n    <tr>\n      <th>count</th>\n      <td>10.000000</td>\n      <td>10.000000</td>\n      <td>10.0</td>\n      <td>10.000000</td>\n      <td>10.000000</td>\n      <td>10.0</td>\n    </tr>\n    <tr>\n      <th>mean</th>\n      <td>78601.400000</td>\n      <td>4.000000</td>\n      <td>5.0</td>\n      <td>6.850000</td>\n      <td>5670.009700</td>\n      <td>4.0</td>\n    </tr>\n    <tr>\n      <th>std</th>\n      <td>61983.471735</td>\n      <td>0.471405</td>\n      <td>0.0</td>\n      <td>2.340584</td>\n      <td>5575.650508</td>\n      <td>0.0</td>\n    </tr>\n    <tr>\n      <th>min</th>\n      <td>11179.000000</td>\n      <td>3.000000</td>\n      <td>5.0</td>\n      <td>3.000000</td>\n      <td>1073.184000</td>\n      <td>4.0</td>\n    </tr>\n    <tr>\n      <th>25%</th>\n      <td>35836.250000</td>\n      <td>4.000000</td>\n      <td>5.0</td>\n      <td>4.775000</td>\n      <td>1670.587500</td>\n      <td>4.0</td>\n    </tr>\n    <tr>\n      <th>50%</th>\n      <td>57369.000000</td>\n      <td>4.000000</td>\n      <td>5.0</td>\n      <td>7.550000</td>\n      <td>4068.029500</td>\n      <td>4.0</td>\n    </tr>\n    <tr>\n      <th>75%</th>\n      <td>96384.500000</td>\n      <td>4.000000</td>\n      <td>5.0</td>\n      <td>8.700000</td>\n      <td>7255.582500</td>\n      <td>4.0</td>\n    </tr>\n    <tr>\n      <th>max</th>\n      <td>213095.000000</td>\n      <td>5.000000</td>\n      <td>5.0</td>\n      <td>9.600000</td>\n      <td>18539.265000</td>\n      <td>4.0</td>\n    </tr>\n  </tbody>\n</table>\n</div>"
     },
     "execution_count": 69,
     "metadata": {},
     "output_type": "execute_result"
    }
   ],
   "source": [
    "car_sales.describe()"
   ]
  },
  {
   "cell_type": "code",
   "execution_count": 70,
   "id": "e5a646e9",
   "metadata": {},
   "outputs": [
    {
     "name": "stdout",
     "output_type": "stream",
     "text": [
      "<class 'pandas.core.frame.DataFrame'>\n",
      "RangeIndex: 10 entries, 0 to 9\n",
      "Data columns (total 10 columns):\n",
      " #   Column               Non-Null Count  Dtype  \n",
      "---  ------               --------------  -----  \n",
      " 0   Make                 10 non-null     object \n",
      " 1   Colour               10 non-null     object \n",
      " 2   Odometer (KM)        10 non-null     int64  \n",
      " 3   Doors                10 non-null     int64  \n",
      " 4   Price                10 non-null     object \n",
      " 5   Seats                10 non-null     float64\n",
      " 6   Fuel per 100KM       10 non-null     float64\n",
      " 7   Total fuel used (L)  10 non-null     float64\n",
      " 8   Number of wheels     10 non-null     int64  \n",
      " 9   Passed route safety  10 non-null     bool   \n",
      "dtypes: bool(1), float64(3), int64(3), object(3)\n",
      "memory usage: 858.0+ bytes\n"
     ]
    }
   ],
   "source": [
    "car_sales.info()"
   ]
  },
  {
   "cell_type": "code",
   "execution_count": 71,
   "id": "8c48ad03",
   "metadata": {},
   "outputs": [
    {
     "data": {
      "text/plain": "     Make Colour  Odometer (KM)  Doors      Price  Seats  Fuel per 100KM  \\\n0  Toyota  White         150043      4   4,000.00    5.0             7.5   \n1   Honda    Red          87899      4   5,000.00    5.0             9.2   \n2  Toyota   Blue          32549      3   7,000.00    5.0             5.0   \n3     BMW  Black          11179      5  22,000.00    5.0             9.6   \n4  Nissan  White         213095      4   3,500.00    5.0             8.7   \n5  Toyota  Green          99213      4   4,500.00    5.0             4.7   \n6   Honda   Blue          45698      4   7,500.00    5.0             7.6   \n7   Honda   Blue          54738      4   7,000.00    5.0             8.7   \n8  Toyota  White          60000      4   6,250.00    5.0             3.0   \n9  Nissan  White          31600      4   9,700.00    5.0             4.5   \n\n   Total fuel used (L)  Number of wheels  Passed route safety  \n0            11253.225                 4                 True  \n1             8086.708                 4                 True  \n2             1627.450                 4                 True  \n3             1073.184                 4                 True  \n4            18539.265                 4                 True  \n5             4663.011                 4                 True  \n6             3473.048                 4                 True  \n7             4762.206                 4                 True  \n8             1800.000                 4                 True  \n9             1422.000                 4                 True  ",
      "text/html": "<div>\n<style scoped>\n    .dataframe tbody tr th:only-of-type {\n        vertical-align: middle;\n    }\n\n    .dataframe tbody tr th {\n        vertical-align: top;\n    }\n\n    .dataframe thead th {\n        text-align: right;\n    }\n</style>\n<table border=\"1\" class=\"dataframe\">\n  <thead>\n    <tr style=\"text-align: right;\">\n      <th></th>\n      <th>Make</th>\n      <th>Colour</th>\n      <th>Odometer (KM)</th>\n      <th>Doors</th>\n      <th>Price</th>\n      <th>Seats</th>\n      <th>Fuel per 100KM</th>\n      <th>Total fuel used (L)</th>\n      <th>Number of wheels</th>\n      <th>Passed route safety</th>\n    </tr>\n  </thead>\n  <tbody>\n    <tr>\n      <th>0</th>\n      <td>Toyota</td>\n      <td>White</td>\n      <td>150043</td>\n      <td>4</td>\n      <td>4,000.00</td>\n      <td>5.0</td>\n      <td>7.5</td>\n      <td>11253.225</td>\n      <td>4</td>\n      <td>True</td>\n    </tr>\n    <tr>\n      <th>1</th>\n      <td>Honda</td>\n      <td>Red</td>\n      <td>87899</td>\n      <td>4</td>\n      <td>5,000.00</td>\n      <td>5.0</td>\n      <td>9.2</td>\n      <td>8086.708</td>\n      <td>4</td>\n      <td>True</td>\n    </tr>\n    <tr>\n      <th>2</th>\n      <td>Toyota</td>\n      <td>Blue</td>\n      <td>32549</td>\n      <td>3</td>\n      <td>7,000.00</td>\n      <td>5.0</td>\n      <td>5.0</td>\n      <td>1627.450</td>\n      <td>4</td>\n      <td>True</td>\n    </tr>\n    <tr>\n      <th>3</th>\n      <td>BMW</td>\n      <td>Black</td>\n      <td>11179</td>\n      <td>5</td>\n      <td>22,000.00</td>\n      <td>5.0</td>\n      <td>9.6</td>\n      <td>1073.184</td>\n      <td>4</td>\n      <td>True</td>\n    </tr>\n    <tr>\n      <th>4</th>\n      <td>Nissan</td>\n      <td>White</td>\n      <td>213095</td>\n      <td>4</td>\n      <td>3,500.00</td>\n      <td>5.0</td>\n      <td>8.7</td>\n      <td>18539.265</td>\n      <td>4</td>\n      <td>True</td>\n    </tr>\n    <tr>\n      <th>5</th>\n      <td>Toyota</td>\n      <td>Green</td>\n      <td>99213</td>\n      <td>4</td>\n      <td>4,500.00</td>\n      <td>5.0</td>\n      <td>4.7</td>\n      <td>4663.011</td>\n      <td>4</td>\n      <td>True</td>\n    </tr>\n    <tr>\n      <th>6</th>\n      <td>Honda</td>\n      <td>Blue</td>\n      <td>45698</td>\n      <td>4</td>\n      <td>7,500.00</td>\n      <td>5.0</td>\n      <td>7.6</td>\n      <td>3473.048</td>\n      <td>4</td>\n      <td>True</td>\n    </tr>\n    <tr>\n      <th>7</th>\n      <td>Honda</td>\n      <td>Blue</td>\n      <td>54738</td>\n      <td>4</td>\n      <td>7,000.00</td>\n      <td>5.0</td>\n      <td>8.7</td>\n      <td>4762.206</td>\n      <td>4</td>\n      <td>True</td>\n    </tr>\n    <tr>\n      <th>8</th>\n      <td>Toyota</td>\n      <td>White</td>\n      <td>60000</td>\n      <td>4</td>\n      <td>6,250.00</td>\n      <td>5.0</td>\n      <td>3.0</td>\n      <td>1800.000</td>\n      <td>4</td>\n      <td>True</td>\n    </tr>\n    <tr>\n      <th>9</th>\n      <td>Nissan</td>\n      <td>White</td>\n      <td>31600</td>\n      <td>4</td>\n      <td>9,700.00</td>\n      <td>5.0</td>\n      <td>4.5</td>\n      <td>1422.000</td>\n      <td>4</td>\n      <td>True</td>\n    </tr>\n  </tbody>\n</table>\n</div>"
     },
     "execution_count": 71,
     "metadata": {},
     "output_type": "execute_result"
    }
   ],
   "source": [
    "car_sales"
   ]
  },
  {
   "cell_type": "code",
   "execution_count": 72,
   "id": "10bbcf4d",
   "metadata": {},
   "outputs": [
    {
     "name": "stderr",
     "output_type": "stream",
     "text": [
      "C:\\Users\\tchio\\AppData\\Local\\Temp/ipykernel_972/3671943592.py:1: FutureWarning: The default value of regex will change from True to False in a future version.\n",
      "  car_sales[\"Price\"] = car_sales[\"Price\"].str.replace('[\\,]','').astype(float)\n"
     ]
    }
   ],
   "source": [
    "car_sales[\"Price\"] = car_sales[\"Price\"].str.replace('[\\,]', '').astype(float)"
   ]
  },
  {
   "cell_type": "code",
   "execution_count": 73,
   "id": "e3d69cea",
   "metadata": {},
   "outputs": [
    {
     "data": {
      "text/plain": "dtype('float64')"
     },
     "execution_count": 73,
     "metadata": {},
     "output_type": "execute_result"
    }
   ],
   "source": [
    "car_sales.Price.dtypes"
   ]
  },
  {
   "cell_type": "code",
   "execution_count": 74,
   "id": "540d81f0",
   "metadata": {},
   "outputs": [],
   "source": [
    "# dropping a column\n",
    "# columns are on axis = 1, that's why we must precise it\n",
    "# as for rows, they're on axis = 0\n",
    "car_sales.drop(\"Number of wheels\", axis=1, inplace=True)"
   ]
  },
  {
   "cell_type": "code",
   "execution_count": 75,
   "id": "a62d6347",
   "metadata": {},
   "outputs": [],
   "source": [
    "# shuffling the dataframe's rows with sample method\n",
    "# frac represents the percentage of data to retrieve (EX: frac = 0.5 => 50%)\n",
    "shuffled_car_sales = car_sales.sample(frac=1)"
   ]
  },
  {
   "cell_type": "code",
   "execution_count": 76,
   "id": "8c96c71e",
   "metadata": {},
   "outputs": [],
   "source": [
    "# reorganizing indexes and dropping shuffled index with reset_index\n",
    "shuffled_car_sales.reset_index(drop=True, inplace=True)"
   ]
  },
  {
   "cell_type": "code",
   "execution_count": 77,
   "id": "3c7ceddf",
   "metadata": {},
   "outputs": [
    {
     "data": {
      "text/plain": "     Make Colour  Odometer (KM)  Doors    Price  Seats  Fuel per 100KM  \\\n0     BMW  Black          11179      5  22000.0    5.0             9.6   \n1  Toyota  Green          99213      4   4500.0    5.0             4.7   \n2  Toyota   Blue          32549      3   7000.0    5.0             5.0   \n3  Toyota  White         150043      4   4000.0    5.0             7.5   \n4   Honda   Blue          45698      4   7500.0    5.0             7.6   \n5  Nissan  White          31600      4   9700.0    5.0             4.5   \n6   Honda    Red          87899      4   5000.0    5.0             9.2   \n7   Honda   Blue          54738      4   7000.0    5.0             8.7   \n8  Nissan  White         213095      4   3500.0    5.0             8.7   \n9  Toyota  White          60000      4   6250.0    5.0             3.0   \n\n   Total fuel used (L)  Passed route safety  \n0             1073.184                 True  \n1             4663.011                 True  \n2             1627.450                 True  \n3            11253.225                 True  \n4             3473.048                 True  \n5             1422.000                 True  \n6             8086.708                 True  \n7             4762.206                 True  \n8            18539.265                 True  \n9             1800.000                 True  ",
      "text/html": "<div>\n<style scoped>\n    .dataframe tbody tr th:only-of-type {\n        vertical-align: middle;\n    }\n\n    .dataframe tbody tr th {\n        vertical-align: top;\n    }\n\n    .dataframe thead th {\n        text-align: right;\n    }\n</style>\n<table border=\"1\" class=\"dataframe\">\n  <thead>\n    <tr style=\"text-align: right;\">\n      <th></th>\n      <th>Make</th>\n      <th>Colour</th>\n      <th>Odometer (KM)</th>\n      <th>Doors</th>\n      <th>Price</th>\n      <th>Seats</th>\n      <th>Fuel per 100KM</th>\n      <th>Total fuel used (L)</th>\n      <th>Passed route safety</th>\n    </tr>\n  </thead>\n  <tbody>\n    <tr>\n      <th>0</th>\n      <td>BMW</td>\n      <td>Black</td>\n      <td>11179</td>\n      <td>5</td>\n      <td>22000.0</td>\n      <td>5.0</td>\n      <td>9.6</td>\n      <td>1073.184</td>\n      <td>True</td>\n    </tr>\n    <tr>\n      <th>1</th>\n      <td>Toyota</td>\n      <td>Green</td>\n      <td>99213</td>\n      <td>4</td>\n      <td>4500.0</td>\n      <td>5.0</td>\n      <td>4.7</td>\n      <td>4663.011</td>\n      <td>True</td>\n    </tr>\n    <tr>\n      <th>2</th>\n      <td>Toyota</td>\n      <td>Blue</td>\n      <td>32549</td>\n      <td>3</td>\n      <td>7000.0</td>\n      <td>5.0</td>\n      <td>5.0</td>\n      <td>1627.450</td>\n      <td>True</td>\n    </tr>\n    <tr>\n      <th>3</th>\n      <td>Toyota</td>\n      <td>White</td>\n      <td>150043</td>\n      <td>4</td>\n      <td>4000.0</td>\n      <td>5.0</td>\n      <td>7.5</td>\n      <td>11253.225</td>\n      <td>True</td>\n    </tr>\n    <tr>\n      <th>4</th>\n      <td>Honda</td>\n      <td>Blue</td>\n      <td>45698</td>\n      <td>4</td>\n      <td>7500.0</td>\n      <td>5.0</td>\n      <td>7.6</td>\n      <td>3473.048</td>\n      <td>True</td>\n    </tr>\n    <tr>\n      <th>5</th>\n      <td>Nissan</td>\n      <td>White</td>\n      <td>31600</td>\n      <td>4</td>\n      <td>9700.0</td>\n      <td>5.0</td>\n      <td>4.5</td>\n      <td>1422.000</td>\n      <td>True</td>\n    </tr>\n    <tr>\n      <th>6</th>\n      <td>Honda</td>\n      <td>Red</td>\n      <td>87899</td>\n      <td>4</td>\n      <td>5000.0</td>\n      <td>5.0</td>\n      <td>9.2</td>\n      <td>8086.708</td>\n      <td>True</td>\n    </tr>\n    <tr>\n      <th>7</th>\n      <td>Honda</td>\n      <td>Blue</td>\n      <td>54738</td>\n      <td>4</td>\n      <td>7000.0</td>\n      <td>5.0</td>\n      <td>8.7</td>\n      <td>4762.206</td>\n      <td>True</td>\n    </tr>\n    <tr>\n      <th>8</th>\n      <td>Nissan</td>\n      <td>White</td>\n      <td>213095</td>\n      <td>4</td>\n      <td>3500.0</td>\n      <td>5.0</td>\n      <td>8.7</td>\n      <td>18539.265</td>\n      <td>True</td>\n    </tr>\n    <tr>\n      <th>9</th>\n      <td>Toyota</td>\n      <td>White</td>\n      <td>60000</td>\n      <td>4</td>\n      <td>6250.0</td>\n      <td>5.0</td>\n      <td>3.0</td>\n      <td>1800.000</td>\n      <td>True</td>\n    </tr>\n  </tbody>\n</table>\n</div>"
     },
     "execution_count": 77,
     "metadata": {},
     "output_type": "execute_result"
    }
   ],
   "source": [
    "shuffled_car_sales"
   ]
  },
  {
   "cell_type": "code",
   "execution_count": 78,
   "id": "4dfeb76b",
   "metadata": {},
   "outputs": [],
   "source": [
    "# applying a function on a column with the \"apply()\" method\n",
    "car_sales[\"Odometer (KM)\"] = car_sales[\"Odometer (KM)\"].apply(lambda x: x / 1.6)"
   ]
  },
  {
   "cell_type": "code",
   "execution_count": 79,
   "id": "09b02e17",
   "metadata": {
    "scrolled": true,
    "pycharm": {
     "name": "#%%\n"
    }
   },
   "outputs": [
    {
     "data": {
      "text/plain": "     Make Colour  Odometer (KM)  Doors    Price  Seats  Fuel per 100KM  \\\n0  Toyota  White      93776.875      4   4000.0    5.0             7.5   \n1   Honda    Red      54936.875      4   5000.0    5.0             9.2   \n2  Toyota   Blue      20343.125      3   7000.0    5.0             5.0   \n3     BMW  Black       6986.875      5  22000.0    5.0             9.6   \n4  Nissan  White     133184.375      4   3500.0    5.0             8.7   \n5  Toyota  Green      62008.125      4   4500.0    5.0             4.7   \n6   Honda   Blue      28561.250      4   7500.0    5.0             7.6   \n7   Honda   Blue      34211.250      4   7000.0    5.0             8.7   \n8  Toyota  White      37500.000      4   6250.0    5.0             3.0   \n9  Nissan  White      19750.000      4   9700.0    5.0             4.5   \n\n   Total fuel used (L)  Passed route safety  \n0            11253.225                 True  \n1             8086.708                 True  \n2             1627.450                 True  \n3             1073.184                 True  \n4            18539.265                 True  \n5             4663.011                 True  \n6             3473.048                 True  \n7             4762.206                 True  \n8             1800.000                 True  \n9             1422.000                 True  ",
      "text/html": "<div>\n<style scoped>\n    .dataframe tbody tr th:only-of-type {\n        vertical-align: middle;\n    }\n\n    .dataframe tbody tr th {\n        vertical-align: top;\n    }\n\n    .dataframe thead th {\n        text-align: right;\n    }\n</style>\n<table border=\"1\" class=\"dataframe\">\n  <thead>\n    <tr style=\"text-align: right;\">\n      <th></th>\n      <th>Make</th>\n      <th>Colour</th>\n      <th>Odometer (KM)</th>\n      <th>Doors</th>\n      <th>Price</th>\n      <th>Seats</th>\n      <th>Fuel per 100KM</th>\n      <th>Total fuel used (L)</th>\n      <th>Passed route safety</th>\n    </tr>\n  </thead>\n  <tbody>\n    <tr>\n      <th>0</th>\n      <td>Toyota</td>\n      <td>White</td>\n      <td>93776.875</td>\n      <td>4</td>\n      <td>4000.0</td>\n      <td>5.0</td>\n      <td>7.5</td>\n      <td>11253.225</td>\n      <td>True</td>\n    </tr>\n    <tr>\n      <th>1</th>\n      <td>Honda</td>\n      <td>Red</td>\n      <td>54936.875</td>\n      <td>4</td>\n      <td>5000.0</td>\n      <td>5.0</td>\n      <td>9.2</td>\n      <td>8086.708</td>\n      <td>True</td>\n    </tr>\n    <tr>\n      <th>2</th>\n      <td>Toyota</td>\n      <td>Blue</td>\n      <td>20343.125</td>\n      <td>3</td>\n      <td>7000.0</td>\n      <td>5.0</td>\n      <td>5.0</td>\n      <td>1627.450</td>\n      <td>True</td>\n    </tr>\n    <tr>\n      <th>3</th>\n      <td>BMW</td>\n      <td>Black</td>\n      <td>6986.875</td>\n      <td>5</td>\n      <td>22000.0</td>\n      <td>5.0</td>\n      <td>9.6</td>\n      <td>1073.184</td>\n      <td>True</td>\n    </tr>\n    <tr>\n      <th>4</th>\n      <td>Nissan</td>\n      <td>White</td>\n      <td>133184.375</td>\n      <td>4</td>\n      <td>3500.0</td>\n      <td>5.0</td>\n      <td>8.7</td>\n      <td>18539.265</td>\n      <td>True</td>\n    </tr>\n    <tr>\n      <th>5</th>\n      <td>Toyota</td>\n      <td>Green</td>\n      <td>62008.125</td>\n      <td>4</td>\n      <td>4500.0</td>\n      <td>5.0</td>\n      <td>4.7</td>\n      <td>4663.011</td>\n      <td>True</td>\n    </tr>\n    <tr>\n      <th>6</th>\n      <td>Honda</td>\n      <td>Blue</td>\n      <td>28561.250</td>\n      <td>4</td>\n      <td>7500.0</td>\n      <td>5.0</td>\n      <td>7.6</td>\n      <td>3473.048</td>\n      <td>True</td>\n    </tr>\n    <tr>\n      <th>7</th>\n      <td>Honda</td>\n      <td>Blue</td>\n      <td>34211.250</td>\n      <td>4</td>\n      <td>7000.0</td>\n      <td>5.0</td>\n      <td>8.7</td>\n      <td>4762.206</td>\n      <td>True</td>\n    </tr>\n    <tr>\n      <th>8</th>\n      <td>Toyota</td>\n      <td>White</td>\n      <td>37500.000</td>\n      <td>4</td>\n      <td>6250.0</td>\n      <td>5.0</td>\n      <td>3.0</td>\n      <td>1800.000</td>\n      <td>True</td>\n    </tr>\n    <tr>\n      <th>9</th>\n      <td>Nissan</td>\n      <td>White</td>\n      <td>19750.000</td>\n      <td>4</td>\n      <td>9700.0</td>\n      <td>5.0</td>\n      <td>4.5</td>\n      <td>1422.000</td>\n      <td>True</td>\n    </tr>\n  </tbody>\n</table>\n</div>"
     },
     "execution_count": 79,
     "metadata": {},
     "output_type": "execute_result"
    }
   ],
   "source": [
    "car_sales"
   ]
  }
 ],
 "metadata": {
  "kernelspec": {
   "display_name": "Python 3 (ipykernel)",
   "language": "python",
   "name": "python3"
  },
  "language_info": {
   "codemirror_mode": {
    "name": "ipython",
    "version": 3
   },
   "file_extension": ".py",
   "mimetype": "text/x-python",
   "name": "python",
   "nbconvert_exporter": "python",
   "pygments_lexer": "ipython3",
   "version": "3.9.7"
  }
 },
 "nbformat": 4,
 "nbformat_minor": 5
}